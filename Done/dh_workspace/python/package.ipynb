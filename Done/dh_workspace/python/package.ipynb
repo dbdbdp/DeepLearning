{
 "cells": [
  {
   "cell_type": "code",
   "execution_count": 2,
   "metadata": {},
   "outputs": [
    {
     "data": {
      "text/plain": [
       "'\\ngame/\\n    __init__.py\\n    sound/\\n        __init__.py\\n        echo.py\\n        wav.py\\n    graphic/\\n        __init__.py\\n        screen.py\\n        render.py\\n    play/\\n        __init__.py\\n        run.py\\n        test.py\\n'"
      ]
     },
     "execution_count": 2,
     "metadata": {},
     "output_type": "execute_result"
    }
   ],
   "source": [
    "# 파이썬에서 패키지(packages)란 관련 있는 모듈의 집합을 말한다. \n",
    "# 패키지는 파이썬 모듈을 계층적(디렉터리 구조)으로 관리할 수 있게 해 준다.\n",
    "# 파이썬 패키지는 디렉터리와 파이썬 모듈로 이루어진다. 다음은 필자가 임의로 그려 본 game이라는 파이썬 패키지의 구조이다.\n",
    "\n",
    "# 가상의 game 패키지 예\n",
    "\n",
    "\"\"\"\n",
    "game/\n",
    "    __init__.py\n",
    "    sound/\n",
    "        __init__.py\n",
    "        echo.py\n",
    "        wav.py\n",
    "    graphic/\n",
    "        __init__.py\n",
    "        screen.py\n",
    "        render.py\n",
    "    play/\n",
    "        __init__.py\n",
    "        run.py\n",
    "        test.py\n",
    "\"\"\"\n",
    "\n",
    "# game, sound, graphic, play는 디렉터리, 확장자가 .py인 파일은 파이썬 모듈이다.\n",
    "# game 디렉터리가 이 패키지의 루트 디렉터리, sound, graphic, play는 서브 디렉터리이다.\n",
    "\n",
    "# 간단한 파이썬 프로그램이 아니라면 이렇게 패키지 구조로 파이썬 프로그램을 만드는 것이 공동 작업이나 유지 보수 등 여러 면에서 유리하다.\n",
    "# 또한 패키지 구조로 모듈을 만들면 다른 모듈과 이름이 겹치더라도 더 안전하게 사용할 수 있다.\n",
    "\n",
    "#참고: __init__.py 파일은 조금 특이한 용도로 사용하는데, 뒤에서 자세하게 다룬다.\n",
    "\n",
    "\n",
    "#참고로 다음 파일들을 doit폴더 안에 만들겠다"
   ]
  },
  {
   "cell_type": "markdown",
   "metadata": {},
   "source": [
    "첫번째 방법: 그냥 import 하기"
   ]
  },
  {
   "cell_type": "markdown",
   "metadata": {},
   "source": [
    "```powershell\n",
    "PS C:\\git_experiment\\RWL_Intern> $env:PYTHONPATH=\"C:\\git_experiment\\RWL_Intern\\dh_workspace\\python\\doit\"\n",
    "PS C:\\git_experiment\\RWL_Intern> python\n",
    "Python 3.12.7 | packaged by Anaconda, Inc. | (main, Oct  4 2024, 13:17:27) [MSC v.1929 64 bit (AMD64)] on win32\n",
    "Type \"help\", \"copyright\", \"credits\" or \"license\" for more information.\n",
    ">>> import doit.game.sound.echo\n",
    ">>> doit.game.sound.echo.echo_test()\n",
    "```\n",
    "\n",
    "결과는\n",
    "> echo"
   ]
  },
  {
   "cell_type": "markdown",
   "metadata": {},
   "source": [
    "\n",
    "또는\n"
   ]
  },
  {
   "cell_type": "markdown",
   "metadata": {},
   "source": [
    "두번째 방법: echo 모듈이 있는 디렉터리까지를 from ... import하여 실행하는 방법"
   ]
  },
  {
   "cell_type": "markdown",
   "metadata": {},
   "source": [
    "```powershell\n",
    "PS C:\\git_experiment\\RWL_Intern> $env:PYTHONPATH=\"C:\\git_experiment\\RWL_Intern\\dh_workspace\\python\\doit\"\n",
    "PS C:\\git_experiment\\RWL_Intern> python\n",
    "Python 3.12.7 | packaged by Anaconda, Inc. | (main, Oct  4 2024, 13:17:27) [MSC v.1929 64 bit (AMD64)] on win32\n",
    "Type \"help\", \"copyright\", \"credits\" or \"license\" for more information.\n",
    ">>> from game.sound import echo\n",
    ">>> echo.echo_test()\n",
    "```\n",
    ">echo"
   ]
  },
  {
   "cell_type": "markdown",
   "metadata": {},
   "source": [
    "세번째: echo 모듈의 echo_test 함수를 직접 import하여 실행하는 방법이다."
   ]
  },
  {
   "cell_type": "markdown",
   "metadata": {},
   "source": [
    "```powershell\n",
    ">>> from game.sound.echo import echo_test\n",
    ">>> echo_test()\n",
    "echo\n",
    "```"
   ]
  },
  {
   "cell_type": "markdown",
   "metadata": {},
   "source": [
    "이렇게는 하면 안된다.\n",
    "\n",
    "```powershell\n",
    ">>> import game\n",
    ">>> game.sound.echo.echo_test()\n",
    "Traceback (most recent call last):\n",
    "    File \"<stdin>\", line 1, in <module>\n",
    "AttributeError: 'module' object has no attribute 'sound'\n",
    "```\n",
    "\n",
    "*import game을 수행하면 game 디렉터리의 __init__.py에 정의한 것만 참조할 수 있다.*"
   ]
  },
  {
   "cell_type": "markdown",
   "metadata": {},
   "source": [
    "이거도 안된다\n",
    "\n",
    "```powershell\n",
    ">>> import game.sound.echo.echo_test\n",
    "Traceback (most recent call last):\n",
    "    File \"<stdin>\", line 1, in <module>\n",
    "ModuleNotFoundError: No module named 'game.sound.echo.echo_test'; 'game.sound.echo' is not a package\n",
    "```\n",
    "\n",
    "도트 연산자(.)를 사용해서 import a.b.c처럼 import할 때 가장 마지막 항목인 c는 반드시 모듈 또는 패키지여야만 한다."
   ]
  },
  {
   "cell_type": "markdown",
   "metadata": {},
   "source": [
    "# __init__.py의 용도\n",
    "\n",
    "__init__.py 파일은 해당 디렉터리가 패키지의 일부임을 알려 주는 역할을 한다. 만약 game, sound, graphic 등 패키지에 포함된 디렉터리에 __init__.py 파일이 없다면 패키지로 인식되지 않는다.\n",
    "\n",
    "> python 3.3 버전부터는 __init__.py 파일이 없어도 패키지로 인식한다(PEP 420). 하지만 하위 버전 호환을 위해 __init__.py 파일을 생성하는 것이 안전한 방법이다.\n",
    "\n",
    "또한, __init__.py 파일은 패키지와 관련된 설정이나 초기화 코드를 포함할 수 있다. 다양한 방법으로 활용할 수 있는데, 몇 가지 예를 들어 살펴보자.\n",
    "\n",
    "> 다음에 나오는 예제는 __init__.py 파일을 수정한 후 반드시 파이썬 인터프리터를 종료하고 다시 실행해야 한다.\n",
    "\n",
    "## 패키지 변수 및 함수 정의\n",
    "\n",
    "패키지 수준에서 변수와 함수를 정의할 수 있다. 예를 들어, game 패키지의 __init__.py 파일에 공통 변수나 함수를 정의할 수 있다.(game패키지의 __init__.py를 봐라.)\n",
    "```python\n",
    "# C:/doit/game/__init__.py\n",
    "from .graphic.render import render_test\n",
    "\n",
    "VERSION = 3.5\n",
    "\n",
    "def print_version_info():\n",
    "    print(f\"The version of this game is {VERSION}.\")\n",
    "    \n",
    "```\n",
    "\n",
    "\n",
    "패키지의 __init__.py 파일에 정의된 변수와 함수는 다음과 같이 사용할 수 있다.\n",
    "\n",
    "```powershell\n",
    ">>> import game\n",
    ">>> print(game.VERSION)\n",
    "3.5\n",
    ">>> game.print_version_info()\n",
    "The version of this game is 3.5.\n",
    "```"
   ]
  },
  {
   "cell_type": "markdown",
   "metadata": {},
   "source": [
    "## 패키지 내 모듈을 미리 import\n",
    "\n",
    "__init__.py 파일에 패키지 내의 다른 모듈을 미리 import하여 패키지를 사용하는 코드에서 간편하게 접근할 수 있게 한다.\n",
    "\n",
    "```python\n",
    "# C:/doit/game/__init__.py\n",
    "from .graphic.render import render_test\n",
    "\n",
    "VERSION = 3.5\n",
    "\n",
    "def print_version_info():\n",
    "    print(f\"The version of this game is {VERSION}.\")\n",
    "\n",
    "```\n",
    "\n",
    "> from .graphic.render import render_test 문장에서 .graphic.render에 사용한 맨 앞의 .은 현재 디렉터리를 의미한다. 이에 대해서는 뒤에서 자세히 알아본다.\n",
    "\n",
    "그러고 나서\n",
    "\n",
    "```powershell\n",
    "import game\n",
    "game.render_test()\n",
    "```\n",
    "\n",
    ">render"
   ]
  },
  {
   "cell_type": "markdown",
   "metadata": {},
   "source": [
    "## 패키지 초기화\n",
    "\n",
    "__init__.py 파일에 패키지를 처음 불러올 때 실행되어야 하는 코드를 작성할 수 있다.\n",
    "\n",
    "```python\n",
    "# C:/doit/game/__init__.py\n",
    "from .graphic.render import render_test\n",
    "\n",
    "VERSION = 3.5\n",
    "\n",
    "def print_version_info():\n",
    "    print(f\"The version of this game is {VERSION}.\")\n",
    "\n",
    "# 여기에 패키지 초기화 코드를 작성한다.\n",
    "print(\"Initializing game ...\")\n",
    "```\n",
    "\n",
    "이렇게 하면\n",
    "\n",
    "```powershell\n",
    ">>> import game\n",
    "Initializing game ...\n",
    "```\n",
    "\n",
    "이렇게 된다.\n",
    "\n",
    "하위 모듈을 import해도 똑같다.\n",
    "\n",
    "```powershell\n",
    ">>> from game.graphic.render import render_test\n",
    "Initializing game ...\n",
    ">>>\n",
    "```\n",
    "\n",
    "단, 초기화 코드는 한 번 실행된 후에는 다시 import를 수행하더라도 실행되지 않는다. 예를 들어 다음과 같이 game 패키지를 import한 후에 하위 모듈을 다시 import 하더라도 초기화 코드는 처음 한 번만 실행된다.\n",
    "\n",
    "```powershell\n",
    ">>> import game\n",
    "Initializing game ...\n",
    ">>> from game.graphic.render import render_test\n",
    ">>>\n",
    "```"
   ]
  },
  {
   "cell_type": "markdown",
   "metadata": {},
   "source": [
    "# __all__\n",
    "\n",
    "```powershell\n",
    ">>> from game.sound import *\n",
    "Initializing game ...\n",
    ">>> echo.echo_test()\n",
    "Traceback (most recent call last):\n",
    "    File \"<stdin>\", line 1, in <module>\n",
    "NameError: name 'echo' is not defined\n",
    "```\n",
    "\n",
    " game.sound 패키지에서 모든 것(*)을 import했으므로 echo 모듈을 사용할 수 있어야 할 것 같은데, echo라는 이름이 정의되지 않았다는 오류가 발생했다.\n",
    "\n",
    " 이렇게 특정 디렉터리의 모듈을 *를 사용하여 import할 때는 다음과 같이 해당 디렉터리의 __init__.py 파일에 __all__ 변수를 설정하고 import할 수 있는 모듈을 정의해 주어야 한다.\n",
    "\n",
    " ```python\n",
    " # C:/doit/game/sound/__init__.py\n",
    "__all__ = ['echo']\n",
    "```\n",
    "\n",
    "**결국 \\*는 \\_\\_all\\_\\_ 리스트에 정의된 리스트만 import 한다.**\n",
    "\n",
    "\n",
    "이후의 결과는 다음과 같다.\n",
    "\n",
    "```powershell\n",
    "\n",
    ">>> from game.sound import * \n",
    ">>> echo.echo_test()         \n",
    "echo\n",
    "\n",
    "```\n"
   ]
  },
  {
   "cell_type": "markdown",
   "metadata": {},
   "source": [
    "## relative 패키지\n",
    "\n",
    "만약 graphic 디렉터리의 render.py 모듈에서 sound 디렉터리의 echo.py 모듈을 사용하고 싶다면 어떻게 해야 할까? 다음과 같이 render.py를 수정하면 가능하다\n",
    "\n",
    "```powershell\n",
    "# render.py\n",
    "from game.sound.echo import echo_test\n",
    "def render_test():\n",
    "    print(\"render\")\n",
    "    echo_test()\n",
    "```\n",
    "\n",
    "from game.sound.echo import echo_test 문장을 추가하여 echo_test 함수를 사용할 수 있도록 한다.\n",
    "\n",
    "```powershell\n",
    ">>> from game.graphic.render import render_test\n",
    ">>> render_test()\n",
    "render\n",
    "echo\n",
    "```\n",
    "\n",
    "\n",
    "다음과 같이 relative하게 import하는 것도 가능하다.\n",
    "\n",
    "```python\n",
    "# render.py\n",
    "from ..sound.echo import echo_test\n",
    "\n",
    "def render_test():\n",
    "    print(\"render\")\n",
    "    echo_test()\n",
    "```\n",
    "\n",
    "from game.sound.echo import echo_test를 from ..sound.echo import echo_test로 수정했다. 여기에서 ..은 render.py 파일의 부모 디렉터리를 의미한다. 따라서 render.py 파일의 부모 디렉터리는 game이므로 위와 같은 import가 가능한 것이다.\n",
    "\n",
    "render.py 파일의 현재 디렉터리는 graphic, 부모 디렉터리는 game이다.\n",
    "\n",
    ">relative한 접근자에는 다음과 같은 것이 있다.\n",
    "\n",
    "접근자|설명\n",
    "---|---|\n",
    "..|부모 디렉터리\n",
    ".|현재 디렉터리"
   ]
  },
  {
   "cell_type": "markdown",
   "metadata": {},
   "source": []
  }
 ],
 "metadata": {
  "kernelspec": {
   "display_name": "base",
   "language": "python",
   "name": "python3"
  },
  "language_info": {
   "codemirror_mode": {
    "name": "ipython",
    "version": 3
   },
   "file_extension": ".py",
   "mimetype": "text/x-python",
   "name": "python",
   "nbconvert_exporter": "python",
   "pygments_lexer": "ipython3",
   "version": "3.12.3"
  }
 },
 "nbformat": 4,
 "nbformat_minor": 2
}

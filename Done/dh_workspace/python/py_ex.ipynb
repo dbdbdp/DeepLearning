{
 "cells": [
  {
   "cell_type": "code",
   "execution_count": 6,
   "metadata": {},
   "outputs": [
    {
     "name": "stdout",
     "output_type": "stream",
     "text": [
      "233168\n"
     ]
    }
   ],
   "source": [
    "\"\"\"\n",
    "10 미만의 자연수에서 3과 5의 배수를 구하면 3, 5, 6, 9이다. 이들의 총합은 23이다.\n",
    "1,000 미만의 자연수에서 3의 배수와 5의 배수의 총합을 구하라.\n",
    "입력받는 값은? 1부터 999까지(1000 미만의 자연수)\n",
    "출력하는 값은? 3의 배수와 5의 배수의 총합\n",
    "생각해 볼 것은?\n",
    "3의 배수와 5의 배수는 어떻게 찾지?\n",
    "3의 배수와 5의 배수가 겹칠 때는 어떻게 하지?\n",
    "이 문제를 풀기 위한 중요 포인트는 2가지다. \n",
    "1가지는 1,000 미만의 자연수를 구하는 방법이고 또 다른 1가지는 3과 5의 배수를 구하는 것이다. \n",
    "이 2가지만 해결되면 문제는 쉽게 해결될 것으로 보인다.\n",
    "\"\"\"\n",
    "\n",
    "sum=0\n",
    "i=1\n",
    "while i<1000:\n",
    "    if i%3==0 or i%5==0:\n",
    "        sum+=i\n",
    "    else: pass\n",
    "    i+=1\n",
    "print(sum)"
   ]
  },
  {
   "cell_type": "code",
   "execution_count": 1,
   "metadata": {},
   "outputs": [],
   "source": [
    "#memo.py\n",
    "\n",
    "#필요한 기능은? 메모 추가하기, 메모 조회하기\n",
    "#입력받는 값은? 메모 내용, 프로그램 실행 옵션\n",
    "#출력하는 값은? memo.txt\n",
    "#가장 먼저 해야 할 일은 메모를 추가하는 것이다. 다음 명령을 실행했을 때 메모를 추가할 수 있도록 만들어 보자.\n",
    "\n",
    "#python memo.py -a \"Life is too short\"          : -a일 때는 적는다.\n",
    "#python memo.py -v                              : -v일 때는 읽는다.\n",
    "\n",
    "import sys\n",
    "\n",
    "option=sys.argv[1]\n",
    "\n",
    "if option=='-a':\n",
    "    memo=sys.argv[2]\n",
    "    f=open('mytxt','a')\n",
    "    f.write(memo)\n",
    "    f.write('\\n')\n",
    "    f.close()\n",
    "\n",
    "elif option=='-v':\n",
    "    f=open('mytxt','r')\n",
    "    memo=f.read()\n",
    "    f.close()\n",
    "    print(memo)"
   ]
  },
  {
   "cell_type": "code",
   "execution_count": null,
   "metadata": {},
   "outputs": [],
   "source": [
    "\"\"\"이번에는 문서 파일을 읽어서 그 문서 파일 안에 있는 탭 문자(Tab)를 공백 문자(Space) 4개로 바꾸어 주는 스크립트를 작성해 보자.\n",
    "\n",
    "필요한 기능은? 문서 파일 읽어 들이기, 문자열 변경하기\n",
    "입력받는 값은? 탭을 포함한 문서 파일\n",
    "출력하는 값은? 탭이 공백으로 수정된 문서 파일\n",
    "다음과 같은 형식으로 프로그램이 수행되도록 만들 것이다.\n",
    "\n",
    "python tabto4.py src dst\n",
    "tabto4.py는 우리가 작성해야 할 파이썬 프로그램 이름, src는 탭을 포함하고 있는 원본 파일 이름, dst는 파일 안의 탭을 공백 4개로 변환한 결과를 저장할 파일 이름이다.\n",
    "\n",
    "예를 들어 a.txt에 있는 탭을 4개의 공백으로 바꾸어 b.txt에 저장하고 싶다면 다음과 같이 수행해야 한다.\n",
    "\n",
    "python tabto4.py a.txt b.txt\"\"\"\n",
    "\n",
    "import sys\n",
    "o_f_n=sys.argv[1]\n",
    "f_n=sys.argv[2]\n",
    "\n",
    "f=open(o_f_n,'r')\n",
    "data=f.read()\n",
    "f.close()\n",
    "\n",
    "new_data=data.replace('\\t',' '*4)\n",
    "x=open(f_n,'w')\n",
    "x.write(new_data)\n",
    "x.close()\n"
   ]
  },
  {
   "cell_type": "code",
   "execution_count": 35,
   "metadata": {},
   "outputs": [
    {
     "name": "stdout",
     "output_type": "stream",
     "text": [
      "['class.ipynb', 'doit', 'exception.ipynb', 'get_py_file.py', 'memo.py', 'mod1.py', 'mod1_2.py', 'mod2.py', 'module.ipynb', 'mytxt', 'package.ipynb', 'practice.ipynb', 'py_ex.ipynb', 'write_new_file.py', '__pycache__']\n"
     ]
    }
   ],
   "source": [
    "import os\n",
    "print(os.listdir())\n",
    "os.listdir()"
   ]
  },
  {
   "cell_type": "code",
   "execution_count": 52,
   "metadata": {},
   "outputs": [
    {
     "name": "stderr",
     "output_type": "stream",
     "text": [
      "<>:14: SyntaxWarning: invalid escape sequence '\\g'\n",
      "<>:14: SyntaxWarning: invalid escape sequence '\\g'\n",
      "C:\\Users\\dhlee\\AppData\\Local\\Temp\\ipykernel_10340\\512942613.py:14: SyntaxWarning: invalid escape sequence '\\g'\n",
      "  os.listdir('C:\\git_experiment\\RWL_Intern\\dh_workspace\\python')\n"
     ]
    },
    {
     "data": {
      "text/plain": [
       "['class.ipynb',\n",
       " 'doit',\n",
       " 'exception.ipynb',\n",
       " 'get_py_file.py',\n",
       " 'memo.py',\n",
       " 'mod1.py',\n",
       " 'mod1_2.py',\n",
       " 'mod2.py',\n",
       " 'module.ipynb',\n",
       " 'mytxt',\n",
       " 'package.ipynb',\n",
       " 'practice.ipynb',\n",
       " 'py_ex.ipynb',\n",
       " 'write_new_file.py',\n",
       " '__pycache__']"
      ]
     },
     "execution_count": 52,
     "metadata": {},
     "output_type": "execute_result"
    }
   ],
   "source": []
  },
  {
   "cell_type": "code",
   "execution_count": 47,
   "metadata": {},
   "outputs": [
    {
     "name": "stdout",
     "output_type": "stream",
     "text": [
      "C:\\git_experiment\\RWL_Intern\\dh_workspace\\python\\doit\\game\\graphic\\render.py\n",
      "C:\\git_experiment\\RWL_Intern\\dh_workspace\\python\\doit\\game\\graphic\\screen.py\n",
      "C:\\git_experiment\\RWL_Intern\\dh_workspace\\python\\doit\\game\\graphic\\__init__.py\n",
      "C:\\git_experiment\\RWL_Intern\\dh_workspace\\python\\doit\\game\\play\\run.py\n",
      "C:\\git_experiment\\RWL_Intern\\dh_workspace\\python\\doit\\game\\play\\test.py\n",
      "C:\\git_experiment\\RWL_Intern\\dh_workspace\\python\\doit\\game\\play\\__init__.py\n",
      "C:\\git_experiment\\RWL_Intern\\dh_workspace\\python\\doit\\game\\sound\\echo.py\n",
      "C:\\git_experiment\\RWL_Intern\\dh_workspace\\python\\doit\\game\\sound\\wav.py\n",
      "C:\\git_experiment\\RWL_Intern\\dh_workspace\\python\\doit\\game\\sound\\__init__.py\n",
      "C:\\git_experiment\\RWL_Intern\\dh_workspace\\python\\doit\\game\\__init__.py\n",
      "C:\\git_experiment\\RWL_Intern\\dh_workspace\\python\\get_py_file.py\n",
      "C:\\git_experiment\\RWL_Intern\\dh_workspace\\python\\memo.py\n",
      "C:\\git_experiment\\RWL_Intern\\dh_workspace\\python\\mod1.py\n",
      "C:\\git_experiment\\RWL_Intern\\dh_workspace\\python\\mod1_2.py\n",
      "C:\\git_experiment\\RWL_Intern\\dh_workspace\\python\\mod2.py\n",
      "C:\\git_experiment\\RWL_Intern\\dh_workspace\\python\\write_new_file.py\n"
     ]
    },
    {
     "name": "stderr",
     "output_type": "stream",
     "text": [
      "<>:17: SyntaxWarning: invalid escape sequence '\\g'\n",
      "<>:17: SyntaxWarning: invalid escape sequence '\\g'\n",
      "C:\\Users\\dhlee\\AppData\\Local\\Temp\\ipykernel_10340\\3289748114.py:17: SyntaxWarning: invalid escape sequence '\\g'\n",
      "  search('C:\\git_experiment\\RWL_Intern\\dh_workspace\\python')\n"
     ]
    }
   ],
   "source": [
    "# 하위디렉터리 검색하기 : 얘는 책 솔루션션\n",
    "import os\n",
    "\n",
    "def search(dirname):\n",
    "    try:\n",
    "        filenames = os.listdir(dirname)\n",
    "        for filename in filenames:\n",
    "            full_filename = os.path.join(dirname, filename)\n",
    "            if os.path.isdir(full_filename):\n",
    "                search(full_filename)\n",
    "            else:\n",
    "                ext = os.path.splitext(full_filename)[-1]\n",
    "                if ext == '.py': \n",
    "                    print(full_filename)\n",
    "    except PermissionError:\n",
    "        pass\n",
    "\n",
    "search('C:\\git_experiment\\RWL_Intern\\dh_workspace\\python')"
   ]
  },
  {
   "cell_type": "code",
   "execution_count": 60,
   "metadata": {},
   "outputs": [
    {
     "name": "stdout",
     "output_type": "stream",
     "text": [
      "C:\\git_experiment\\RWL_Intern\\dh_workspace\\python\\doit\\game\\graphic\\render.py\n",
      "C:\\git_experiment\\RWL_Intern\\dh_workspace\\python\\doit\\game\\graphic\\screen.py\n",
      "C:\\git_experiment\\RWL_Intern\\dh_workspace\\python\\doit\\game\\graphic\\__init__.py\n",
      "C:\\git_experiment\\RWL_Intern\\dh_workspace\\python\\doit\\game\\play\\run.py\n",
      "C:\\git_experiment\\RWL_Intern\\dh_workspace\\python\\doit\\game\\play\\test.py\n",
      "C:\\git_experiment\\RWL_Intern\\dh_workspace\\python\\doit\\game\\play\\__init__.py\n",
      "C:\\git_experiment\\RWL_Intern\\dh_workspace\\python\\doit\\game\\sound\\echo.py\n",
      "C:\\git_experiment\\RWL_Intern\\dh_workspace\\python\\doit\\game\\sound\\wav.py\n",
      "C:\\git_experiment\\RWL_Intern\\dh_workspace\\python\\doit\\game\\sound\\__init__.py\n",
      "C:\\git_experiment\\RWL_Intern\\dh_workspace\\python\\doit\\game\\__init__.py\n",
      "C:\\git_experiment\\RWL_Intern\\dh_workspace\\python\\get_py_file.py\n",
      "C:\\git_experiment\\RWL_Intern\\dh_workspace\\python\\memo.py\n",
      "C:\\git_experiment\\RWL_Intern\\dh_workspace\\python\\mod1.py\n",
      "C:\\git_experiment\\RWL_Intern\\dh_workspace\\python\\mod1_2.py\n",
      "C:\\git_experiment\\RWL_Intern\\dh_workspace\\python\\mod2.py\n",
      "C:\\git_experiment\\RWL_Intern\\dh_workspace\\python\\write_new_file.py\n"
     ]
    },
    {
     "name": "stderr",
     "output_type": "stream",
     "text": [
      "<>:22: SyntaxWarning: invalid escape sequence '\\g'\n",
      "<>:22: SyntaxWarning: invalid escape sequence '\\g'\n",
      "C:\\Users\\dhlee\\AppData\\Local\\Temp\\ipykernel_10340\\292250855.py:22: SyntaxWarning: invalid escape sequence '\\g'\n",
      "  search_dir('C:\\git_experiment\\RWL_Intern\\dh_workspace\\python')\n"
     ]
    }
   ],
   "source": [
    "# 하위디렉터리 검색하기 : 내솔루션( 결국에는 재귀를 쓴다. )\n",
    "\n",
    "import os\n",
    "\n",
    "\n",
    "def search_dir(direc):\n",
    "    fullname=os.listdir(direc)\n",
    "    for filename in fullname:\n",
    "        n_filename=os.path.join(direc,filename)\n",
    "        if os.path.isdir(n_filename):\n",
    "            search_dir(n_filename)\n",
    "        else:\n",
    "            if os.path.splitext(filename)[-1]=='.py':\n",
    "                print(os.path.join(direc,filename))\n",
    "\n",
    "        \n",
    "\n",
    "        \n",
    "        \n",
    "        \n",
    "\n",
    "search_dir('C:\\git_experiment\\RWL_Intern\\dh_workspace\\python')\n",
    "\n"
   ]
  },
  {
   "cell_type": "code",
   "execution_count": null,
   "metadata": {},
   "outputs": [],
   "source": []
  }
 ],
 "metadata": {
  "kernelspec": {
   "display_name": "base",
   "language": "python",
   "name": "python3"
  },
  "language_info": {
   "codemirror_mode": {
    "name": "ipython",
    "version": 3
   },
   "file_extension": ".py",
   "mimetype": "text/x-python",
   "name": "python",
   "nbconvert_exporter": "python",
   "pygments_lexer": "ipython3",
   "version": "3.12.3"
  }
 },
 "nbformat": 4,
 "nbformat_minor": 2
}

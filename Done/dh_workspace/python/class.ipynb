{
 "cells": [
  {
   "cell_type": "code",
   "execution_count": 43,
   "metadata": {},
   "outputs": [],
   "source": [
    "#클래스\n",
    "\n",
    "#클래스 구조 만들기\n",
    "class FourCal:\n",
    "    pass                #pass는 임시 코드를 작성할 때 주로 쓴다.\n",
    "#이게 클래스의 기본구조이다."
   ]
  },
  {
   "cell_type": "code",
   "execution_count": 44,
   "metadata": {},
   "outputs": [
    {
     "data": {
      "text/plain": [
       "__main__.FourCal"
      ]
     },
     "execution_count": 44,
     "metadata": {},
     "output_type": "execute_result"
    }
   ],
   "source": [
    "a=FourCal()\n",
    "type(a)                 #FourCal 클래스라는 것을 알 수 있다."
   ]
  },
  {
   "cell_type": "code",
   "execution_count": 45,
   "metadata": {},
   "outputs": [],
   "source": [
    "class FourCal:\n",
    "    def setdata(self, first, second):               #클래스의 내부 함수는 메서드(method)라고 부른다. \n",
    "        self.first=first                            #self에는 함수를 호출한 객체가 자동으로 전달된다.\n",
    "        self.second=second                      \n",
    "a=FourCal()\n",
    "a.setdata(4,2)                                      #객체를 이용해 클래스의 메서드를 호출하려면 .을 이용해서 매서드를 호출한다. 이 경우 self에는 a가 자동으로 전달된다."
   ]
  },
  {
   "cell_type": "code",
   "execution_count": 46,
   "metadata": {},
   "outputs": [
    {
     "ename": "NameError",
     "evalue": "name 'FouCal' is not defined",
     "output_type": "error",
     "traceback": [
      "\u001b[1;31m---------------------------------------------------------------------------\u001b[0m",
      "\u001b[1;31mNameError\u001b[0m                                 Traceback (most recent call last)",
      "Cell \u001b[1;32mIn[46], line 6\u001b[0m\n\u001b[0;32m      1\u001b[0m \u001b[38;5;66;03m# 파이썬 메서드의 첫 번째 매개변수 이름은 관례적으로 self를 사용한다.\u001b[39;00m\n\u001b[0;32m      2\u001b[0m \u001b[38;5;66;03m# 객체를 호출할 때 호출한 객체 자신이 전달되기 때문에 self라는 이름을 사용한 것이다.\u001b[39;00m\n\u001b[0;32m      3\u001b[0m \u001b[38;5;66;03m# self 외에 다른 변수를 줘도 상관없다.\u001b[39;00m\n\u001b[0;32m      4\u001b[0m \n\u001b[0;32m      5\u001b[0m \u001b[38;5;66;03m#매서드를 호출하는 또 다른 방법\u001b[39;00m\n\u001b[1;32m----> 6\u001b[0m a\u001b[38;5;241m=\u001b[39mFouCal()\n\u001b[0;32m      7\u001b[0m FourCal\u001b[38;5;241m.\u001b[39msetdata(a,\u001b[38;5;241m4\u001b[39m,\u001b[38;5;241m2\u001b[39m)\n",
      "\u001b[1;31mNameError\u001b[0m: name 'FouCal' is not defined"
     ]
    }
   ],
   "source": [
    "# 파이썬 메서드의 첫 번째 매개변수 이름은 관례적으로 self를 사용한다.\n",
    "# 객체를 호출할 때 호출한 객체 자신이 전달되기 때문에 self라는 이름을 사용한 것이다.\n",
    "# self 외에 다른 변수를 줘도 상관없다.\n",
    "\n",
    "#매서드를 호출하는 또 다른 방법\n",
    "a=FouCal()\n",
    "FourCal.setdata(a,4,2)                  # 이 경우 객체 a를 매개변수의 첫번째에 직접 전달을 해야한다."
   ]
  },
  {
   "cell_type": "code",
   "execution_count": 47,
   "metadata": {},
   "outputs": [
    {
     "name": "stdout",
     "output_type": "stream",
     "text": [
      "4\n",
      "2\n"
     ]
    }
   ],
   "source": [
    "#a의 객체에는 setdata함수로 first와 second라는 객체 변수가 생성되고 각각의 인자들이 설정된다.\n",
    "print(a.first)\n",
    "print(a.second)"
   ]
  },
  {
   "cell_type": "code",
   "execution_count": 48,
   "metadata": {},
   "outputs": [
    {
     "name": "stdout",
     "output_type": "stream",
     "text": [
      "3\n",
      "7\n"
     ]
    }
   ],
   "source": [
    "b=FourCal()\n",
    "b.setdata(3,7)\n",
    "print(b.first)\n",
    "print(b.second)\n",
    "#여기서 나오는 결론은 a와 b 객체는 서로 독립된 개체이고 서로에게 영향을 주지 않는다."
   ]
  },
  {
   "cell_type": "code",
   "execution_count": 49,
   "metadata": {},
   "outputs": [],
   "source": [
    "#이번에는 Fourcal에 더하기 기능을 넣어보자.\n",
    "class FourCal:\n",
    "    def setdata(self,first,second):\n",
    "        self.first=first\n",
    "        self.second=second\n",
    "    \n",
    "    def add(self):\n",
    "        result=self.first+self.second               #참고) 여기서 result대신에 self가 들어가도 되지않을까? 라는 생각을 할 수도 있다. 하지만 절대 하지마라.\n",
    "        return result                               # 왜냐? self는 인스턴스 객체를 나타내는데, \n",
    "                                                    # 이 값을 self.first + self.second로 덮어쓰게 되면, self 객체 자체가 숫자 값으로 변경되어 버린다.\n",
    "                                                    # 이렇게 되면 이후에 다른 메서드에서 self를 사용할 수 없게 되어 오류가 발생.\n",
    "                                                    # 따라서 인스턴스 속성을 이용해 더한 값을 result라는 로컬 변수에 저장한 후 반환하는 것이 좋다.\n",
    "    \n"
   ]
  },
  {
   "cell_type": "code",
   "execution_count": 50,
   "metadata": {},
   "outputs": [
    {
     "data": {
      "text/plain": [
       "6"
      ]
     },
     "execution_count": 50,
     "metadata": {},
     "output_type": "execute_result"
    }
   ],
   "source": [
    "a=FourCal()\n",
    "a.setdata(4,2)\n",
    "a.add()"
   ]
  },
  {
   "cell_type": "code",
   "execution_count": 51,
   "metadata": {},
   "outputs": [],
   "source": [
    "#나머지 연산을 채워보자.\n",
    "class FourCal:\n",
    "    def setdata(self,first,second):\n",
    "        self.first=first\n",
    "        self.second=second\n",
    "    \n",
    "    def add(self):\n",
    "        result=self.first+self.second               \n",
    "        return result                               \n",
    "    def sub(self):\n",
    "        result=self.first-self.second\n",
    "        return result\n",
    "    def mult(self):\n",
    "        result=self.first*self.second\n",
    "        return result\n",
    "    def div(self):\n",
    "        result=self.first/self.second\n",
    "        return result\n"
   ]
  },
  {
   "cell_type": "code",
   "execution_count": 52,
   "metadata": {},
   "outputs": [],
   "source": [
    "# 생성자\n",
    "# 생성자(constructor)란 객체가 생성될 때 자동으로 호출되는 메서드를 의미한다. \n",
    "# 파이썬 메서드명으로 __init__를 사용하면 이 메서드는 생성자가 된다.\n",
    "\n",
    "#나머지 연산을 채워보자.\n",
    "class FourCal:\n",
    "    def __init__(self,first,second):            #위에서 설정했던 setdata와 똑같다. 대신, 얘는 생성자로 인식되어 객체가 생성되는 시점에 자동으로 호출된다.\n",
    "        self.first=first\n",
    "        self.second=second\n",
    "    \n",
    "    def add(self):\n",
    "        result=self.first+self.second               \n",
    "        return result                               \n",
    "    def sub(self):\n",
    "        result=self.first-self.second\n",
    "        return result\n",
    "    def mult(self):\n",
    "        result=self.first*self.second\n",
    "        return result\n",
    "    def div(self):\n",
    "        result=self.first/self.second\n",
    "        return result\n"
   ]
  },
  {
   "cell_type": "code",
   "execution_count": 53,
   "metadata": {},
   "outputs": [
    {
     "ename": "TypeError",
     "evalue": "FourCal.__init__() missing 2 required positional arguments: 'first' and 'second'",
     "output_type": "error",
     "traceback": [
      "\u001b[1;31m---------------------------------------------------------------------------\u001b[0m",
      "\u001b[1;31mTypeError\u001b[0m                                 Traceback (most recent call last)",
      "Cell \u001b[1;32mIn[53], line 1\u001b[0m\n\u001b[1;32m----> 1\u001b[0m a\u001b[38;5;241m=\u001b[39mFourCal()\n",
      "\u001b[1;31mTypeError\u001b[0m: FourCal.__init__() missing 2 required positional arguments: 'first' and 'second'"
     ]
    }
   ],
   "source": [
    "a=FourCal()                             # 아까와는 다르게 오류가 발생함. __init__과 관련된 오류이다.\n",
    "                                        # 오류가 발생한 이유는 생성자의 매개변수 first와 second에 해당하는 값이 전달되지 않았기 때문이다."
   ]
  },
  {
   "cell_type": "code",
   "execution_count": 54,
   "metadata": {},
   "outputs": [],
   "source": [
    "# 오류 해결을 위해서는 a를 생성할 때 인자를 줘야한다.\n",
    "a=FourCal(4,2)"
   ]
  },
  {
   "cell_type": "code",
   "execution_count": 55,
   "metadata": {},
   "outputs": [],
   "source": [
    "# 상속\n",
    "# 앞에서 FourCal 클래스는 이미 만들어 놓았으므로 FourCal 클래스를 상속하는 MoreFourCal 클래스를 만들어보자.\n",
    "class MoreFourCal(FourCal):\n",
    "    pass\n",
    "\n",
    "# 클래스를 상속하기 위해서는 다음처럼 클래스 이름 뒤 괄호 안에 상속할 클래스 이름을 넣어주면 된다.\n",
    "\n",
    "# class 클래스_이름(상속할_클래스_이름)"
   ]
  },
  {
   "cell_type": "code",
   "execution_count": 56,
   "metadata": {},
   "outputs": [
    {
     "name": "stdout",
     "output_type": "stream",
     "text": [
      "6\n",
      "2\n",
      "8\n",
      "2.0\n"
     ]
    }
   ],
   "source": [
    "a=MoreFourCal(4,2)\n",
    "print(a.add())\n",
    "print(a.sub())\n",
    "print(a.mult())\n",
    "print(a.div())"
   ]
  },
  {
   "cell_type": "code",
   "execution_count": 57,
   "metadata": {},
   "outputs": [],
   "source": [
    "# 상속을 사용하는 이유\n",
    "# - 보통 상속은 기존 클래스를 변경하지 않고 기능을 추가하거나 기존 기능을 변경하려고 할 때 사용한다.\n",
    "# - 기존 클래스가 라이브러리 형태로 제공되거나 수정이 허용되지 않는 상황이라면 상속을 사용해야 한다.\n",
    "\n",
    "# MoreFourcal에 제곱하는 기능을 추가해보자.\n",
    "class MoreFourCal(FourCal):\n",
    "    def pow(self):\n",
    "        result=self.first**self.second\n",
    "        return result\n",
    "    "
   ]
  },
  {
   "cell_type": "code",
   "execution_count": 58,
   "metadata": {},
   "outputs": [
    {
     "data": {
      "text/plain": [
       "16"
      ]
     },
     "execution_count": 58,
     "metadata": {},
     "output_type": "execute_result"
    }
   ],
   "source": [
    "a=MoreFourCal(4,2)\n",
    "a.pow()\n",
    "\n",
    "# 상속은 MoreFourCal 클래스처럼 기존 클래스(FourCal)는 그대로 놔둔 채 클래스의 기능을 확장할 때 주로 사용한다."
   ]
  },
  {
   "cell_type": "code",
   "execution_count": 59,
   "metadata": {},
   "outputs": [
    {
     "ename": "ZeroDivisionError",
     "evalue": "division by zero",
     "output_type": "error",
     "traceback": [
      "\u001b[1;31m---------------------------------------------------------------------------\u001b[0m",
      "\u001b[1;31mZeroDivisionError\u001b[0m                         Traceback (most recent call last)",
      "Cell \u001b[1;32mIn[59], line 4\u001b[0m\n\u001b[0;32m      1\u001b[0m \u001b[38;5;66;03m# 메서드 오버라이딩\u001b[39;00m\n\u001b[0;32m      3\u001b[0m a \u001b[38;5;241m=\u001b[39m FourCal(\u001b[38;5;241m4\u001b[39m, \u001b[38;5;241m0\u001b[39m)\n\u001b[1;32m----> 4\u001b[0m a\u001b[38;5;241m.\u001b[39mdiv()\n",
      "Cell \u001b[1;32mIn[52], line 21\u001b[0m, in \u001b[0;36mFourCal.div\u001b[1;34m(self)\u001b[0m\n\u001b[0;32m     20\u001b[0m \u001b[38;5;28;01mdef\u001b[39;00m \u001b[38;5;21mdiv\u001b[39m(\u001b[38;5;28mself\u001b[39m):\n\u001b[1;32m---> 21\u001b[0m     result\u001b[38;5;241m=\u001b[39m\u001b[38;5;28mself\u001b[39m\u001b[38;5;241m.\u001b[39mfirst\u001b[38;5;241m/\u001b[39m\u001b[38;5;28mself\u001b[39m\u001b[38;5;241m.\u001b[39msecond\n\u001b[0;32m     22\u001b[0m     \u001b[38;5;28;01mreturn\u001b[39;00m result\n",
      "\u001b[1;31mZeroDivisionError\u001b[0m: division by zero"
     ]
    }
   ],
   "source": [
    "# 메서드 오버라이딩\n",
    "\n",
    "a = FourCal(4, 0)\n",
    "a.div()"
   ]
  },
  {
   "cell_type": "code",
   "execution_count": 69,
   "metadata": {},
   "outputs": [],
   "source": [
    "# 위의 결과를 보면 4를 0으로 나누려고 하므로 ZeroDivisionError 오류가 발생한다. \n",
    "# 0으로 나눌 때 오류가 아닌 값 0을 리턴받고 싶다면 어떻게 해야 할까?\n",
    "\n",
    "# FourCal 클래스를 상속하는 SafeFourCal 클래스를 만들어 보자.\n",
    "class SafeFourCal(FourCal):\n",
    "    def div(self):\n",
    "        if self.second==0:\n",
    "            return 0\n",
    "        else:\n",
    "            return self.first/self.second\n",
    "        \n",
    "# FourCal 클래스에 있는 div 메서드를 동일한 이름으로 다시 작성했다.\n",
    "# 이렇게 부모 클래스(상속한 클래스)에 있는 메서드를 동일한 이름으로 다시 만드는 것을 메서드 오버라이딩(method overriding)이라고 한다.\n",
    "# 이렇게 메서드를 오버라이딩하면 부모 클래스의 메서드 대신 오버라이딩한 메서드가 호출된다."
   ]
  },
  {
   "cell_type": "code",
   "execution_count": 70,
   "metadata": {},
   "outputs": [
    {
     "data": {
      "text/plain": [
       "0"
      ]
     },
     "execution_count": 70,
     "metadata": {},
     "output_type": "execute_result"
    }
   ],
   "source": [
    "a = SafeFourCal(4, 0)\n",
    "a.div()"
   ]
  },
  {
   "cell_type": "code",
   "execution_count": 71,
   "metadata": {},
   "outputs": [],
   "source": [
    "# 클래스변수\n",
    "\n",
    "class Family:\n",
    "    lastname='kim'                              # 얘는 클래스 변수이다.\n",
    "                                                # 클래스변수는 클래스 안에 함수를 선언하는 것과 마찬가지로 클래스 안에 변수를 선언하여 생성한다."
   ]
  },
  {
   "cell_type": "code",
   "execution_count": 73,
   "metadata": {},
   "outputs": [
    {
     "data": {
      "text/plain": [
       "'kim'"
      ]
     },
     "execution_count": 73,
     "metadata": {},
     "output_type": "execute_result"
    }
   ],
   "source": [
    "Family.lastname                                 # '클래스_이름.클래스변수' 의 형식으로 클래스변수를 사용할 수 있다."
   ]
  },
  {
   "cell_type": "code",
   "execution_count": 74,
   "metadata": {},
   "outputs": [
    {
     "name": "stdout",
     "output_type": "stream",
     "text": [
      "kim\n",
      "kim\n"
     ]
    }
   ],
   "source": [
    "# 다음과 같이 Family 클래스로 만든 객체를 이용해도 클래스변수를 사용할 수 있다.\n",
    "a=Family()\n",
    "b=Family()\n",
    "print(a.lastname)\n",
    "print(b.lastname)"
   ]
  },
  {
   "cell_type": "code",
   "execution_count": 76,
   "metadata": {},
   "outputs": [
    {
     "name": "stdout",
     "output_type": "stream",
     "text": [
      "park\n",
      "park\n"
     ]
    }
   ],
   "source": [
    "# 만약 Family 클래스의 lastname을 \"박\"이라는 문자열로 바꾸면 어떻게 될까?\n",
    "Family.lastname='park'\n",
    "\n",
    "# 그럼 객체의 lastname 값도 같이 변경된다. --> 즉, 클래스변수는 객체변수와 달리 클래스로 만든 모든 객체에 공유된다는 특징이 있다.\n",
    "print(a.lastname)                   \n",
    "print(b.lastname)"
   ]
  },
  {
   "cell_type": "code",
   "execution_count": 77,
   "metadata": {},
   "outputs": [
    {
     "data": {
      "text/plain": [
       "'최'"
      ]
     },
     "execution_count": 77,
     "metadata": {},
     "output_type": "execute_result"
    }
   ],
   "source": [
    "# 클래스변수와 동일한 이름의 객체변수를 생성하면?\n",
    "\n",
    "a.lastname = \"최\"\n",
    "a.lastname                          # 이렇게 하면 Family 클래스의 lastname이 바뀌는 것이 아니라 a 객체에 lastname이라는 객체변수가 새롭게 생성된다.\n",
    "                                    # 즉, 객체변수는 클래스변수와 동일한 이름으로 생성할 수 있다."
   ]
  },
  {
   "cell_type": "code",
   "execution_count": 79,
   "metadata": {},
   "outputs": [
    {
     "name": "stdout",
     "output_type": "stream",
     "text": [
      "park\n",
      "park\n"
     ]
    }
   ],
   "source": [
    "# a.lastname 객체변수를 생성하더라도 Family 클래스의 lastname과는 상관없다는 것을 확인할 수 있다.\n",
    "print(Family.lastname)\n",
    "print(b.lastname)                                   #Family 클래스의 lastname은 변하지 않았다."
   ]
  },
  {
   "cell_type": "markdown",
   "metadata": {},
   "source": [
    "---\n",
    "\n",
    "# 여기서부터는 챗선생님의 강의"
   ]
  },
  {
   "cell_type": "markdown",
   "metadata": {},
   "source": [
    "## 3. 클래스 속성 vs 인스턴스 속성\n",
    "\n",
    "* 인스턴스 속성: 각 객체에 대해 다르게 설정되는 속성.\n",
    "\n",
    "* 클래스 속성: 모든 객체에서 공통으로 사용되는 속성."
   ]
  },
  {
   "cell_type": "code",
   "execution_count": 80,
   "metadata": {},
   "outputs": [
    {
     "name": "stdout",
     "output_type": "stream",
     "text": [
      "Canis familiaris\n",
      "Canis familiaris\n",
      "Buddy\n",
      "Lucy\n"
     ]
    }
   ],
   "source": [
    "class Dog:\n",
    "    species = \"Canis familiaris\"  # 클래스 속성\n",
    "\n",
    "    def __init__(self, name, age):\n",
    "        self.name = name  # 인스턴스 속성\n",
    "        self.age = age    # 인스턴스 속성\n",
    "\n",
    "# 객체 생성\n",
    "dog1 = Dog(\"Buddy\", 3)\n",
    "dog2 = Dog(\"Lucy\", 2)\n",
    "\n",
    "# 클래스 속성은 모든 객체에서 공유됨\n",
    "print(dog1.species)  # 출력: \"Canis familiaris\"\n",
    "print(dog2.species)  # 출력: \"Canis familiaris\"\n",
    "\n",
    "# 인스턴스 속성은 객체마다 다름\n",
    "print(dog1.name)  # 출력: \"Buddy\"\n",
    "print(dog2.name)  # 출력: \"Lucy\"\n"
   ]
  },
  {
   "cell_type": "markdown",
   "metadata": {},
   "source": [
    "## 4. 메서드\n",
    "메서드는 클래스 내에서 정의된 함수입니다. 메서드는 객체가 특정 작업을 할 수 있게 해줍니다. self는 인스턴스 자신을 참조하는 중요한 역할을 합니다."
   ]
  },
  {
   "cell_type": "code",
   "execution_count": 82,
   "metadata": {},
   "outputs": [
    {
     "name": "stdout",
     "output_type": "stream",
     "text": [
      "Hello, my name is Alice and I am 30 years old.\n"
     ]
    }
   ],
   "source": [
    "class Person:\n",
    "    def __init__(self, name, age):\n",
    "        self.name = name\n",
    "        self.age = age\n",
    "\n",
    "    def greet(self):\n",
    "        print(f\"Hello, my name is {self.name} and I am {self.age} years old.\")\n",
    "\n",
    "person = Person(\"Alice\", 30)\n",
    "person.greet()  # 출력: \"Hello, my name is Alice and I am 30 years old.\"\n"
   ]
  },
  {
   "cell_type": "markdown",
   "metadata": {},
   "source": [
    "## 4.2 클래스 메서드 (@classmethod)\n",
    "\n",
    "클래스 메서드는 클래스 자체를 첫 번째 인수로 받습니다. @classmethod 데코레이터를 사용하여 정의하며, 인스턴스가 아닌 클래스 자체에서 호출됩니다."
   ]
  },
  {
   "cell_type": "code",
   "execution_count": 81,
   "metadata": {},
   "outputs": [
    {
     "name": "stdout",
     "output_type": "stream",
     "text": [
      "Humans are Homo sapiens.\n"
     ]
    }
   ],
   "source": [
    "class Person:\n",
    "    species = \"Homo sapiens\"\n",
    "\n",
    "    @classmethod\n",
    "    def describe_species(cls):\n",
    "        print(f\"Humans are {cls.species}.\")\n",
    "\n",
    "Person.describe_species()  # 출력: \"Humans are Homo sapiens.\"\n"
   ]
  },
  {
   "cell_type": "markdown",
   "metadata": {},
   "source": [
    "## 4.3 정적 메서드 (@staticmethod)\n",
    "정적 메서드는 클래스나 인스턴스에 의존하지 않고, 독립적으로 기능을 수행하는 메서드입니다. @staticmethod 데코레이터를 사용하여 정의합니다."
   ]
  },
  {
   "cell_type": "code",
   "execution_count": 83,
   "metadata": {},
   "outputs": [
    {
     "name": "stdout",
     "output_type": "stream",
     "text": [
      "8\n"
     ]
    }
   ],
   "source": [
    "class Math:\n",
    "    @staticmethod\n",
    "    def add(x, y):\n",
    "        return x + y\n",
    "\n",
    "print(Math.add(3, 5))  # 출력: 8\n"
   ]
  },
  {
   "cell_type": "markdown",
   "metadata": {},
   "source": [
    "## 6. 다형성 (Polymorphism)\n",
    "다형성은 같은 이름의 메서드를 서로 다른 객체에서 다르게 구현하는 특성입니다. 상속을 통해 다형성을 구현할 수 있습니다."
   ]
  },
  {
   "cell_type": "code",
   "execution_count": 87,
   "metadata": {},
   "outputs": [
    {
     "name": "stdout",
     "output_type": "stream",
     "text": [
      "Woof! Woof!\n",
      "Meow!\n"
     ]
    }
   ],
   "source": [
    "class Animal:\n",
    "    def speak(self):\n",
    "        print(\"Animal speaks\")\n",
    "\n",
    "class Dog(Animal):  # Animal 클래스 상속\n",
    "    def speak(self):\n",
    "        print(\"Woof! Woof!\")\n",
    "\n",
    "\n",
    "class Cat(Animal):\n",
    "    def speak(self):\n",
    "        print(\"Meow!\")\n",
    "\n",
    "animals = [Dog(), Cat()]\n",
    "\n",
    "for animal in animals:\n",
    "    animal.speak()  # 출력: \"Woof! Woof!\" \"Meow!\"\n"
   ]
  },
  {
   "cell_type": "markdown",
   "metadata": {},
   "source": [
    "여기서 animal.speak()는 각 객체에 맞는 speak 메서드를 호출합니다. 이것이 다형성입니다."
   ]
  },
  {
   "cell_type": "markdown",
   "metadata": {},
   "source": [
    "## 7. 추상 클래스 (Abstract Class)\n",
    "추상 클래스는 다른 클래스들이 상속해야 하는 기본적인 설계만 제공하는 클래스입니다. 메서드가 구현되지 않은 상태로 정의되고, 자식 클래스에서 이를 구현해야 합니다."
   ]
  },
  {
   "cell_type": "code",
   "execution_count": 86,
   "metadata": {},
   "outputs": [
    {
     "name": "stdout",
     "output_type": "stream",
     "text": [
      "Woof!\n"
     ]
    }
   ],
   "source": [
    "from abc import ABC, abstractmethod\n",
    "\n",
    "class Animal(ABC):\n",
    "    @abstractmethod\n",
    "    def speak(self):\n",
    "        pass\n",
    "\n",
    "class Dog(Animal):\n",
    "    def speak(self):\n",
    "        print(\"Woof!\")\n",
    "\n",
    "dog = Dog()\n",
    "dog.speak()  # 출력: \"Woof!\"\n"
   ]
  },
  {
   "cell_type": "markdown",
   "metadata": {},
   "source": [
    "## 8. 클래스 변수와 인스턴스 변수의 차이\n",
    "\n",
    "클래스 변수는 클래스에 속하며, 모든 인스턴스에서 공유됩니다.\n",
    "\n",
    "인스턴스 변수는 객체별로 고유한 값이 할당됩니다."
   ]
  },
  {
   "cell_type": "markdown",
   "metadata": {},
   "source": [
    "## 9. \\_\\_str\\_\\_과 \\_\\_repr\\_\\_\n",
    "\\_\\_str\\_\\_은 객체를 출력할 때 사람이 읽기 쉽게 표현하는 방법을 정의하고, \\_\\_repr\\_\\_은 개발자가 객체를 더 쉽게 디버깅할 수 있도록 객체를 표현합니다.\n"
   ]
  },
  {
   "cell_type": "code",
   "execution_count": 88,
   "metadata": {},
   "outputs": [
    {
     "name": "stdout",
     "output_type": "stream",
     "text": [
      "Person: Alice, 30 years old\n",
      "Person('Alice', 30)\n"
     ]
    }
   ],
   "source": [
    "class Person:\n",
    "    def __init__(self, name, age):\n",
    "        self.name = name\n",
    "        self.age = age\n",
    "\n",
    "    def __str__(self):\n",
    "        return f\"Person: {self.name}, {self.age} years old\"\n",
    "\n",
    "    def __repr__(self):\n",
    "        return f\"Person({self.name!r}, {self.age!r})\"\n",
    "\n",
    "person = Person(\"Alice\", 30)\n",
    "print(person)  # 출력: Person: Alice, 30 years old\n",
    "print(repr(person))  # 출력: Person('Alice', 30)\n"
   ]
  },
  {
   "cell_type": "markdown",
   "metadata": {},
   "source": [
    "## 10. 메서드의 특수한 이름들\n",
    "클래스에서 몇 가지 특수 메서드는 Python 내부에서 특정 작업을 자동으로 처리할 때 호출됩니다. 예를 들어:\n",
    "\n",
    "* __init__: 생성자\n",
    "* __str__: 문자열 표현\n",
    "* __repr__: 객체의 공식 문자열 표현\n",
    "* __len__: 객체의 길이를 반환하는 메서드\n",
    "* __getitem__: 인덱스를 통해 객체의 항목을 가져올 때 호출되는 메서드"
   ]
  },
  {
   "cell_type": "code",
   "execution_count": 89,
   "metadata": {},
   "outputs": [
    {
     "name": "stdout",
     "output_type": "stream",
     "text": [
      "3\n",
      "2\n"
     ]
    }
   ],
   "source": [
    "class MyList:\n",
    "    def __init__(self, items):\n",
    "        self.items = items\n",
    "\n",
    "    def __getitem__(self, index):\n",
    "        return self.items[index]\n",
    "\n",
    "    def __len__(self):\n",
    "        return len(self.items)\n",
    "\n",
    "my_list = MyList([1, 2, 3])\n",
    "print(len(my_list))  # 출력: 3\n",
    "print(my_list[1])    # 출력: 2              #참고로 __getitem__으로 슬라이싱도 가능하다. \n"
   ]
  },
  {
   "cell_type": "markdown",
   "metadata": {},
   "source": [
    "(특수한 메서드)[https://wikidocs.net/84418]"
   ]
  },
  {
   "cell_type": "code",
   "execution_count": null,
   "metadata": {},
   "outputs": [],
   "source": []
  }
 ],
 "metadata": {
  "kernelspec": {
   "display_name": "base",
   "language": "python",
   "name": "python3"
  },
  "language_info": {
   "codemirror_mode": {
    "name": "ipython",
    "version": 3
   },
   "file_extension": ".py",
   "mimetype": "text/x-python",
   "name": "python",
   "nbconvert_exporter": "python",
   "pygments_lexer": "ipython3",
   "version": "3.12.3"
  }
 },
 "nbformat": 4,
 "nbformat_minor": 2
}

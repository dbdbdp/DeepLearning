{
 "cells": [
  {
   "cell_type": "markdown",
   "metadata": {},
   "source": [
    " for 문과 같은 반복 구문에 적용할 수 있는 리스트와 같은 객체를 ‘반복 가능(iterable) 객체’라고 한다.\n",
    "\n",
    " # 이터레이터\n",
    "\n",
    " 이터레이터는 next 함수 호출 시 계속 그다음 값을 리턴하는 객체이다."
   ]
  },
  {
   "cell_type": "code",
   "execution_count": 1,
   "metadata": {},
   "outputs": [
    {
     "ename": "TypeError",
     "evalue": "'list' object is not an iterator",
     "output_type": "error",
     "traceback": [
      "\u001b[1;31m---------------------------------------------------------------------------\u001b[0m",
      "\u001b[1;31mTypeError\u001b[0m                                 Traceback (most recent call last)",
      "Cell \u001b[1;32mIn[1], line 2\u001b[0m\n\u001b[0;32m      1\u001b[0m a\u001b[38;5;241m=\u001b[39m[\u001b[38;5;241m1\u001b[39m,\u001b[38;5;241m2\u001b[39m,\u001b[38;5;241m3\u001b[39m]\n\u001b[1;32m----> 2\u001b[0m \u001b[38;5;28mnext\u001b[39m(a)\n",
      "\u001b[1;31mTypeError\u001b[0m: 'list' object is not an iterator"
     ]
    }
   ],
   "source": [
    "a=[1,2,3]\n",
    "next(a)             "
   ]
  },
  {
   "cell_type": "markdown",
   "metadata": {},
   "source": [
    "리스트는 이터레이터가 아니다. 반복 가능하다고 해서 이터레이터는 아니다. 하지만 반복 가능하다면 다음과 같이 iter 함수를 이용해 이터레이터로 만들 수 있다."
   ]
  },
  {
   "cell_type": "code",
   "execution_count": 8,
   "metadata": {},
   "outputs": [
    {
     "data": {
      "text/plain": [
       "list_iterator"
      ]
     },
     "execution_count": 8,
     "metadata": {},
     "output_type": "execute_result"
    }
   ],
   "source": [
    "a=[1,2,3]\n",
    "ia=iter(a)\n",
    "type(ia)"
   ]
  },
  {
   "cell_type": "code",
   "execution_count": 9,
   "metadata": {},
   "outputs": [
    {
     "name": "stdout",
     "output_type": "stream",
     "text": [
      "1\n",
      "2\n",
      "3\n"
     ]
    },
    {
     "ename": "StopIteration",
     "evalue": "",
     "output_type": "error",
     "traceback": [
      "\u001b[1;31m---------------------------------------------------------------------------\u001b[0m",
      "\u001b[1;31mStopIteration\u001b[0m                             Traceback (most recent call last)",
      "Cell \u001b[1;32mIn[9], line 5\u001b[0m\n\u001b[0;32m      3\u001b[0m \u001b[38;5;28mprint\u001b[39m(\u001b[38;5;28mnext\u001b[39m(ia))\n\u001b[0;32m      4\u001b[0m \u001b[38;5;28mprint\u001b[39m(\u001b[38;5;28mnext\u001b[39m(ia))\n\u001b[1;32m----> 5\u001b[0m \u001b[38;5;28mnext\u001b[39m(ia)\n",
      "\u001b[1;31mStopIteration\u001b[0m: "
     ]
    }
   ],
   "source": [
    "# 이제 리스트를 이터레이터로 변경했으니 next함수로 호출해보자.\n",
    "print(next(ia))\n",
    "print(next(ia))\n",
    "print(next(ia))\n",
    "next(ia)"
   ]
  },
  {
   "cell_type": "markdown",
   "metadata": {},
   "source": [
    "next 함수를 호출할 때마다 이터레이터 객체의 요소를 차례대로 리턴하는 것을 확인할 수 있다. 하지만 더는 리턴할 값이 없다면 StopIteration 예외가 발생한다.\n",
    "\n",
    "이터레이터의 값을 가져오는 가장 일반적인 방법은 다음과 같이 for 문을 이용하는 것이다."
   ]
  },
  {
   "cell_type": "code",
   "execution_count": 12,
   "metadata": {},
   "outputs": [
    {
     "name": "stdout",
     "output_type": "stream",
     "text": [
      "1\n",
      "2\n",
      "3\n"
     ]
    }
   ],
   "source": [
    "a=[1,2,3]\n",
    "ia=iter(a)\n",
    "\n",
    "for i in ia:\n",
    "    print(i)\n",
    "\n"
   ]
  },
  {
   "cell_type": "markdown",
   "metadata": {},
   "source": [
    "for 문을 이용하면 자동으로 값을 호출하므로 next 함수를 따로 쓸 필요도 없고 StopIteration 예외에 신경 쓸 필요도 없다\n",
    "\n",
    "\n",
    "다음을 한번 보자."
   ]
  },
  {
   "cell_type": "code",
   "execution_count": 13,
   "metadata": {},
   "outputs": [
    {
     "name": "stdout",
     "output_type": "stream",
     "text": [
      "1\n",
      "2\n",
      "3\n"
     ]
    }
   ],
   "source": [
    "a=[1,2,3]\n",
    "ia=iter(a)\n",
    "\n",
    "for i in ia:\n",
    "    print(i)\n",
    "\n",
    "\n",
    "for i in ia:\n",
    "    print(i)\n"
   ]
  },
  {
   "cell_type": "markdown",
   "metadata": {},
   "source": [
    "이터레이터는 for 문을 이용하여 반복하고 난 후에는 다시 반복하더라도 더는 그 값을 가져오지 못한다. 즉, for문이나 next로 그 값을 한 번 읽으면 그 값을 다시는 읽을 수 없다는 특징이 있다."
   ]
  },
  {
   "cell_type": "markdown",
   "metadata": {},
   "source": [
    "## 이터레이터 만들기\n",
    "\n",
    "iter 함수를 이용하면 리스트를 이터레이터로 만들 수 있었다. 이번에는 iter 함수 대신 클래스로 이터레이터를 만들어 보자.\n",
    "\n",
    "이터레이터 클래스는 __iter__와 __name__의 두개의 메서드를 구현하여 만들 수 있다."
   ]
  },
  {
   "cell_type": "code",
   "execution_count": 14,
   "metadata": {},
   "outputs": [
    {
     "name": "stdout",
     "output_type": "stream",
     "text": [
      "1\n",
      "2\n",
      "3\n"
     ]
    }
   ],
   "source": [
    "# iterator.py\n",
    "class MyIterator:\n",
    "    def __init__(self,data):\n",
    "        self.data=data\n",
    "        self.position=0\n",
    "    \n",
    "    def __iter__(self):\n",
    "        return self\n",
    "    \n",
    "    def __next__(self):\n",
    "        if self.position>=len(self.data):\n",
    "            raise StopIteration\n",
    "        \n",
    "        else:\n",
    "            result=self.data[self.position]\n",
    "            self.position+=1\n",
    "            return result\n",
    "        \n",
    "if __name__==\"__main__\":\n",
    "    i=MyIterator([1,2,3])\n",
    "    for item in i:\n",
    "        print(item)"
   ]
  },
  {
   "cell_type": "markdown",
   "metadata": {},
   "source": [
    "MyIterator 클래스는 이터레이터 객체를 생성하기 위해 \\_\\_iter\\_\\_ 메서드와 \\_\\_next\\_\\_ 메서드를 구현했다. \\_\\_iter\\_\\_ 메서드와 \\_\\_next\\_\\_ 메서드는 생성자 \\_\\_iter\\_\\_ 메서드와 마찬가지로 클래스에서 특별한 의미를 갖는 메서드이다.\n",
    "\n",
    "클래스에 \\_\\_iter\\_\\_ 메서드를 구현하면 해당 클래스로 생성한 객체는 반복 가능한 객체가 된다. \\_\\_iter\\_\\_ 메서드는 반복 가능한 객체를 리턴해야 하며 보통 클래스의 객체를 의미하는 self를 리턴한다. 그리고 클래스에 \\_\\_iter\\_\\_ 메서드를 구현할 경우 반드시 \\_\\_next\\_\\_ 함수를 구현해야 한다.\n",
    "\n",
    "\\_\\_next\\_\\_ 메서드는 반복 가능한 객체의 값을 차례대로 반환하는 역할을 한다. \\_\\_next\\_\\_ 메서드는 for 문을 수행하거나 next 함수 호출 시 수행되므로 MyIterator 객체를 생성할 때 전달한 data를 하나씩 리턴하고 더는 리턴할 값이 없으면 StopIteration 예외를 발생시키도록 구현했다."
   ]
  },
  {
   "cell_type": "markdown",
   "metadata": {},
   "source": [
    "이번에는 입력받은 데이터를 역순으로 출력하는 ReverseIterator 클래스를 만들어 보자"
   ]
  },
  {
   "cell_type": "code",
   "execution_count": 19,
   "metadata": {},
   "outputs": [
    {
     "name": "stdout",
     "output_type": "stream",
     "text": [
      "3\n",
      "2\n",
      "1\n"
     ]
    }
   ],
   "source": [
    "# iterator.py\n",
    "class R_MyIterator:\n",
    "    def __init__(self,data):\n",
    "        self.data=data\n",
    "        self.position=len(self.data)-1\n",
    "    \n",
    "    def __iter__(self):\n",
    "        return self\n",
    "    \n",
    "    def __next__(self):\n",
    "        if self.position<0:\n",
    "            raise StopIteration\n",
    "        \n",
    "        else:\n",
    "            result=self.data[self.position]\n",
    "            self.position-=1\n",
    "            return result\n",
    "        \n",
    "if __name__==\"__main__\":\n",
    "    i=R_MyIterator([1,2,3])\n",
    "    for item in i:\n",
    "        print(item)"
   ]
  },
  {
   "cell_type": "markdown",
   "metadata": {},
   "source": [
    "# 제너레이터\n",
    "\n",
    "제너레이터(generator)는 이터레이터를 생성해 주는 함수이다. 제너레이터로 생성한 객체는 이터레이터와 마찬가지로 next 함수 호출 시 그 값을 차례대로 얻을 수 있다. 이때 제너레이터에서는 차례대로 결과를 반환하고자 return 대신 yield 키워드를 사용한다.\n",
    "\n",
    "다음은 예시다"
   ]
  },
  {
   "cell_type": "code",
   "execution_count": 22,
   "metadata": {},
   "outputs": [
    {
     "data": {
      "text/plain": [
       "generator"
      ]
     },
     "execution_count": 22,
     "metadata": {},
     "output_type": "execute_result"
    }
   ],
   "source": [
    "def mygen():                #mygen 함수는 yield 구문을 포함하므로 제너레이터이다.\n",
    "    yield 'a'\n",
    "    yield 'b'\n",
    "    yield 'c'\n",
    "\n",
    "g=mygen()                                       # g는 제너레이터 객체는 g = mygen()과 같이 제너레이터 함수를 호출하여 만들 수 있다. \n",
    "                                                # type 명령어로 확인하면 g 객체는 제너레이터 타입의 객체라는 것을 알 수 있다.\n",
    "type(g)\n"
   ]
  },
  {
   "cell_type": "code",
   "execution_count": 23,
   "metadata": {},
   "outputs": [
    {
     "name": "stdout",
     "output_type": "stream",
     "text": [
      "a\n",
      "b\n",
      "c\n"
     ]
    }
   ],
   "source": [
    "print(next(g))\n",
    "print(next(g))\n",
    "print(next(g))\n"
   ]
  },
  {
   "cell_type": "code",
   "execution_count": 24,
   "metadata": {},
   "outputs": [
    {
     "ename": "StopIteration",
     "evalue": "",
     "output_type": "error",
     "traceback": [
      "\u001b[1;31m---------------------------------------------------------------------------\u001b[0m",
      "\u001b[1;31mStopIteration\u001b[0m                             Traceback (most recent call last)",
      "Cell \u001b[1;32mIn[24], line 1\u001b[0m\n\u001b[1;32m----> 1\u001b[0m \u001b[38;5;28mnext\u001b[39m(g)\n",
      "\u001b[1;31mStopIteration\u001b[0m: "
     ]
    }
   ],
   "source": [
    "next(g)                     #가지고 있는 요소 개수보다 많이 next를 하면 오류가 뜬다."
   ]
  },
  {
   "cell_type": "markdown",
   "metadata": {},
   "source": [
    "## 제너레이터 표현식\n",
    "\n",
    "다음 예시를 봐라."
   ]
  },
  {
   "cell_type": "code",
   "execution_count": 32,
   "metadata": {},
   "outputs": [
    {
     "name": "stdout",
     "output_type": "stream",
     "text": [
      "1\n",
      "4\n",
      "9\n"
     ]
    },
    {
     "data": {
      "text/plain": [
       "generator"
      ]
     },
     "execution_count": 32,
     "metadata": {},
     "output_type": "execute_result"
    }
   ],
   "source": [
    "# generator.py\n",
    "def mygen():\n",
    "    for i in range(1, 1000):\n",
    "        result = i * i\n",
    "        yield result\n",
    "\n",
    "gen = mygen()\n",
    "\n",
    "print(next(gen))\n",
    "print(next(gen))\n",
    "print(next(gen))\n",
    "\n",
    "type(gen)\n"
   ]
  },
  {
   "cell_type": "code",
   "execution_count": 35,
   "metadata": {},
   "outputs": [
    {
     "name": "stdout",
     "output_type": "stream",
     "text": [
      "1\n",
      "4\n"
     ]
    },
    {
     "data": {
      "text/plain": [
       "generator"
      ]
     },
     "execution_count": 35,
     "metadata": {},
     "output_type": "execute_result"
    }
   ],
   "source": [
    "#제너레이터는 def를 이용한 함수로 만들 수 있지만, 다음과 같이 튜플 표현식으로 좀 더 간단하게 만들 수도 있다.\n",
    "\n",
    "gen=(i*i for i in range(1,1000))\n",
    "print(next(gen))\n",
    "print(next(gen))\n",
    "\n",
    "# 이 표현식은 mygen 함수로 만든 제너레이터와 완전히 똑같이 기능한다. \n",
    "# 여기서 사용한 표현식은 리스트 컴프리헨션(list comprehension) 구문과 비슷하다. \n",
    "# 다만 리스트 대신 튜플을 이용한 점이 다르다. \n",
    "# 이와 같은 표현식을 ‘제너레이터 표현식(generator expression)’이라고 부른다.\n",
    "\n",
    "type(gen)\n",
    "\n",
    "# (i * i for i in range(1, 1000))은 제너레이터 표현식입니다.\n",
    "# 제너레이터 표현식은 괄호(()) 안에 for 루프를 사용하여 제너레이터 객체를 만듭니다.\n",
    "\n",
    "# 참고로, 그냥 gen=(i*i for i in range(1,1000)) 만 했을 때 type(gen)을 하면 tuple이 나오는게 아니라 generator가 나온다."
   ]
  },
  {
   "cell_type": "code",
   "execution_count": 2,
   "metadata": {},
   "outputs": [],
   "source": [
    "#위의 제너레이터를 이터레이터로 구현\n",
    "\n",
    "class MyIterator:\n",
    "    def __init__(self):\n",
    "        self.data=1\n",
    "    \n",
    "    def __iter__(self):\n",
    "        return self\n",
    "    \n",
    "    def __next__(self):\n",
    "        result=self.data*self.data\n",
    "        self.data+=1\n",
    "        if self.data>=1000:\n",
    "            raise StopIteration\n",
    "        return result\n",
    "    \n"
   ]
  },
  {
   "cell_type": "code",
   "execution_count": 3,
   "metadata": {},
   "outputs": [
    {
     "name": "stdout",
     "output_type": "stream",
     "text": [
      "job start\n",
      "job start\n",
      "job start\n",
      "job start\n",
      "job start\n"
     ]
    },
    {
     "data": {
      "text/plain": [
       "'done'"
      ]
     },
     "execution_count": 3,
     "metadata": {},
     "output_type": "execute_result"
    }
   ],
   "source": [
    "import time\n",
    "\n",
    "def long_time_job():\n",
    "    print(\"job start\")\n",
    "    time.sleep(1)\n",
    "    return \"done\"\n",
    "\n",
    "list_job=[long_time_job() for i in range(5)]\n",
    "list_job[0]                     #index 가 0인 것을 봐라. 한꺼번에 long_time_job가 5번 실행되기 때문에 job start가 다섯번 나온다."
   ]
  },
  {
   "cell_type": "code",
   "execution_count": 4,
   "metadata": {},
   "outputs": [
    {
     "name": "stdout",
     "output_type": "stream",
     "text": [
      "job start\n",
      "done\n"
     ]
    }
   ],
   "source": [
    "import time\n",
    "\n",
    "def long_time_job():\n",
    "    print(\"job start\")\n",
    "    time.sleep(1)\n",
    "    return \"done\"\n",
    "\n",
    "generatorjob=(long_time_job() for i in range(5))\n",
    "print(next(generatorjob))                               #next가 한번만 실행되었기 때문에 job start가 한개만 나온다."
   ]
  },
  {
   "cell_type": "markdown",
   "metadata": {},
   "source": [
    "왜냐하면 제너레이터 표현식으로 인해 longtime_job() 함수가 5회가 아닌 1회만 호출되기 때문이다. 이러한 방식을 느긋한 계산법(lazy evaluation)이라고 부른다. 시간이 오래 걸리는 작업을 한꺼번에 처리하기보다는 필요한 경우에만 호출하여 사용할 때 제너레이터는 매우 유용하다."
   ]
  },
  {
   "cell_type": "code",
   "execution_count": null,
   "metadata": {},
   "outputs": [],
   "source": []
  }
 ],
 "metadata": {
  "kernelspec": {
   "display_name": "base",
   "language": "python",
   "name": "python3"
  },
  "language_info": {
   "codemirror_mode": {
    "name": "ipython",
    "version": 3
   },
   "file_extension": ".py",
   "mimetype": "text/x-python",
   "name": "python",
   "nbconvert_exporter": "python",
   "pygments_lexer": "ipython3",
   "version": "3.12.3"
  }
 },
 "nbformat": 4,
 "nbformat_minor": 2
}

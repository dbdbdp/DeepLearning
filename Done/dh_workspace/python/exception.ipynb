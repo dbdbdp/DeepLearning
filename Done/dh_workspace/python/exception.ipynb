{
 "cells": [
  {
   "cell_type": "code",
   "execution_count": 5,
   "metadata": {},
   "outputs": [
    {
     "ename": "FileNotFoundError",
     "evalue": "[Errno 2] No such file or directory: '나없는파일'",
     "output_type": "error",
     "traceback": [
      "\u001b[1;31m---------------------------------------------------------------------------\u001b[0m",
      "\u001b[1;31mFileNotFoundError\u001b[0m                         Traceback (most recent call last)",
      "Cell \u001b[1;32mIn[5], line 2\u001b[0m\n\u001b[0;32m      1\u001b[0m \u001b[38;5;66;03m# FileNotFoundError\u001b[39;00m\n\u001b[1;32m----> 2\u001b[0m f \u001b[38;5;241m=\u001b[39m \u001b[38;5;28mopen\u001b[39m(\u001b[38;5;124m\"\u001b[39m\u001b[38;5;124m나없는파일\u001b[39m\u001b[38;5;124m\"\u001b[39m, \u001b[38;5;124m'\u001b[39m\u001b[38;5;124mr\u001b[39m\u001b[38;5;124m'\u001b[39m)\n",
      "File \u001b[1;32mc:\\Users\\dhlee\\anaconda3\\Lib\\site-packages\\IPython\\core\\interactiveshell.py:324\u001b[0m, in \u001b[0;36m_modified_open\u001b[1;34m(file, *args, **kwargs)\u001b[0m\n\u001b[0;32m    317\u001b[0m \u001b[38;5;28;01mif\u001b[39;00m file \u001b[38;5;129;01min\u001b[39;00m {\u001b[38;5;241m0\u001b[39m, \u001b[38;5;241m1\u001b[39m, \u001b[38;5;241m2\u001b[39m}:\n\u001b[0;32m    318\u001b[0m     \u001b[38;5;28;01mraise\u001b[39;00m \u001b[38;5;167;01mValueError\u001b[39;00m(\n\u001b[0;32m    319\u001b[0m         \u001b[38;5;124mf\u001b[39m\u001b[38;5;124m\"\u001b[39m\u001b[38;5;124mIPython won\u001b[39m\u001b[38;5;124m'\u001b[39m\u001b[38;5;124mt let you open fd=\u001b[39m\u001b[38;5;132;01m{\u001b[39;00mfile\u001b[38;5;132;01m}\u001b[39;00m\u001b[38;5;124m by default \u001b[39m\u001b[38;5;124m\"\u001b[39m\n\u001b[0;32m    320\u001b[0m         \u001b[38;5;124m\"\u001b[39m\u001b[38;5;124mas it is likely to crash IPython. If you know what you are doing, \u001b[39m\u001b[38;5;124m\"\u001b[39m\n\u001b[0;32m    321\u001b[0m         \u001b[38;5;124m\"\u001b[39m\u001b[38;5;124myou can use builtins\u001b[39m\u001b[38;5;124m'\u001b[39m\u001b[38;5;124m open.\u001b[39m\u001b[38;5;124m\"\u001b[39m\n\u001b[0;32m    322\u001b[0m     )\n\u001b[1;32m--> 324\u001b[0m \u001b[38;5;28;01mreturn\u001b[39;00m io_open(file, \u001b[38;5;241m*\u001b[39margs, \u001b[38;5;241m*\u001b[39m\u001b[38;5;241m*\u001b[39mkwargs)\n",
      "\u001b[1;31mFileNotFoundError\u001b[0m: [Errno 2] No such file or directory: '나없는파일'"
     ]
    }
   ],
   "source": [
    "# FileNotFoundError\n",
    "f = open(\"나없는파일\", 'r')             #존재하지 않는 파일 오류"
   ]
  },
  {
   "cell_type": "code",
   "execution_count": 4,
   "metadata": {},
   "outputs": [
    {
     "ename": "ZeroDivisionError",
     "evalue": "division by zero",
     "output_type": "error",
     "traceback": [
      "\u001b[1;31m---------------------------------------------------------------------------\u001b[0m",
      "\u001b[1;31mZeroDivisionError\u001b[0m                         Traceback (most recent call last)",
      "Cell \u001b[1;32mIn[4], line 2\u001b[0m\n\u001b[0;32m      1\u001b[0m \u001b[38;5;66;03m# ZeroDivisionError\u001b[39;00m\n\u001b[1;32m----> 2\u001b[0m \u001b[38;5;241m4\u001b[39m \u001b[38;5;241m/\u001b[39m \u001b[38;5;241m0\u001b[39m\n",
      "\u001b[1;31mZeroDivisionError\u001b[0m: division by zero"
     ]
    }
   ],
   "source": [
    "# ZeroDivisionError\n",
    "4 / 0"
   ]
  },
  {
   "cell_type": "code",
   "execution_count": 3,
   "metadata": {},
   "outputs": [
    {
     "ename": "IndexError",
     "evalue": "list index out of range",
     "output_type": "error",
     "traceback": [
      "\u001b[1;31m---------------------------------------------------------------------------\u001b[0m",
      "\u001b[1;31mIndexError\u001b[0m                                Traceback (most recent call last)",
      "Cell \u001b[1;32mIn[3], line 2\u001b[0m\n\u001b[0;32m      1\u001b[0m a \u001b[38;5;241m=\u001b[39m [\u001b[38;5;241m1\u001b[39m, \u001b[38;5;241m2\u001b[39m, \u001b[38;5;241m3\u001b[39m]\n\u001b[1;32m----> 2\u001b[0m a[\u001b[38;5;241m3\u001b[39m]\n",
      "\u001b[1;31mIndexError\u001b[0m: list index out of range"
     ]
    }
   ],
   "source": [
    "# IndexError\n",
    "a = [1, 2, 3]\n",
    "a[3]"
   ]
  },
  {
   "cell_type": "markdown",
   "metadata": {},
   "source": [
    "# 오류처리방법\n",
    "```python\n",
    "try:\n",
    "    ...\n",
    "except [발생오류 [as 오류변수]]:\n",
    "    ...\n",
    "\n",
    "```\n",
    "\n",
    "\n",
    "try 블록 수행 중 오류가 발생하면 except 블록이 수행된다. 하지만 try 블록에서 오류가 발생하지 않는다면 except 블록은 수행되지 않는다.\n",
    "\n",
    "except에 []를 사용하는데, 이 기호는 괄호 안의 내용을 생략할 수 있다는 관례적인 표기법이다.\n",
    "\n",
    "try-except은 세가지 방법을 사용 가능\n",
    "\n",
    "1. try-except만 쓰는 방법\n",
    "\n",
    "```python\n",
    "\n",
    "\n",
    "try:\n",
    "    ...\n",
    "except:\n",
    "    ...\n",
    "```\n",
    "\n",
    "이 경우에는 오류의 종류에 상관없이 오류가 발생하면 except 블록을 수행한다.\n",
    "\n",
    "2. 발생 오류만 포함한 except 문\n",
    "```python\n",
    "\n",
    "try:\n",
    "    ...\n",
    "except 발생오류:\n",
    "    ...\n",
    "\n",
    "```\n",
    "\n",
    "오류가 발생했을 때 except 문에 미리 정해 놓은 오류와 동일한 오류일 경우에만 except 블록을 수행한다는 뜻이다.\n",
    "\n",
    "3. 발생 오류와 오류 변수까지 포함한 except 문\n",
    "\n",
    "```python\n",
    "try:\n",
    "    ...\n",
    "except 발생오류 as 오류변수:\n",
    "    ...\n",
    "```\n",
    "\n",
    "이 경우는 두 번째 경우에서 오류의 내용까지 알고 싶을 때 사용하는 방법이다.\n",
    "\n",
    "아래에서 예시를 보자."
   ]
  },
  {
   "cell_type": "code",
   "execution_count": 6,
   "metadata": {},
   "outputs": [
    {
     "name": "stdout",
     "output_type": "stream",
     "text": [
      "division by zero\n"
     ]
    }
   ],
   "source": [
    "try: 4/0\n",
    "except ZeroDivisionError as e:\n",
    "    print(e) "
   ]
  },
  {
   "cell_type": "markdown",
   "metadata": {},
   "source": [
    "## try-finally 문\n",
    "\n",
    "try 문에는 finally 절을 사용할 수 있다.\n",
    "\n",
    "finally 절은 try 문 수행 도중 예외 발생 여부에 상관없이 항상 수행된다. \n",
    "\n",
    "보통 finally 절은 사용한 리소스를 close해야 할 때 많이 사용한다.\n",
    "```python\n",
    "# try_finally.py\n",
    "try:\n",
    "    f = open('foo.txt', 'w')\n",
    "    # 무언가를 수행한다.\n",
    "\n",
    "    (... 생략 ...)\n",
    "\n",
    "finally:\n",
    "    f.close()  # 중간에 오류가 발생하더라도 무조건 실행된다.\n",
    "\n",
    "```\n",
    "\n",
    "foo.txt 파일을 쓰기 모드로 연 후 예외 발생 여부에 상관없이 항상 파일을 닫아 주려면 try-finally 문을 사용하면 된다."
   ]
  },
  {
   "cell_type": "markdown",
   "metadata": {},
   "source": [
    "## 여러 개의 오류 처리하기\n",
    "\n",
    "```python\n",
    "try:\n",
    "    ...\n",
    "except 발생오류1:\n",
    "   ... \n",
    "except 발생오류2:\n",
    "   ...\n",
    "\n",
    "```\n"
   ]
  },
  {
   "cell_type": "code",
   "execution_count": 9,
   "metadata": {},
   "outputs": [
    {
     "name": "stdout",
     "output_type": "stream",
     "text": [
      "인덱싱 할 수 없습니다.\n"
     ]
    }
   ],
   "source": [
    "# many_error.py\n",
    "try:\n",
    "    a = [1,2]\n",
    "    print(a[3])\n",
    "    4/0\n",
    "except ZeroDivisionError:\n",
    "    print(\"0으로 나눌 수 없습니다.\")        \n",
    "except IndexError:\n",
    "    print(\"인덱싱 할 수 없습니다.\")\n",
    "\n",
    "#인덱싱 오류가 먼저 발생했으므로 4 / 0에 따른 ZeroDivisionError 오류는 발생하지 않는다."
   ]
  },
  {
   "cell_type": "code",
   "execution_count": 11,
   "metadata": {},
   "outputs": [
    {
     "name": "stdout",
     "output_type": "stream",
     "text": [
      "list index out of range\n"
     ]
    }
   ],
   "source": [
    "#오류를 확인하고 싶다면\n",
    "try:\n",
    "    a = [1,2]\n",
    "    print(a[3])\n",
    "    4/0\n",
    "except ZeroDivisionError as e:\n",
    "    print(e)\n",
    "except IndexError as e:\n",
    "    print(e)\n"
   ]
  },
  {
   "cell_type": "code",
   "execution_count": 12,
   "metadata": {},
   "outputs": [
    {
     "name": "stdout",
     "output_type": "stream",
     "text": [
      "list index out of range\n"
     ]
    }
   ],
   "source": [
    "# 두개 이상의 오류를 한꺼번에 처리하고 싶다면\n",
    "try:\n",
    "    a = [1,2]\n",
    "    print(a[3])\n",
    "    4/0\n",
    "except (ZeroDivisionError, IndexError) as e:\n",
    "    print(e)\n"
   ]
  },
  {
   "cell_type": "markdown",
   "metadata": {},
   "source": [
    "## try-else문\n",
    "\n",
    "```python\n",
    "try:\n",
    "    ...\n",
    "except [발생오류 [as 오류변수]]:\n",
    "    ...\n",
    "else:  # 오류가 없을 경우에만 수행\n",
    "    ...\n",
    "```\n",
    "\n",
    "try 문 수행 중 오류가 발생하면 except 절, 오류가 발생하지 않으면 else 절이 수행된다."
   ]
  },
  {
   "cell_type": "code",
   "execution_count": 13,
   "metadata": {},
   "outputs": [
    {
     "name": "stdout",
     "output_type": "stream",
     "text": [
      "입력이 정확하지 않습니다.\n"
     ]
    }
   ],
   "source": [
    "#예제\n",
    "try: age=int(input('나이를 입력하세요'))\n",
    "\n",
    "except: print('입력이 정확하지 않습니다.')\n",
    "\n",
    "else: \n",
    "    if age<=18:\n",
    "        print('미성년자는 안돼요~')\n",
    "    else:\n",
    "        print('어서오세요')"
   ]
  },
  {
   "cell_type": "markdown",
   "metadata": {},
   "source": [
    "## 오류 회피하기\n",
    "\n",
    "만일 오류를 회피하고 싶다면?\n",
    "\n",
    "except에서 pass를 써라."
   ]
  },
  {
   "cell_type": "code",
   "execution_count": 14,
   "metadata": {},
   "outputs": [],
   "source": [
    "try:\n",
    "    f = open(\"나없는파일\", 'r')\n",
    "except FileNotFoundError:\n",
    "    pass"
   ]
  },
  {
   "cell_type": "markdown",
   "metadata": {},
   "source": [
    "## 오류 일부러 발생시키기\n",
    "\n",
    "raise 명령어를 이용해서 오류를 일부러 발생시켜도 된다.\n"
   ]
  },
  {
   "cell_type": "code",
   "execution_count": 16,
   "metadata": {},
   "outputs": [],
   "source": [
    "# error_raise.py\n",
    "class Bird:\n",
    "    def fly(self):\n",
    "        raise NotImplementedError           # NotImplementedError는 파이썬에 이미 정의되어 있는 오류로, \n",
    "                                            # 꼭 작성해야 하는 부분이 구현되지 않았을 경우 일부러 오류를 발생시키기 위해 사용한다.\n"
   ]
  },
  {
   "cell_type": "code",
   "execution_count": 18,
   "metadata": {},
   "outputs": [
    {
     "ename": "NotImplementedError",
     "evalue": "",
     "output_type": "error",
     "traceback": [
      "\u001b[1;31m---------------------------------------------------------------------------\u001b[0m",
      "\u001b[1;31mNotImplementedError\u001b[0m                       Traceback (most recent call last)",
      "Cell \u001b[1;32mIn[18], line 5\u001b[0m\n\u001b[0;32m      2\u001b[0m     \u001b[38;5;28;01mpass\u001b[39;00m\n\u001b[0;32m      4\u001b[0m eagle \u001b[38;5;241m=\u001b[39m Eagle()\n\u001b[1;32m----> 5\u001b[0m eagle\u001b[38;5;241m.\u001b[39mfly()\n",
      "Cell \u001b[1;32mIn[16], line 4\u001b[0m, in \u001b[0;36mBird.fly\u001b[1;34m(self)\u001b[0m\n\u001b[0;32m      3\u001b[0m \u001b[38;5;28;01mdef\u001b[39;00m \u001b[38;5;21mfly\u001b[39m(\u001b[38;5;28mself\u001b[39m):\n\u001b[1;32m----> 4\u001b[0m     \u001b[38;5;28;01mraise\u001b[39;00m \u001b[38;5;167;01mNotImplementedError\u001b[39;00m\n",
      "\u001b[1;31mNotImplementedError\u001b[0m: "
     ]
    }
   ],
   "source": [
    "class Eagle(Bird):\n",
    "    pass\n",
    "\n",
    "eagle = Eagle()\n",
    "eagle.fly()\n",
    "\n",
    "# Eagle 클래스는 Bird 클래스를 상속받았다. 그런데 Eagle 클래스는 fly 메서드를 오버라이딩하여 구현하지 않았다. \n",
    "# 따라서 eagle 객체의 fly 메서드를 수행하는 순간 Bird 클래스의 fly 메서드가 수행되어 NotImplementedError가 발생한다.\n",
    "\n",
    "# 이 예외는 주로 부모 클래스에서 정의된 메서드가 자식 클래스에서 구현되지 않은 경우에 발생합니다."
   ]
  },
  {
   "cell_type": "markdown",
   "metadata": {},
   "source": [
    "NotImplementedError가 발생하지 않게 하려면 다음과 같이 Eagle 클래스에 fly 함수를 구현해야 한다.(오버라이딩을 해야한다.)"
   ]
  },
  {
   "cell_type": "code",
   "execution_count": 19,
   "metadata": {},
   "outputs": [
    {
     "name": "stdout",
     "output_type": "stream",
     "text": [
      "fly\n"
     ]
    }
   ],
   "source": [
    "class Eagle(Bird):\n",
    "    def fly(self):\n",
    "        print(\"fly\")\n",
    "\n",
    "eagle=Eagle()\n",
    "eagle.fly()                         #이러면 오류가 나타나지 않는다."
   ]
  },
  {
   "cell_type": "markdown",
   "metadata": {},
   "source": [
    "## 예외 만들기\n",
    "\n",
    "프로그램을 수행하다가 특수한 경우에만 예외 처리를 하려고 종종 예외를 만들어서 사용한다. 이번에는 직접 예외를 만들어 보자.\n",
    "\n",
    "예외는 다음과 같이 파이썬 내장 클래스인 Exception 클래스를 상속하여 만들 수 있다."
   ]
  },
  {
   "cell_type": "code",
   "execution_count": 27,
   "metadata": {},
   "outputs": [],
   "source": [
    "class MyError(Exception):\n",
    "    def __str__(self):\n",
    "        return \"허용되지 않은 별명입니다\""
   ]
  },
  {
   "cell_type": "code",
   "execution_count": 28,
   "metadata": {},
   "outputs": [],
   "source": [
    "def Say_Nick(nick):\n",
    "    if nick=='바보':\n",
    "        raise MyError\n",
    "    print(nick)"
   ]
  },
  {
   "cell_type": "code",
   "execution_count": 29,
   "metadata": {},
   "outputs": [
    {
     "name": "stdout",
     "output_type": "stream",
     "text": [
      "천사\n"
     ]
    },
    {
     "ename": "MyError",
     "evalue": "허용되지 않은 별명입니다",
     "output_type": "error",
     "traceback": [
      "\u001b[1;31m---------------------------------------------------------------------------\u001b[0m",
      "\u001b[1;31mMyError\u001b[0m                                   Traceback (most recent call last)",
      "Cell \u001b[1;32mIn[29], line 2\u001b[0m\n\u001b[0;32m      1\u001b[0m Say_Nick(\u001b[38;5;124m'\u001b[39m\u001b[38;5;124m천사\u001b[39m\u001b[38;5;124m'\u001b[39m)\n\u001b[1;32m----> 2\u001b[0m Say_Nick(\u001b[38;5;124m'\u001b[39m\u001b[38;5;124m바보\u001b[39m\u001b[38;5;124m'\u001b[39m)\n",
      "Cell \u001b[1;32mIn[28], line 3\u001b[0m, in \u001b[0;36mSay_Nick\u001b[1;34m(nick)\u001b[0m\n\u001b[0;32m      1\u001b[0m \u001b[38;5;28;01mdef\u001b[39;00m \u001b[38;5;21mSay_Nick\u001b[39m(nick):\n\u001b[0;32m      2\u001b[0m     \u001b[38;5;28;01mif\u001b[39;00m nick\u001b[38;5;241m==\u001b[39m\u001b[38;5;124m'\u001b[39m\u001b[38;5;124m바보\u001b[39m\u001b[38;5;124m'\u001b[39m:\n\u001b[1;32m----> 3\u001b[0m         \u001b[38;5;28;01mraise\u001b[39;00m MyError\n\u001b[0;32m      4\u001b[0m     \u001b[38;5;28mprint\u001b[39m(nick)\n",
      "\u001b[1;31mMyError\u001b[0m: 허용되지 않은 별명입니다"
     ]
    }
   ],
   "source": [
    "Say_Nick('천사')\n",
    "Say_Nick('바보')"
   ]
  },
  {
   "cell_type": "code",
   "execution_count": 30,
   "metadata": {},
   "outputs": [
    {
     "name": "stdout",
     "output_type": "stream",
     "text": [
      "천사\n",
      "허용되지 않은 별명입니다.\n"
     ]
    }
   ],
   "source": [
    "try:\n",
    "    Say_Nick('천사')\n",
    "    Say_Nick('바보')\n",
    "\n",
    "except MyError:\n",
    "    print('허용되지 않은 별명입니다.')"
   ]
  },
  {
   "cell_type": "code",
   "execution_count": 31,
   "metadata": {},
   "outputs": [
    {
     "name": "stdout",
     "output_type": "stream",
     "text": [
      "천사\n",
      "허용되지 않은 별명입니다\n"
     ]
    }
   ],
   "source": [
    "try:\n",
    "    Say_Nick('천사')\n",
    "    Say_Nick('바보')\n",
    "\n",
    "except MyError as e:\n",
    "    print(e)"
   ]
  },
  {
   "cell_type": "code",
   "execution_count": null,
   "metadata": {},
   "outputs": [],
   "source": []
  }
 ],
 "metadata": {
  "kernelspec": {
   "display_name": "base",
   "language": "python",
   "name": "python3"
  },
  "language_info": {
   "codemirror_mode": {
    "name": "ipython",
    "version": 3
   },
   "file_extension": ".py",
   "mimetype": "text/x-python",
   "name": "python",
   "nbconvert_exporter": "python",
   "pygments_lexer": "ipython3",
   "version": "3.12.3"
  }
 },
 "nbformat": 4,
 "nbformat_minor": 2
}

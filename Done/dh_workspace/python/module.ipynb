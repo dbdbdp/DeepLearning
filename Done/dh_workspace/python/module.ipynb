{
 "cells": [
  {
   "cell_type": "code",
   "execution_count": 2,
   "metadata": {},
   "outputs": [
    {
     "name": "stdout",
     "output_type": "stream",
     "text": [
      "7\n",
      "2\n"
     ]
    }
   ],
   "source": [
    "#  C:\\git_experiment\\RWL_Intern\\python 폴더에 mod1.py이라는 파일을 만들었음.\n",
    "# 이 mod1.py 파일이 바로 모듈이다.\n",
    "# (파이썬 확장자 .py로 만든 파이썬 파일은 모두 모듈이다.)\n",
    "\n",
    "# 우리가 만든 mod1.py 파일, 즉 모듈을 파이썬에서 불러와 사용하려면 어떻게 해야 할까?\n",
    "# 반드시 mod1.py 파일을 저장한 C:\\doit 디렉터리로 이동한 후 예제를 진행해야 한다. 그래야만 대화형 인터프리터에서 mod1.py 모듈을 읽을 수 있다.\n",
    "import mod1\n",
    "\n",
    "print(mod1.add(3,4))\n",
    "\n",
    "print(mod1.sub(4,2))"
   ]
  },
  {
   "cell_type": "markdown",
   "metadata": {},
   "source": [
    "mod1.py 모듈을 불러오기 위해 import mod1이라고 입력했다. \n",
    "\n",
    "실수로 import mod1.py라고 입력하지 않도록 주의하자. \n",
    "\n",
    "import는 이미 만들어 놓은 파이썬 모듈을 사용할 수 있게 해 주는 명령어이다. \n",
    "\n",
    "mod1. py 파일에 있는 add 함수를 사용하기 위해서는 mod1.add처럼 모듈 이름 뒤에 도트 연산자(.)를 붙이고 함수 이름을 쓰면 된다.\n",
    "\n",
    "* import는 현재 디렉터리에 있는 파일이나 파이썬 라이브러리가 저장된 디렉터리에 있는 모듈만 불러올 수 있다.\n",
    "* 파이썬 라이브러리는 파이썬을 설치할 때 자동으로 설치되는 파이썬 모듈을 말한다.\n"
   ]
  },
  {
   "cell_type": "markdown",
   "metadata": {},
   "source": [
    "import 사용방법은 다음과 같다.\n",
    "\n",
    "> import 모듈_이름"
   ]
  },
  {
   "cell_type": "markdown",
   "metadata": {},
   "source": [
    "때로는 mod1.add, mod1.sub처럼 쓰지 않고 add, sub처럼 모듈 이름 없이 함수 이름만 쓰고 싶은 경우도 있을 것이다. 이럴 때는 다음과 같이 사용하면 된다.\n",
    "\n",
    "> from 모듈_이름 import 모듈_함수\n",
    "\n",
    "위와 같이 함수를 직접 import하면 모듈 이름을 붙이지 않고 바로 해당 모듈의 함수를 쓸 수 있다."
   ]
  },
  {
   "cell_type": "code",
   "execution_count": 3,
   "metadata": {},
   "outputs": [
    {
     "data": {
      "text/plain": [
       "7"
      ]
     },
     "execution_count": 3,
     "metadata": {},
     "output_type": "execute_result"
    }
   ],
   "source": [
    "from mod1 import add                    #이건 오직 add만 사용 가능.\n",
    "add(3,4)                "
   ]
  },
  {
   "cell_type": "code",
   "execution_count": 4,
   "metadata": {},
   "outputs": [
    {
     "name": "stdout",
     "output_type": "stream",
     "text": [
      "5\n",
      "-2\n"
     ]
    }
   ],
   "source": [
    "# add와 sub 두 개 함수 모두 mod1이라는 이름 없이 사용하려면\n",
    "from mod1 import add, sub\n",
    "print(add(2,3))\n",
    "print(sub(1,3))"
   ]
  },
  {
   "cell_type": "code",
   "execution_count": 5,
   "metadata": {},
   "outputs": [],
   "source": [
    "# 또는 \n",
    "from mod1 import *                  #* 문자는 ‘모든 것’이라는 뜻. mod1의 모든 함수를 사용하겠다는 뜻이다.\n",
    "\n"
   ]
  },
  {
   "cell_type": "code",
   "execution_count": 6,
   "metadata": {},
   "outputs": [],
   "source": [
    "import mod1_2\n",
    "#mod1_2의 __name__이 거짓이 되기 때문에 if아래줄은 실행이 되지 않는다."
   ]
  },
  {
   "cell_type": "code",
   "execution_count": 7,
   "metadata": {},
   "outputs": [
    {
     "data": {
      "text/plain": [
       "'mod1_2'"
      ]
     },
     "execution_count": 7,
     "metadata": {},
     "output_type": "execute_result"
    }
   ],
   "source": [
    "import mod1_2\n",
    "mod1_2.__name__\n",
    "\n",
    "#파이썬의 __name__ 변수는 파이썬이 내부적으로 사용하는 특별한 변수 이름이다. \n",
    "# 만약 C:\\doit>python mod1_2.py처럼 직접 mod1_2.py 파일을 실행할 경우, mod1_2.py의 __name__ 변수에는 __main__ 값이 저장된다. \n",
    "# 하지만 파이썬 셸이나 다른 파이썬 모듈에서 mod1_2을 import할 경우에는 mod1_2.py의 __name__ 변수에 mod1_2.py의 모듈 이름인 mod1_2이 저장된다."
   ]
  },
  {
   "cell_type": "code",
   "execution_count": 8,
   "metadata": {},
   "outputs": [
    {
     "data": {
      "text/plain": [
       "3.141592"
      ]
     },
     "execution_count": 8,
     "metadata": {},
     "output_type": "execute_result"
    }
   ],
   "source": [
    "import mod2\n",
    "mod2.PI                 #mod2에 변수가 존재하는데 모듈을 import 했을 때 변수 사용 가능"
   ]
  },
  {
   "cell_type": "code",
   "execution_count": 10,
   "metadata": {},
   "outputs": [
    {
     "data": {
      "text/plain": [
       "12.566368"
      ]
     },
     "execution_count": 10,
     "metadata": {},
     "output_type": "execute_result"
    }
   ],
   "source": [
    "#모듈에 존재하는 클래스 사용하기\n",
    "import mod2\n",
    "a=mod2.Math()\n",
    "a.solv(2)"
   ]
  },
  {
   "cell_type": "code",
   "execution_count": 11,
   "metadata": {},
   "outputs": [
    {
     "data": {
      "text/plain": [
       "7.5415920000000005"
      ]
     },
     "execution_count": 11,
     "metadata": {},
     "output_type": "execute_result"
    }
   ],
   "source": [
    "#당연히 mod2모듈에 존재하는 함수도 사용할 수 있다.\n",
    "import mod2\n",
    "mod2.add(mod2.PI,4.4)"
   ]
  },
  {
   "cell_type": "code",
   "execution_count": 12,
   "metadata": {},
   "outputs": [],
   "source": [
    "#참고로 모듈을 import할 때는 동일한 디렉터리에 존재해야 한다. "
   ]
  },
  {
   "cell_type": "code",
   "execution_count": 13,
   "metadata": {},
   "outputs": [],
   "source": [
    "import sys          # sys 모듈은 파이썬을 설치할 때 함께 설치되는 라이브러리 모듈이다. \n",
    "                    # 이 sys 모듈을 사용하면 파이썬 라이브러리가 설치되어 있는 디렉터리를 확인할 수 있다."
   ]
  },
  {
   "cell_type": "code",
   "execution_count": 14,
   "metadata": {},
   "outputs": [
    {
     "data": {
      "text/plain": [
       "['c:\\\\git_experiment\\\\RWL_Intern\\\\dh_workspace\\\\python',\n",
       " 'c:\\\\Users\\\\dhlee\\\\anaconda3\\\\python312.zip',\n",
       " 'c:\\\\Users\\\\dhlee\\\\anaconda3\\\\DLLs',\n",
       " 'c:\\\\Users\\\\dhlee\\\\anaconda3\\\\Lib',\n",
       " 'c:\\\\Users\\\\dhlee\\\\anaconda3',\n",
       " '',\n",
       " 'c:\\\\Users\\\\dhlee\\\\anaconda3\\\\Lib\\\\site-packages',\n",
       " 'c:\\\\Users\\\\dhlee\\\\anaconda3\\\\Lib\\\\site-packages\\\\win32',\n",
       " 'c:\\\\Users\\\\dhlee\\\\anaconda3\\\\Lib\\\\site-packages\\\\win32\\\\lib',\n",
       " 'c:\\\\Users\\\\dhlee\\\\anaconda3\\\\Lib\\\\site-packages\\\\Pythonwin',\n",
       " 'c:\\\\Users\\\\dhlee\\\\anaconda3\\\\Lib\\\\site-packages\\\\setuptools\\\\_vendor']"
      ]
     },
     "execution_count": 14,
     "metadata": {},
     "output_type": "execute_result"
    }
   ],
   "source": [
    "sys.path            # sys.path는 파이썬 라이브러리가 설치되어 있는 디렉터리 목록을 보여 준다. \n",
    "                    # 이 디렉터리 안에 저장된 파이썬 모듈은 모듈이 저장된 디렉터리로 이동할 필요 없이 바로 불러 사용할 수 있다."
   ]
  },
  {
   "cell_type": "code",
   "execution_count": 17,
   "metadata": {},
   "outputs": [
    {
     "data": {
      "text/plain": [
       "['c:\\\\git_experiment\\\\RWL_Intern\\\\dh_workspace\\\\python',\n",
       " 'c:\\\\Users\\\\dhlee\\\\anaconda3\\\\python312.zip',\n",
       " 'c:\\\\Users\\\\dhlee\\\\anaconda3\\\\DLLs',\n",
       " 'c:\\\\Users\\\\dhlee\\\\anaconda3\\\\Lib',\n",
       " 'c:\\\\Users\\\\dhlee\\\\anaconda3',\n",
       " '',\n",
       " 'c:\\\\Users\\\\dhlee\\\\anaconda3\\\\Lib\\\\site-packages',\n",
       " 'c:\\\\Users\\\\dhlee\\\\anaconda3\\\\Lib\\\\site-packages\\\\win32',\n",
       " 'c:\\\\Users\\\\dhlee\\\\anaconda3\\\\Lib\\\\site-packages\\\\win32\\\\lib',\n",
       " 'c:\\\\Users\\\\dhlee\\\\anaconda3\\\\Lib\\\\site-packages\\\\Pythonwin',\n",
       " 'c:\\\\Users\\\\dhlee\\\\anaconda3\\\\Lib\\\\site-packages\\\\setuptools\\\\_vendor',\n",
       " 'C:/doit/mymod',\n",
       " 'C:/doit/mymod']"
      ]
     },
     "execution_count": 17,
     "metadata": {},
     "output_type": "execute_result"
    }
   ],
   "source": [
    "# 그렇다면 sys.path에 C:\\doit\\mymod 디렉터리를 추가하면 mymod 디렉터리에 저장된 파이썬 모듈은 아무 곳에서나 불러 사용할 수 있지 않을까? 당연하다. \n",
    "# sys.path는 리스트이므로 우리는 다음과 같이 할 수 있다.\n",
    "sys.path.append(\"C:/doit/mymod\")\n",
    "sys.path                        # sys.path.append를 사용해서 C:/doit/mymod라는 디렉터리를 sys.path에 추가했다. \n",
    "                                # 그리고 다시 sys.path를 출력해 보니 가장 마지막에 C:/doit/mymod 디렉터리가 추가되었다.\n",
    "                                # 이렇게 되면 c:/doit/mymod에 존재하는 py파일을 디렉터리 이동 없이 import할 수 있다."
   ]
  },
  {
   "cell_type": "code",
   "execution_count": 20,
   "metadata": {},
   "outputs": [],
   "source": [
    "# PYTHONPATH 환경 변수 사용하기\n",
    "# 모듈을 불러와서 사용하는 또 다른 방법으로는 PYTHONPATH 환경 변수를 사용하는 방법이 있다.\n",
    "# C:\\git_experiment\\RWL_Intern> set PYTHONPATH=C:\\git_experiment\\RWL_Intern\\dh_workspace\\python\n",
    "# C:\\git_experiment\\RWL_Intern\\dh_workspace\\python>python\n",
    "# >>> import mod2\n",
    "# >>> print(mod2.add(3, 4))                 #add 쓸 때도 mod2.add를 써야함."
   ]
  },
  {
   "cell_type": "code",
   "execution_count": null,
   "metadata": {},
   "outputs": [],
   "source": []
  }
 ],
 "metadata": {
  "kernelspec": {
   "display_name": "base",
   "language": "python",
   "name": "python3"
  },
  "language_info": {
   "codemirror_mode": {
    "name": "ipython",
    "version": 3
   },
   "file_extension": ".py",
   "mimetype": "text/x-python",
   "name": "python",
   "nbconvert_exporter": "python",
   "pygments_lexer": "ipython3",
   "version": "3.12.3"
  }
 },
 "nbformat": 4,
 "nbformat_minor": 2
}

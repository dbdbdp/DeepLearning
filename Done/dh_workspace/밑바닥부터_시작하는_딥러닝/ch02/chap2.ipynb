{
 "cells": [
  {
   "cell_type": "markdown",
   "metadata": {},
   "source": [
    "# AND 게이트\n",
    "\n",
    "x1*w1+x2*w2<=theta      ->      1\n",
    "\n",
    "x1*w1+x2*w2>theta       ->      0\n",
    "\n",
    "이 된다."
   ]
  },
  {
   "cell_type": "code",
   "execution_count": 3,
   "metadata": {},
   "outputs": [
    {
     "name": "stdout",
     "output_type": "stream",
     "text": [
      "0\n",
      "0\n",
      "0\n",
      "1\n"
     ]
    }
   ],
   "source": [
    "def AND(x1,x2):\n",
    "    w1, w2, theta=0.5,0.5,0.7\n",
    "    tmp=x1*w1+x2*w2\n",
    "    if tmp<=theta:\n",
    "        return 0\n",
    "    elif tmp>theta:\n",
    "        return 1\n",
    "\n",
    "\n",
    "print(AND(0,0))\n",
    "print(AND(0,1))\n",
    "print(AND(1,0))\n",
    "print(AND(1,1))"
   ]
  },
  {
   "cell_type": "markdown",
   "metadata": {},
   "source": [
    "# 가중치와 편향 도입\n",
    "\n",
    "-theta 를 b로 치환한다.(b를 편향이라 한다.)\n",
    "\n",
    "(w1,w2는 가중치라 한다. )\n",
    "\n",
    ">**y=0(b+w1*x1+w2*x2<=0)**\n",
    "\n",
    ">**y=1(b+w1*x1+w2*x2>0)**\n",
    "\n",
    "\n",
    "정리)\n",
    "\n",
    "### AND\n",
    "- 가중치(w1,w2), 편향(b) 모두 양수\n",
    "\n",
    "### NAND\n",
    "- 가중치(w1,w2), 편향(b) 모두 음수\n",
    "\n",
    "### OR\n",
    "- 가중치(w1,w2) 양수, 편향(b) 음수(편향의 절대값은 AND, NAND에 비해 작다.)"
   ]
  },
  {
   "cell_type": "code",
   "execution_count": 6,
   "metadata": {},
   "outputs": [
    {
     "data": {
      "text/plain": [
       "-0.19999999999999996"
      ]
     },
     "execution_count": 6,
     "metadata": {},
     "output_type": "execute_result"
    }
   ],
   "source": [
    "# numpy를 이용해서 구해보자.\n",
    "\n",
    "import numpy as np\n",
    "\n",
    "x=np.array([0,1])\n",
    "w=np.array([0.5,0.5])\n",
    "b=-0.7\n",
    "np.sum(w*x)+b"
   ]
  },
  {
   "cell_type": "code",
   "execution_count": 8,
   "metadata": {},
   "outputs": [
    {
     "name": "stdout",
     "output_type": "stream",
     "text": [
      "0\n",
      "0\n",
      "0\n",
      "1\n"
     ]
    }
   ],
   "source": [
    "def AND(x1,x2):\n",
    "    X=np.array([x1,x2])\n",
    "    w=np.array([0.5,0.5])\n",
    "    b=-0.7\n",
    "    if np.sum(w*X)+b>0:\n",
    "        return 1\n",
    "    else: return 0\n",
    "\n",
    "print(AND(0,0))\n",
    "print(AND(0,1))\n",
    "print(AND(1,0))\n",
    "print(AND(1,1))"
   ]
  },
  {
   "cell_type": "markdown",
   "metadata": {},
   "source": [
    "w1과 w2는 각 입력 신호가 결과에 주는 영향력을 조절하는 매개변수고, 편향은 뉴런이 얼마나 쉽게 활성화(결과로 1을 출력) 하느냐를 조정하는 매개변수이다."
   ]
  },
  {
   "cell_type": "code",
   "execution_count": 11,
   "metadata": {},
   "outputs": [
    {
     "name": "stdout",
     "output_type": "stream",
     "text": [
      "1\n",
      "1\n",
      "1\n",
      "0\n"
     ]
    }
   ],
   "source": [
    "def NAND(x1,x2):\n",
    "    X=np.array([x1, x2])\n",
    "    w=np.array([-0.5, -0.5])\n",
    "    b=0.7\n",
    "    if np.sum(w*X)+b>0:\n",
    "        return 1\n",
    "    else: return 0\n",
    "\n",
    "\n",
    "print(NAND(0,0))\n",
    "print(NAND(0,1))\n",
    "print(NAND(1,0))\n",
    "print(NAND(1,1))"
   ]
  },
  {
   "cell_type": "code",
   "execution_count": 14,
   "metadata": {},
   "outputs": [
    {
     "name": "stdout",
     "output_type": "stream",
     "text": [
      "0\n",
      "1\n",
      "1\n",
      "1\n"
     ]
    }
   ],
   "source": [
    "def OR(x1,x2):\n",
    "    X=np.array([x1,x2])\n",
    "    w=np.array([0.5,0.5])\n",
    "    b=-0.2\n",
    "    \n",
    "    temp=np.sum(w*X)+b\n",
    "\n",
    "    if temp>0: return 1\n",
    "    else: return 0\n",
    "\n",
    "print(OR(0,0))\n",
    "print(OR(0,1))\n",
    "print(OR(1,0))\n",
    "print(OR(1,1))"
   ]
  },
  {
   "cell_type": "markdown",
   "metadata": {},
   "source": [
    "![XOR](XOR.png)"
   ]
  },
  {
   "cell_type": "markdown",
   "metadata": {},
   "source": [
    "# 2.5 다층 퍼셉트론\n",
    "\n",
    "퍼셉트론으로는 XOR게이트를 표현할 수 없지만, 다층 퍼셉트론을 만들 수는 있다. 이번 절에서 층을 하나 더 쌓아서 XOR를 표현해보자.\n",
    "\n",
    "![XOR2](XOR2.png)\n",
    "\n"
   ]
  },
  {
   "cell_type": "code",
   "execution_count": 17,
   "metadata": {},
   "outputs": [
    {
     "name": "stdout",
     "output_type": "stream",
     "text": [
      "0\n",
      "1\n",
      "1\n",
      "0\n"
     ]
    }
   ],
   "source": [
    "def XOR(x1,x2):\n",
    "    p1=OR(x1,x2)\n",
    "    p2=NAND(x1,x2)\n",
    "    return AND(p1,p2)\n",
    "\n",
    "print(XOR(0,0))\n",
    "print(XOR(0,1))\n",
    "print(XOR(1,0))\n",
    "print(XOR(1,1))\n",
    "\n"
   ]
  },
  {
   "cell_type": "markdown",
   "metadata": {},
   "source": [
    "![XOR3](XOR3.png)\n",
    "\n",
    "XOR는 다층 구조의 네트워크, 왼쪽부터 차례로 0층, 1층, 2층이라 부르겠다.\n",
    "\n",
    "AND, OR는 단층 퍼셉트론이고, XOR는 2층 퍼셉트론이다.(XOR는 모두 3층으로 구성되어 있다. 문헌에 따라 3층 퍼셉트론이라 하는 경우도 있다. 여기 책에서는 2층 퍼셉트론이라 한다. 그냥 그런갑다 하자) 이처럼 층이 여러개인 퍼셉트론을 다층 퍼셉트론이라 한다.\n",
    "\n",
    "1. 0층의 두 뉴런이 입력신호를 받아 1층의 뉴런으로 신호를 보낸다.\n",
    "2. 1층의 뉴런이 2층의 뉴런으로 신호를 보내고, 2층의 뉴런은 y를 출력한다.\n",
    "\n",
    "**단층 퍼셉트론으로 구현 못한 것은 다층 퍼셉트론으로 구현할 수 있다.**\n",
    "\n",
    "또한 퍼셉트론의 특징은 입력과 출력으로 구성된 특정 규칙대로 계산을 수행한다.\n",
    "\n",
    "<br>\n",
    "<br>\n",
    "\n",
    "*여기서 내 질문: 원하는 기능을 얻기 위해 다층 퍼셉트론을 어떻게 설계하는가?*"
   ]
  },
  {
   "cell_type": "code",
   "execution_count": null,
   "metadata": {},
   "outputs": [],
   "source": []
  }
 ],
 "metadata": {
  "kernelspec": {
   "display_name": "base",
   "language": "python",
   "name": "python3"
  },
  "language_info": {
   "codemirror_mode": {
    "name": "ipython",
    "version": 3
   },
   "file_extension": ".py",
   "mimetype": "text/x-python",
   "name": "python",
   "nbconvert_exporter": "python",
   "pygments_lexer": "ipython3",
   "version": "3.12.3"
  }
 },
 "nbformat": 4,
 "nbformat_minor": 2
}

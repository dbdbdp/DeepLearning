{
 "cells": [
  {
   "cell_type": "code",
   "execution_count": 1,
   "metadata": {},
   "outputs": [
    {
     "data": {
      "text/plain": [
       "array([[ 0,  1,  2],\n",
       "       [ 3,  4,  5],\n",
       "       [ 6,  7,  8],\n",
       "       [ 9, 10, 11],\n",
       "       [12, 13, 14],\n",
       "       [15, 16, 17],\n",
       "       [18, 19, 20]])"
      ]
     },
     "execution_count": 1,
     "metadata": {},
     "output_type": "execute_result"
    }
   ],
   "source": [
    "import numpy as np\n",
    "W=np.arange(21).reshape(7,3)\n",
    "W\n"
   ]
  },
  {
   "cell_type": "code",
   "execution_count": 2,
   "metadata": {},
   "outputs": [
    {
     "name": "stdout",
     "output_type": "stream",
     "text": [
      "[6 7 8]\n",
      "[18 19 20]\n"
     ]
    }
   ],
   "source": [
    "# 특정 행 추출하기\n",
    "print(W[2])\n",
    "print(W[6])"
   ]
  },
  {
   "cell_type": "code",
   "execution_count": 3,
   "metadata": {},
   "outputs": [
    {
     "data": {
      "text/plain": [
       "array([[ 3,  4,  5],\n",
       "       [ 0,  1,  2],\n",
       "       [ 9, 10, 11],\n",
       "       [ 0,  1,  2]])"
      ]
     },
     "execution_count": 3,
     "metadata": {},
     "output_type": "execute_result"
    }
   ],
   "source": [
    "# 여러개의 행 추출하기\n",
    "idx=np.array([1,0,3,0])\n",
    "W[idx]"
   ]
  },
  {
   "cell_type": "code",
   "execution_count": 4,
   "metadata": {},
   "outputs": [],
   "source": [
    "class Embedding:\n",
    "    def __init__(self,W):\n",
    "        self.params=[W]\n",
    "        self.grads=[np.zeros_like(W)]\n",
    "        self.idx=None\n",
    "\n",
    "    def forward(self,idx):\n",
    "        W,=self.params\n",
    "        self.idx=idx\n",
    "        out=W[idx]\n",
    "        return out"
   ]
  },
  {
   "cell_type": "code",
   "execution_count": 5,
   "metadata": {},
   "outputs": [],
   "source": [
    "class Embeddingdot:\n",
    "    def __init__(self,W):\n",
    "        self.embeded=Embedding(W)\n",
    "        self.params=self.embeded.params\n",
    "        self.grads=self.embeded.grads\n",
    "        self.cache=None\n",
    "\n",
    "    def forward(self,h,idx):\n",
    "        target_W=self.embeded.forward(idx)\n",
    "        out=np.sum(target_W*h,axis=1)\n",
    "\n",
    "        self.cache=(h, target_W)\n",
    "        return out\n",
    "    \n",
    "    def backward(self,dout):\n",
    "        h, target_W=self.cache\n",
    "        dout=dout.reshape(dout.shape[0],1)\n",
    "        dtarget_W=dout*h\n",
    "        self.embeded.backward(dtarget_W)\n",
    "        dh=dout*target_W\n",
    "        return dh"
   ]
  },
  {
   "cell_type": "code",
   "execution_count": 6,
   "metadata": {},
   "outputs": [
    {
     "name": "stdout",
     "output_type": "stream",
     "text": [
      "0\n",
      "6\n",
      ".\n",
      "['i' 'i' '.' 'goodbye' 'i']\n",
      "['hello' 'say' 'i' '.' 'goodbye']\n",
      ".\n"
     ]
    }
   ],
   "source": [
    "# 확률분포에 따라 샘플링 하기.\n",
    "\n",
    "import numpy as np\n",
    "\n",
    "# 0에서 9까지의 숫자 중 하나를 무작위로 샘플링\n",
    "print(np.random.choice(10))\n",
    "\n",
    "print(np. random.choice(10))\n",
    "\n",
    "# words에서 하나만 무작위로 샘플링\n",
    "words=['you', 'say', 'goodbye', 'i', 'hello', '.']\n",
    "print(np.random.choice(words))\n",
    "\n",
    "# 5개만 무작위로 샘플링\n",
    "print(np.random.choice(words,size=5))\n",
    "\n",
    "# 5개만 무작위로 샘플링(중복 없음)\n",
    "print(np.random.choice(words,size=5,replace=False))\n",
    "\n",
    "#확률 분포에 따라 샘플링\n",
    "p=[0.5, 0.1, 0.05, 0.2, 0.05, 0.1]\n",
    "print(np.random.choice(words, p=p))"
   ]
  },
  {
   "cell_type": "code",
   "execution_count": 7,
   "metadata": {},
   "outputs": [
    {
     "name": "stdout",
     "output_type": "stream",
     "text": [
      "[0.64196878 0.33150408 0.02652714]\n"
     ]
    }
   ],
   "source": [
    "# 확률에 0.75제곱을 곱해준다.\n",
    "\n",
    "p=[0.7, 0.29, 0.01]\n",
    "new_p=np.power(p,0.75)\n",
    "new_p/=np.sum(new_p)\n",
    "print(new_p)\n",
    "\n",
    "#낮은 확률의 단어가 조금 더 쉽게 샘플링 될 수 있도록 구제 조치를 취했다."
   ]
  },
  {
   "cell_type": "code",
   "execution_count": 8,
   "metadata": {},
   "outputs": [
    {
     "name": "stdout",
     "output_type": "stream",
     "text": [
      "[[4 0]\n",
      " [1 2]\n",
      " [4 2]]\n"
     ]
    }
   ],
   "source": [
    "import numpy as np\n",
    "\n",
    "import sys\n",
    "import os\n",
    "\n",
    "# 현재 디렉토리를 sys.path에 추가\n",
    "sys.path.append(os.getcwd())\n",
    "\n",
    "from negative_sampling_layer import UnigramSampler\n",
    "\n",
    "corpus=np.array([0,1,2,3,4,1,2,3])\n",
    "power=0.75\n",
    "sample_size=2\n",
    "\n",
    "sampler=UnigramSampler(corpus,power,sample_size)\n",
    "target=np.array([1,3,0])\n",
    "negative_sample=sampler.get_negative_sample(target)\n",
    "print(negative_sample)"
   ]
  },
  {
   "cell_type": "code",
   "execution_count": 9,
   "metadata": {},
   "outputs": [],
   "source": [
    "import sys\n",
    "sys.path.append('..')\n",
    "from common.np import *  # import numpy as np\n",
    "from common.layers import Embedding, SigmoidWithLoss\n",
    "import collections\n",
    "from negative_sampling_layer import EmbeddingDot\n",
    "# chap04/negative_sampling_layer.py\n",
    "class NegativeSamplingLoss:\n",
    "    def __init__(self, W, corpus, power=0.75, sample_size=5):\n",
    "        self.sample_size = sample_size \n",
    "        self.sampler = UnigramSampler(corpus, power, sample_size)\n",
    "        self.loss_layers = [SigmoidWithLoss() for _ in range(sample_size + 1)]  #sample_size+1은 부정적 예의 개수가 sample_size개, 긍정적 예의 개수가 1개개\n",
    "        self.embed_dot_layers = [EmbeddingDot(W) for _ in range(sample_size + 1)] #정확히는 loss_layers[0]과 embeded_dot_layers[0]이 긍정적 예를 다루는 계층이다.\n",
    "        \n",
    "        self.params, self.grads = [], []\n",
    "        for layer in self.embed_dot_layers:                 \n",
    "            self.params += layer.params\n",
    "            self.grads += layer.grads\n",
    "\n",
    "    def forward(self, h, target):\n",
    "        batch_size = target.shape[0]                                    #한꺼번에 처리하는 정답의 개수\n",
    "        negative_sample = self.sampler.get_negative_sample(target)      #부정적 예를 받는다.\n",
    "        \n",
    "        # 긍정적 예 순전파\n",
    "        score = self.embed_dot_layers[0].forward(h, target)             \n",
    "        correct_label = np.ones(batch_size, dtype=np.int32)             \n",
    "        loss = self.loss_layers[0].forward(score, correct_label)        \n",
    "        \n",
    "        # 부정적 예 순전파\n",
    "        negative_label = np.zeros(batch_size, dtype=np.int32)\n",
    "        for i in range(self.sample_size):\n",
    "            negative_target = negative_sample[:, i]                         #(열 추출을 한다.)\n",
    "            score = self.embed_dot_layers[1 + i].forward(h, negative_target)              \n",
    "            loss += self.loss_layers[1 + i].forward(score, negative_label)\n",
    "            \n",
    "        return loss\n",
    "        #forward의 연산은 열끼리 연산을 한다. 책에서 target=[1,3,0]일 때 negative_sample=[[0,3],[1,2],[2,3]]인데 이걸\n",
    "        # [1 3 0]\n",
    "        # [0 1 2]\n",
    "        # [3 2 3]   으로 열끼리 봐라.\n",
    "\n",
    "    #(부정적 예의 정답 레이블은 0이다.)\n",
    "    #(긍정적 예의 정답 레이블은 1이다.)\n",
    "    def backward(self, dout=1):\n",
    "        dh = 0\n",
    "        for l0, l1 in zip(self.loss_layers, self.embed_dot_layers):\n",
    "            dscore = l0.backward(dout)\n",
    "            dh += l1.backward(dscore)\n",
    "        \n",
    "        return dh"
   ]
  },
  {
   "cell_type": "code",
   "execution_count": 10,
   "metadata": {},
   "outputs": [],
   "source": [
    "import sys, os\n",
    "sys.path.append(os.pardir)\n",
    "import numpy as np\n",
    "from common.layers import Embedding\n",
    "from negative_sampling_layer import NegativeSamplingLoss\n",
    "\n",
    "class CBOW:\n",
    "    def __init__(self, vocab_size, hidden_size, window_size, corpus):\n",
    "        V, H=vocab_size, hidden_size\n",
    "\n",
    "        #가중치 초기화\n",
    "        W_in=0.01*np.random.randn(V,H).astype('f')\n",
    "        W_out=0.01*np.random.randn(V,H).astype('f')\n",
    "\n",
    "        #계층 생성\n",
    "        self.in_layers=[]\n",
    "        for i in range(2*window_size):              #그냥 window_size*2만큼 layer를 생성하기 위해 이렇게 한거임.\n",
    "            layer=Embedding(W_in)\n",
    "            self.in_layers.append(layer)\n",
    "        self.ns_loss=NegativeSamplingLoss(W_out, corpus, power=0.75, sample_size=5)\n",
    "\n",
    "        #모든 가중치와 기울기를 배열에 모은다.\n",
    "        layers=self.in_layers+[self.ns_loss]            #리스트+리스트 -> 리스트 안에 클래스들이 나열됨.\n",
    "        self.params, self.grads=[],[]\n",
    "        for layer in layers:\n",
    "            self.params+=layer.params\n",
    "            self.grads+=layer.grads\n",
    "\n",
    "        #인스턴스 변수에 단어의 분산 표현을 저장한다.\n",
    "        self.word_vecs=W_in\n",
    "\n",
    "    def forward(self, contexts, target):                #여기서는 SimpleCBOW와 달리 context와 target을 입력 받을 때 단어 ID를 받는다.(원핫 인코딩으로 된 것을 받지는 않음.)\n",
    "        h=0\n",
    "        for i, layer in enumerate(self.in_layers):\n",
    "            h+=layer.forward(contexts[:,i])\n",
    "        h*=1/len(self.in_layers)\n",
    "        loss=self.ns_loss.forward(h,target)\n",
    "        return loss\n",
    "    \n",
    "    def backward(self, dout=1):\n",
    "        dout=self.ns_loss.backward(dout)\n",
    "        dout*=1/len(self.in_layers)\n",
    "        for layer in self.in_layers:\n",
    "            layer.backward(dout)\n",
    "        return None"
   ]
  },
  {
   "cell_type": "code",
   "execution_count": 11,
   "metadata": {},
   "outputs": [
    {
     "ename": "TypeError",
     "evalue": "Implicit conversion to a NumPy array is not allowed. Please use `.get()` to construct a NumPy array explicitly.",
     "output_type": "error",
     "traceback": [
      "\u001b[1;31m---------------------------------------------------------------------------\u001b[0m",
      "\u001b[1;31mTypeError\u001b[0m                                 Traceback (most recent call last)",
      "Cell \u001b[1;32mIn[11], line 38\u001b[0m\n\u001b[0;32m     36\u001b[0m trainer \u001b[38;5;241m=\u001b[39m Trainer(model, optimizer)\n\u001b[0;32m     37\u001b[0m \u001b[38;5;66;03m# 학습 시작\u001b[39;00m\n\u001b[1;32m---> 38\u001b[0m trainer\u001b[38;5;241m.\u001b[39mfit(contexts, target, max_epoch, batch_size, eval_interval\u001b[38;5;241m=\u001b[39m\u001b[38;5;241m2000\u001b[39m)\n\u001b[0;32m     39\u001b[0m trainer\u001b[38;5;241m.\u001b[39mplot()\n\u001b[0;32m     41\u001b[0m word_vecs\u001b[38;5;241m=\u001b[39mmodel\u001b[38;5;241m.\u001b[39mword_vecs\n",
      "File \u001b[1;32mc:\\git_experiment\\RWL_Intern\\dh_workspace\\밑바닥부터 시작하는 딥러닝2\\common\\trainer.py:39\u001b[0m, in \u001b[0;36mTrainer.fit\u001b[1;34m(self, x, t, max_epoch, batch_size, max_grad, eval_interval)\u001b[0m\n\u001b[0;32m     36\u001b[0m batch_t \u001b[38;5;241m=\u001b[39m t[iters\u001b[38;5;241m*\u001b[39mbatch_size:(iters\u001b[38;5;241m+\u001b[39m\u001b[38;5;241m1\u001b[39m)\u001b[38;5;241m*\u001b[39mbatch_size]\n\u001b[0;32m     38\u001b[0m \u001b[38;5;66;03m# 기울기 구해 매개변수 갱신\u001b[39;00m\n\u001b[1;32m---> 39\u001b[0m loss \u001b[38;5;241m=\u001b[39m model\u001b[38;5;241m.\u001b[39mforward(batch_x, batch_t)\n\u001b[0;32m     40\u001b[0m model\u001b[38;5;241m.\u001b[39mbackward()\n\u001b[0;32m     41\u001b[0m params, grads \u001b[38;5;241m=\u001b[39m remove_duplicate(model\u001b[38;5;241m.\u001b[39mparams, model\u001b[38;5;241m.\u001b[39mgrads)  \u001b[38;5;66;03m# 공유된 가중치를 하나로 모음\u001b[39;00m\n",
      "File \u001b[1;32mc:\\git_experiment\\RWL_Intern\\dh_workspace\\밑바닥부터 시작하는 딥러닝2\\cbow.py:37\u001b[0m, in \u001b[0;36mCBOW.forward\u001b[1;34m(self, contexts, target)\u001b[0m\n\u001b[0;32m     35\u001b[0m h \u001b[38;5;241m=\u001b[39m \u001b[38;5;241m0\u001b[39m\n\u001b[0;32m     36\u001b[0m \u001b[38;5;28;01mfor\u001b[39;00m i, layer \u001b[38;5;129;01min\u001b[39;00m \u001b[38;5;28menumerate\u001b[39m(\u001b[38;5;28mself\u001b[39m\u001b[38;5;241m.\u001b[39min_layers):\n\u001b[1;32m---> 37\u001b[0m     h \u001b[38;5;241m+\u001b[39m\u001b[38;5;241m=\u001b[39m layer\u001b[38;5;241m.\u001b[39mforward(contexts[:, i])\n\u001b[0;32m     38\u001b[0m h \u001b[38;5;241m*\u001b[39m\u001b[38;5;241m=\u001b[39m \u001b[38;5;241m1\u001b[39m \u001b[38;5;241m/\u001b[39m \u001b[38;5;28mlen\u001b[39m(\u001b[38;5;28mself\u001b[39m\u001b[38;5;241m.\u001b[39min_layers)  \u001b[38;5;66;03m# average\u001b[39;00m\n\u001b[0;32m     39\u001b[0m loss \u001b[38;5;241m=\u001b[39m \u001b[38;5;28mself\u001b[39m\u001b[38;5;241m.\u001b[39mns_loss\u001b[38;5;241m.\u001b[39mforward(h, target)\n",
      "File \u001b[1;32mc:\\git_experiment\\RWL_Intern\\dh_workspace\\밑바닥부터 시작하는 딥러닝2\\common\\layers.py:141\u001b[0m, in \u001b[0;36mEmbedding.forward\u001b[1;34m(self, idx)\u001b[0m\n\u001b[0;32m    139\u001b[0m W, \u001b[38;5;241m=\u001b[39m \u001b[38;5;28mself\u001b[39m\u001b[38;5;241m.\u001b[39mparams\n\u001b[0;32m    140\u001b[0m \u001b[38;5;28mself\u001b[39m\u001b[38;5;241m.\u001b[39midx \u001b[38;5;241m=\u001b[39m idx\n\u001b[1;32m--> 141\u001b[0m out \u001b[38;5;241m=\u001b[39m W[idx]\n\u001b[0;32m    142\u001b[0m \u001b[38;5;28;01mreturn\u001b[39;00m out\n",
      "File \u001b[1;32mcupy\\_core\\core.pyx:1481\u001b[0m, in \u001b[0;36mcupy._core.core._ndarray_base.__array__\u001b[1;34m()\u001b[0m\n",
      "\u001b[1;31mTypeError\u001b[0m: Implicit conversion to a NumPy array is not allowed. Please use `.get()` to construct a NumPy array explicitly."
     ]
    }
   ],
   "source": [
    "# chap04/train.py\n",
    "import sys,os\n",
    "sys.path.append(os.pardir)\n",
    "import numpy as np\n",
    "from common import config\n",
    "# GPU에서 실행하려면 아래 주석을 해제하세요(CuPy 필요).\n",
    "# ===============================================\n",
    "config.GPU = True\n",
    "# ===============================================\n",
    "import pickle\n",
    "from common.trainer import Trainer\n",
    "from common.optimizer import Adam\n",
    "from cbow import CBOW\n",
    "from skip_gram import SkipGram\n",
    "from common.util import create_contexts_target, to_cpu, to_gpu\n",
    "from dataset import ptb\n",
    "\n",
    "\n",
    "# 하이퍼파라미터 설정\n",
    "window_size = 5\n",
    "hidden_size = 100\n",
    "batch_size = 100\n",
    "max_epoch = 10\n",
    "\n",
    "# 데이터 읽기\n",
    "corpus, word_to_id, id_to_word = ptb.load_data('train')\n",
    "vocab_size = len(word_to_id)\n",
    "\n",
    "contexts, target = create_contexts_target(corpus, window_size)\n",
    "if config.GPU:\n",
    "    contexts, target = to_gpu(contexts), to_gpu(target)\n",
    "# 모델 등 생성\n",
    "#model = SkipGram(vocab_size, hidden_size, window_size, corpus)\n",
    "model = CBOW(vocab_size, hidden_size, window_size, corpus)\n",
    "optimizer = Adam()\n",
    "trainer = Trainer(model, optimizer)\n",
    "# 학습 시작\n",
    "trainer.fit(contexts, target, max_epoch, batch_size, eval_interval=2000)\n",
    "trainer.plot()\n",
    "\n",
    "word_vecs=model.word_vecs\n",
    "if config.GPU:\n",
    "    word_vecs=to_cpu(word_vecs)\n",
    "params={}\n",
    "params['word_vecs']=word_vecs.astype(np.float16)\n",
    "params['word_to_id']=word_to_id\n",
    "params['id_to_word']=id_to_word\n",
    "pkl_file='cbow_params.pkl'\n",
    "with open(pkl_file, 'wb') as f:\n",
    "    pickle.dump(params, f, -1)"
   ]
  },
  {
   "cell_type": "code",
   "execution_count": null,
   "metadata": {},
   "outputs": [
    {
     "ename": "ImportError",
     "evalue": "cannot import name 'analog' from 'common.util' (c:\\git_experiment\\RWL_Intern\\dh_workspace\\밑바닥부터 시작하는 딥러닝2\\common\\util.py)",
     "output_type": "error",
     "traceback": [
      "\u001b[1;31m---------------------------------------------------------------------------\u001b[0m",
      "\u001b[1;31mImportError\u001b[0m                               Traceback (most recent call last)",
      "Cell \u001b[1;32mIn[1], line 4\u001b[0m\n\u001b[0;32m      2\u001b[0m sys\u001b[38;5;241m.\u001b[39mpath\u001b[38;5;241m.\u001b[39mappend(\u001b[38;5;124m'\u001b[39m\u001b[38;5;124m..\u001b[39m\u001b[38;5;124m'\u001b[39m)\n\u001b[0;32m      3\u001b[0m \u001b[38;5;28;01mimport\u001b[39;00m \u001b[38;5;21;01mpickle\u001b[39;00m\n\u001b[1;32m----> 4\u001b[0m \u001b[38;5;28;01mfrom\u001b[39;00m \u001b[38;5;21;01mcommon\u001b[39;00m\u001b[38;5;21;01m.\u001b[39;00m\u001b[38;5;21;01mutil\u001b[39;00m \u001b[38;5;28;01mimport\u001b[39;00m most_similar, analog\n\u001b[0;32m      5\u001b[0m pkl_file \u001b[38;5;241m=\u001b[39m \u001b[38;5;124m'\u001b[39m\u001b[38;5;124m./cbow_params.pkl\u001b[39m\u001b[38;5;124m'\u001b[39m\n\u001b[0;32m      6\u001b[0m \u001b[38;5;28;01mwith\u001b[39;00m \u001b[38;5;28mopen\u001b[39m(pkl_file, \u001b[38;5;124m'\u001b[39m\u001b[38;5;124mrb\u001b[39m\u001b[38;5;124m'\u001b[39m) \u001b[38;5;28;01mas\u001b[39;00m f:\n",
      "\u001b[1;31mImportError\u001b[0m: cannot import name 'analog' from 'common.util' (c:\\git_experiment\\RWL_Intern\\dh_workspace\\밑바닥부터 시작하는 딥러닝2\\common\\util.py)"
     ]
    }
   ],
   "source": [
    "import sys\n",
    "sys.path.append('..')\n",
    "import pickle\n",
    "from common.util import most_similar, analog\n",
    "pkl_file = './cbow_params.pkl'\n",
    "with open(pkl_file, 'rb') as f:\n",
    "    params = pickle.load(f)\n",
    "word_vecs = params['word_vecs']\n",
    "word_to_id = params['word_to_id']\n",
    "id_to_word = params['id_to_word']\n",
    "# 가장 비슷한(most similar) 단어 뽑기\n",
    "querys = ['you', 'year', 'car', 'toyota']\n",
    "for query in querys:\n",
    "    most_similar(query, word_to_id, id_to_word, word_vecs, top=5)"
   ]
  },
  {
   "cell_type": "code",
   "execution_count": null,
   "metadata": {},
   "outputs": [
    {
     "ename": "",
     "evalue": "",
     "output_type": "error",
     "traceback": [
      "\u001b[1;31mThe Kernel crashed while executing code in the current cell or a previous cell. \n",
      "\u001b[1;31mPlease review the code in the cell(s) to identify a possible cause of the failure. \n",
      "\u001b[1;31mClick <a href='https://aka.ms/vscodeJupyterKernelCrash'>here</a> for more info. \n",
      "\u001b[1;31mView Jupyter <a href='command:jupyter.viewOutput'>log</a> for further details."
     ]
    }
   ],
   "source": [
    "exit()"
   ]
  },
  {
   "cell_type": "code",
   "execution_count": null,
   "metadata": {},
   "outputs": [],
   "source": []
  }
 ],
 "metadata": {
  "kernelspec": {
   "display_name": "base",
   "language": "python",
   "name": "python3"
  },
  "language_info": {
   "codemirror_mode": {
    "name": "ipython",
    "version": 3
   },
   "file_extension": ".py",
   "mimetype": "text/x-python",
   "name": "python",
   "nbconvert_exporter": "python",
   "pygments_lexer": "ipython3",
   "version": "3.12.3"
  }
 },
 "nbformat": 4,
 "nbformat_minor": 2
}

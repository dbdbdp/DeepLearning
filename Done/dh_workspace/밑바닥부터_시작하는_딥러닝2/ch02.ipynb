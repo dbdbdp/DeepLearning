{
 "cells": [
  {
   "cell_type": "code",
   "execution_count": 1,
   "metadata": {},
   "outputs": [],
   "source": [
    "text='you say goodbye and i say hello.'"
   ]
  },
  {
   "cell_type": "code",
   "execution_count": 2,
   "metadata": {},
   "outputs": [
    {
     "data": {
      "text/plain": [
       "'you say goodbye and i say hello .'"
      ]
     },
     "execution_count": 2,
     "metadata": {},
     "output_type": "execute_result"
    }
   ],
   "source": [
    "text=text.lower()\n",
    "text=text.replace('.',' .')\n",
    "text"
   ]
  },
  {
   "cell_type": "code",
   "execution_count": 3,
   "metadata": {},
   "outputs": [
    {
     "data": {
      "text/plain": [
       "['you', 'say', 'goodbye', 'and', 'i', 'say', 'hello', '.']"
      ]
     },
     "execution_count": 3,
     "metadata": {},
     "output_type": "execute_result"
    }
   ],
   "source": [
    "words=text.split()\n",
    "words"
   ]
  },
  {
   "cell_type": "code",
   "execution_count": 4,
   "metadata": {},
   "outputs": [],
   "source": [
    "word_to_id={}\n",
    "id_to_word={}\n",
    "\n",
    "for word in words:\n",
    "    if word not in word_to_id:\n",
    "        new_id=len(word_to_id)\n",
    "        word_to_id[word]=new_id\n",
    "        id_to_word[new_id]=word"
   ]
  },
  {
   "cell_type": "code",
   "execution_count": 5,
   "metadata": {},
   "outputs": [
    {
     "name": "stdout",
     "output_type": "stream",
     "text": [
      "{'you': 0, 'say': 1, 'goodbye': 2, 'and': 3, 'i': 4, 'hello': 5, '.': 6}\n",
      "{0: 'you', 1: 'say', 2: 'goodbye', 3: 'and', 4: 'i', 5: 'hello', 6: '.'}\n"
     ]
    }
   ],
   "source": [
    "print(word_to_id)\n",
    "print(id_to_word)"
   ]
  },
  {
   "cell_type": "code",
   "execution_count": 6,
   "metadata": {},
   "outputs": [
    {
     "data": {
      "text/plain": [
       "array([0, 1, 2, 3, 4, 1, 5, 6])"
      ]
     },
     "execution_count": 6,
     "metadata": {},
     "output_type": "execute_result"
    }
   ],
   "source": [
    "# 단어목록을 단어ID목록으로 변환해보자.\n",
    "import numpy as np\n",
    "\n",
    "corpus=[word_to_id[w] for w in words]\n",
    "corpus=np.array(corpus)\n",
    "corpus"
   ]
  },
  {
   "cell_type": "code",
   "execution_count": 7,
   "metadata": {},
   "outputs": [],
   "source": [
    "def preprocess(text):\n",
    "    text=text.lower()\n",
    "    text=text.replace('.',' .')\n",
    "    words=text.split()\n",
    "\n",
    "    word_to_id={}\n",
    "    id_to_word={}\n",
    "    for word in words:\n",
    "        if word not in word_to_id:\n",
    "            new_id=len(word_to_id)\n",
    "            word_to_id[word]=new_id\n",
    "            id_to_word[new_id]=word\n",
    "    \n",
    "    corpus=np.array([word_to_id[w] for w in words])\n",
    "\n",
    "    return corpus, word_to_id, id_to_word"
   ]
  },
  {
   "cell_type": "code",
   "execution_count": 8,
   "metadata": {},
   "outputs": [],
   "source": [
    "text='you say goodbye and i say hello'\n",
    "corpus, word_to_id, id_to_word=preprocess(text)"
   ]
  },
  {
   "cell_type": "code",
   "execution_count": 7,
   "metadata": {},
   "outputs": [
    {
     "name": "stdout",
     "output_type": "stream",
     "text": [
      "[0 1 2 3 4 1 5]\n",
      "{0: 'you', 1: 'say', 2: 'goodbye', 3: 'and', 4: 'i', 5: 'hello'}\n"
     ]
    }
   ],
   "source": [
    "import sys, os\n",
    "sys.path.append(os.pardir)\n",
    "\n",
    "import numpy as np\n",
    "from common.util import preprocess\n",
    "\n",
    "text='you say goodbye and i say hello'\n",
    "\n",
    "corpus, word_to_id, id_to_word=preprocess(text)\n",
    "\n",
    "print(corpus)\n",
    "\n",
    "print(id_to_word)"
   ]
  },
  {
   "cell_type": "code",
   "execution_count": 8,
   "metadata": {},
   "outputs": [],
   "source": [
    "C=np.array([\n",
    "    [0,1,0,0,0,0,0],\n",
    "    [1,0,1,0,1,1,0],\n",
    "    [0,1,0,1,0,0,0],\n",
    "    [0,0,1,0,1,0,0],\n",
    "    [0,1,0,1,0,0,0],\n",
    "    [0,1,0,0,0,0,1],\n",
    "    [0,0,0,0,0,1,0]\n",
    "])"
   ]
  },
  {
   "cell_type": "code",
   "execution_count": null,
   "metadata": {},
   "outputs": [],
   "source": [
    "#동시발생 행렬\n",
    "\n",
    "#you say goodbye and i say hello \n",
    "#corpus=[0,1,2,3,4,1,5,6]\n",
    "\n",
    "def create_co_matrix(corpus,vocab_size,window_size=1):\n",
    "    corpus_size=len(corpus)\n",
    "    co_matrix=np.zeros((vocab_size,vocab_size),dtype=np.int32)\n",
    "\n",
    "    for idx, word_id in enumerate(corpus):\n",
    "        for i in range(1,window_size+1):\n",
    "            left_idx=idx-i\n",
    "            right_idx=idx+i\n",
    "\n",
    "            if left_idx>=0:\n",
    "                left_word_id=corpus[left_idx]\n",
    "                co_matrix[word_id, left_word_id]+=1\n",
    "\n",
    "            if right_idx<corpus_size:\n",
    "                right_word_id=corpus[right_idx]\n",
    "                co_matrix[word_id, right_word_id]+=1\n",
    "\n",
    "    return co_matrix\n",
    "\n"
   ]
  },
  {
   "cell_type": "code",
   "execution_count": 12,
   "metadata": {},
   "outputs": [],
   "source": [
    "# 코사인 유사도\n",
    "\n",
    "def similarity(x,y):\n",
    "    nx=x/np.sqrt(np.sum(x**2))\n",
    "    ny=y/np.sqrt(np.sum(y**2))\n",
    "\n",
    "    return np.dot(nx,ny)\n",
    "\n",
    "#이 코드에는 문제가 있다. 영벡터를 들고올 때 오류가 난다."
   ]
  },
  {
   "cell_type": "code",
   "execution_count": 13,
   "metadata": {},
   "outputs": [],
   "source": [
    "def similarity(x,y,eps=1e-8):           #분모에 아주 작은 값을 더해줘서 분모가 0이 되지 않도록 한다.\n",
    "    nx=x/np.sqrt(np.sum(x**2)+eps)\n",
    "    ny=y/np.sqrt(np.sum(y**2)+eps)\n",
    "\n",
    "    return np.dot(nx,ny)"
   ]
  },
  {
   "cell_type": "code",
   "execution_count": 14,
   "metadata": {},
   "outputs": [
    {
     "name": "stdout",
     "output_type": "stream",
     "text": [
      "0.7071067758832467\n"
     ]
    }
   ],
   "source": [
    "import sys,os\n",
    "sys.path.append(os.pardir)\n",
    "\n",
    "from common.util import preprocess, create_co_matrix, cos_similarity\n",
    "\n",
    "text='you say goodbye and i say hello'\n",
    "\n",
    "corpus,word_to_id,id_to_word=preprocess(text)\n",
    "C=create_co_matrix(corpus,len(word_to_id))\n",
    "\n",
    "C0=C[word_to_id['you']]\n",
    "C1=C[word_to_id['i']]\n",
    "\n",
    "print(cos_similarity(C0,C1))"
   ]
  },
  {
   "cell_type": "code",
   "execution_count": 16,
   "metadata": {},
   "outputs": [],
   "source": [
    "def most_similar(query, word_to_id, id_to_word, word_matrix, top=5):\n",
    "    # 1) 검색어를 꺼낸다.\n",
    "    if query not in word_to_id:\n",
    "        print(f'{query}(을)를 찾을 수 없습니다.')\n",
    "        return \n",
    "    \n",
    "    print(f'\\n[query] {query}')\n",
    "    query_id = word_to_id[query]\n",
    "    query_vec = word_matrix[query_id]\n",
    "    \n",
    "    # 2) 코사인 유사도 계산\n",
    "    vocab_size = len(id_to_word)\n",
    "    similarity = np.zeros(vocab_size)\n",
    "    for i in range(vocab_size):\n",
    "        similarity[i] = cos_similarity(word_matrix[i], query_vec)\n",
    "        \n",
    "    # 3) 코사인 유사도를 기준으로 내림차순으로 출력\n",
    "    count = 0\n",
    "    for i in (-1 * similarity).argsort():       #argsort()는 오름차순을 함. 근데 유사도를 내림차순으로 만들기 위해 -1을 곱한다.(참고로 argsort()는 인덱스들을 반환함)\n",
    "        if id_to_word[i] == query:\n",
    "            continue\n",
    "        print(f' {id_to_word[i]}: {similarity[i]}')\n",
    "        \n",
    "        count +=1\n",
    "        if count >= top:\n",
    "            return"
   ]
  },
  {
   "cell_type": "code",
   "execution_count": 19,
   "metadata": {},
   "outputs": [
    {
     "name": "stdout",
     "output_type": "stream",
     "text": [
      "\n",
      "[query] you\n",
      " hello: 0.9999999900000001\n",
      " goodbye: 0.7071067758832467\n",
      " i: 0.7071067758832467\n",
      " say: 0.0\n",
      " and: 0.0\n"
     ]
    }
   ],
   "source": [
    "import sys,os\n",
    "sys.path.append(os.pardir)\n",
    "from common.util import preprocess, create_co_matrix, most_similar\n",
    "\n",
    "text='you say goodbye and i say hello'\n",
    "corpus, word_to_id, id_to_word=preprocess(text)\n",
    "vocab_size=len(word_to_id)\n",
    "C=create_co_matrix(corpus, vocab_size)\n",
    "\n",
    "most_similar('you',word_to_id, id_to_word, C, top=5)"
   ]
  },
  {
   "cell_type": "code",
   "execution_count": 1,
   "metadata": {},
   "outputs": [],
   "source": [
    "def ppmi(C,verbose=False,eps=1e-8):\n",
    "    M=np.zeros_like(C,dtype=np.int32)\n",
    "    N=np.sum(C)\n",
    "    S=np.sum(C,axis=0)\n",
    "    total=C.shape[0]*C.shape[1]\n",
    "    cnt=0\n",
    "\n",
    "    for i in range(C.shape[0]):\n",
    "        for j in range(C.shape[1]):\n",
    "            pmi=np.log2(C[i,j]*N/(S[j]*S[i])+eps)\n",
    "            M[i,j]=np.max(0,pmi)\n",
    "\n",
    "        if verbose:\n",
    "            cnt+=1\n",
    "            if cnt%(total//100+1)==0:\n",
    "                print('%.1f%% 완료'%(100*cnt/total))\n",
    "\n",
    "    return M"
   ]
  },
  {
   "cell_type": "code",
   "execution_count": 19,
   "metadata": {},
   "outputs": [
    {
     "name": "stdout",
     "output_type": "stream",
     "text": [
      "Co-occurrence Matrix\n",
      "[[0 1 0 0 0 0 0]\n",
      " [1 0 1 0 1 1 0]\n",
      " [0 1 0 1 0 0 0]\n",
      " [0 0 1 0 1 0 0]\n",
      " [0 1 0 1 0 0 0]\n",
      " [0 1 0 0 0 0 1]\n",
      " [0 0 0 0 0 1 0]]\n",
      "--------------------------------------------------\n",
      "PPMI\n",
      "[[0.    1.807 0.    0.    0.    0.    0.   ]\n",
      " [1.807 0.    0.807 0.    0.807 0.807 0.   ]\n",
      " [0.    0.807 0.    1.807 0.    0.    0.   ]\n",
      " [0.    0.    1.807 0.    1.807 0.    0.   ]\n",
      " [0.    0.807 0.    1.807 0.    0.    0.   ]\n",
      " [0.    0.807 0.    0.    0.    0.    2.807]\n",
      " [0.    0.    0.    0.    0.    2.807 0.   ]]\n"
     ]
    }
   ],
   "source": [
    "import sys\n",
    "sys.path.append('..')\n",
    "import numpy as np\n",
    "from common.util import preprocess, create_co_matrix, cos_similarity, ppmi\n",
    "\n",
    "text = 'You say goodbye and I say hello.'\n",
    "corpus, word_to_id, id_to_word = preprocess(text)\n",
    "vocab_size = len(word_to_id)\n",
    "C = create_co_matrix(corpus, vocab_size)\n",
    "W = ppmi(C)\n",
    "\n",
    "np.set_printoptions(precision=3)  # 유효 자릿수를 세 자리로 표시\n",
    "print('Co-occurrence Matrix')\n",
    "print(C)\n",
    "print('-'*50)\n",
    "print('PPMI')\n",
    "print(W)"
   ]
  },
  {
   "cell_type": "code",
   "execution_count": 20,
   "metadata": {},
   "outputs": [
    {
     "name": "stdout",
     "output_type": "stream",
     "text": [
      "\n",
      "[query] you\n",
      " goodbye: 0.40786147117614746\n",
      " i: 0.40786147117614746\n",
      " hello: 0.2763834297657013\n",
      " say: 0.0\n",
      " and: 0.0\n"
     ]
    }
   ],
   "source": [
    "from common.util import most_similar\n",
    "most_similar('you', word_to_id, id_to_word, W, top=5)"
   ]
  },
  {
   "cell_type": "markdown",
   "metadata": {},
   "source": [
    "SVD 에 의한 차원 감소를 보기 전에 고유값 분해에 관한 내용을 보면 이해에 도움이 될 것이다."
   ]
  },
  {
   "cell_type": "code",
   "execution_count": 21,
   "metadata": {},
   "outputs": [],
   "source": [
    "# count_method_small.py\n",
    "%matplotlib inline\n",
    "import sys\n",
    "sys.path.append('..')\n",
    "import numpy as np\n",
    "import matplotlib.pyplot as plt\n",
    "from common.util import preprocess, create_co_matrix, ppmi\n",
    "\n",
    "\n",
    "text = 'You say goodbye and I say hello.'\n",
    "corpus, word_to_id, id_to_word = preprocess(text)\n",
    "vocab_size = len(word_to_id)\n",
    "C = create_co_matrix(corpus, vocab_size)\n",
    "W = ppmi(C)\n",
    "\n",
    "# SVD\n",
    "U, S, V = np.linalg.svd(W)"
   ]
  },
  {
   "cell_type": "code",
   "execution_count": 22,
   "metadata": {},
   "outputs": [
    {
     "name": "stdout",
     "output_type": "stream",
     "text": [
      "[0 1 0 0 0 0 0]\n",
      "[0.    1.807 0.    0.    0.    0.    0.   ]\n",
      "[-3.409e-01 -1.110e-16 -3.886e-16 -1.205e-01  0.000e+00  9.323e-01\n",
      "  2.226e-16]\n"
     ]
    }
   ],
   "source": [
    "# 동시발생 행렬\n",
    "print(C[0])\n",
    "\n",
    "# ppmi 행렬\n",
    "print(W[0])\n",
    "\n",
    "# 밀집벡터 표현\n",
    "print(U[0])"
   ]
  },
  {
   "cell_type": "code",
   "execution_count": 23,
   "metadata": {},
   "outputs": [
    {
     "name": "stdout",
     "output_type": "stream",
     "text": [
      "[-3.409e-01 -1.110e-16]\n"
     ]
    }
   ],
   "source": [
    "# 밀집 벡터의 차원을 감소시키려면(ex: 2차원 벡터로 줄이려면)\n",
    "print(U[0,:2])\n"
   ]
  },
  {
   "cell_type": "code",
   "execution_count": 24,
   "metadata": {},
   "outputs": [
    {
     "data": {
      "image/png": "[encoded data removed]",
      "text/plain": [
       "<Figure size 640x480 with 1 Axes>"
      ]
     },
     "metadata": {},
     "output_type": "display_data"
    }
   ],
   "source": [
    "# 각 단어를 2차원 벡터로 표현 후 그래프로 그려보자.\n",
    "for word, word_id in word_to_id.items():\n",
    "    plt.annotate(word, (U[word_id,0],U[word_id,1]))     # U[word_id, 0]은 해당 단어의 첫 번째 특이벡터, U[word_id, 1]은 해당 단어의 두 번째 특이벡터\n",
    "\n",
    "plt.scatter(U[:,0],U[:,1],alpha=0.5)        # U[:, 0]은 U 행렬의 첫 번째 열 (모든 단어의 첫 번째 특이벡터 값), \n",
    "                                            # U[:, 1]은 U 행렬의 두 번째 열 (모든 단어의 두 번째 특이벡터 값)\n",
    "plt.show()"
   ]
  },
  {
   "cell_type": "code",
   "execution_count": 27,
   "metadata": {},
   "outputs": [
    {
     "name": "stdout",
     "output_type": "stream",
     "text": [
      "말뭉치 크기: 929589\n",
      "corpus[:30]: [ 0  1  2  3  4  5  6  7  8  9 10 11 12 13 14 15 16 17 18 19 20 21 22 23\n",
      " 24 25 26 27 28 29]\n",
      "\n",
      "id_to_word[0]: aer\n",
      "id_to_word[1]: banknote\n",
      "id_to_word[2]: berlitz\n",
      "\n",
      "word_to_id['car']: 3856\n",
      "word_to_id['happy']: 4428\n",
      "word_to_id['lexus']: 7426\n"
     ]
    }
   ],
   "source": [
    "# show_ptb.py\n",
    "import sys,os\n",
    "sys.path.append(os.pardir)\n",
    "from dataset import ptb\n",
    "\n",
    "corpus, word_to_id, id_to_word=ptb.load_data('train')\n",
    "\n",
    "print('말뭉치 크기:', len(corpus))\n",
    "print('corpus[:30]:', corpus[:30])\n",
    "print()\n",
    "print('id_to_word[0]:', id_to_word[0])\n",
    "print('id_to_word[1]:', id_to_word[1])\n",
    "print('id_to_word[2]:', id_to_word[2])\n",
    "print()\n",
    "print(\"word_to_id['car']:\", word_to_id['car'])\n",
    "print(\"word_to_id['happy']:\", word_to_id['happy'])\n",
    "print(\"word_to_id['lexus']:\", word_to_id['lexus'])"
   ]
  },
  {
   "cell_type": "code",
   "execution_count": 28,
   "metadata": {},
   "outputs": [
    {
     "name": "stdout",
     "output_type": "stream",
     "text": [
      "동시발생 수 계산...\n",
      "ppmi 계산...\n"
     ]
    },
    {
     "name": "stderr",
     "output_type": "stream",
     "text": [
      "c:\\git_experiment\\RWL_Intern\\dh_workspace\\밑바닥부터 시작하는 딥러닝2\\common\\util.py:134: RuntimeWarning: overflow encountered in scalar multiply\n",
      "  pmi = np.log2(C[i, j] * N / (S[i]*S[j]) + eps)\n",
      "c:\\git_experiment\\RWL_Intern\\dh_workspace\\밑바닥부터 시작하는 딥러닝2\\common\\util.py:134: RuntimeWarning: invalid value encountered in log2\n",
      "  pmi = np.log2(C[i, j] * N / (S[i]*S[j]) + eps)\n"
     ]
    },
    {
     "name": "stdout",
     "output_type": "stream",
     "text": [
      "1.00 완료\n",
      "2.00 완료\n",
      "3.00 완료\n",
      "4.00 완료\n",
      "5.00 완료\n",
      "6.00 완료\n",
      "7.00 완료\n",
      "8.00 완료\n",
      "9.00 완료\n",
      "10.00 완료\n",
      "11.00 완료\n",
      "12.00 완료\n",
      "13.00 완료\n",
      "14.00 완료\n",
      "15.00 완료\n",
      "16.00 완료\n",
      "17.00 완료\n",
      "18.00 완료\n",
      "19.00 완료\n",
      "20.00 완료\n",
      "21.00 완료\n",
      "22.00 완료\n",
      "23.00 완료\n",
      "24.00 완료\n",
      "25.00 완료\n",
      "26.00 완료\n",
      "27.00 완료\n",
      "28.00 완료\n",
      "29.00 완료\n",
      "30.00 완료\n",
      "31.00 완료\n",
      "32.00 완료\n",
      "33.00 완료\n",
      "34.00 완료\n",
      "35.00 완료\n",
      "36.00 완료\n",
      "37.00 완료\n",
      "38.00 완료\n",
      "39.00 완료\n",
      "40.00 완료\n",
      "41.00 완료\n",
      "42.00 완료\n",
      "43.00 완료\n",
      "44.00 완료\n",
      "45.00 완료\n",
      "46.00 완료\n",
      "47.00 완료\n",
      "48.00 완료\n",
      "49.00 완료\n",
      "50.00 완료\n",
      "51.00 완료\n",
      "52.00 완료\n",
      "53.00 완료\n",
      "54.00 완료\n",
      "55.00 완료\n",
      "56.00 완료\n",
      "57.00 완료\n",
      "58.00 완료\n",
      "59.00 완료\n",
      "60.00 완료\n",
      "61.00 완료\n",
      "62.00 완료\n",
      "63.00 완료\n",
      "64.00 완료\n",
      "65.00 완료\n",
      "66.00 완료\n",
      "67.00 완료\n",
      "68.00 완료\n",
      "69.00 완료\n",
      "70.00 완료\n",
      "71.00 완료\n",
      "72.00 완료\n",
      "73.00 완료\n",
      "74.00 완료\n",
      "75.00 완료\n",
      "76.00 완료\n",
      "77.00 완료\n",
      "78.00 완료\n",
      "79.00 완료\n",
      "80.00 완료\n",
      "81.00 완료\n",
      "82.00 완료\n",
      "83.00 완료\n",
      "84.00 완료\n",
      "85.00 완료\n",
      "86.00 완료\n",
      "87.00 완료\n",
      "88.00 완료\n",
      "89.00 완료\n",
      "90.00 완료\n",
      "91.00 완료\n",
      "92.00 완료\n",
      "93.00 완료\n",
      "94.00 완료\n",
      "95.00 완료\n",
      "96.00 완료\n",
      "97.00 완료\n",
      "98.00 완료\n",
      "99.00 완료\n",
      "100.00 완료\n",
      "SVD 계산\n",
      "\n",
      "[query] you\n",
      " i: 0.66563880443573\n",
      " we: 0.596425473690033\n",
      " anybody: 0.5776089429855347\n",
      " 'll: 0.5501975417137146\n",
      " someone: 0.5239887237548828\n",
      "\n",
      "[query] year\n",
      " month: 0.6847026348114014\n",
      " quarter: 0.6674986481666565\n",
      " earlier: 0.6426571011543274\n",
      " last: 0.6027697920799255\n",
      " june: 0.5650339722633362\n",
      "\n",
      "[query] car\n",
      " auto: 0.6599061489105225\n",
      " luxury: 0.5262988805770874\n",
      " corsica: 0.47640547156333923\n",
      " truck: 0.45569753646850586\n",
      " vehicle: 0.44539105892181396\n",
      "\n",
      "[query] toyota\n",
      " motor: 0.7415257096290588\n",
      " motors: 0.674511194229126\n",
      " nissan: 0.6323125958442688\n",
      " honda: 0.6304857134819031\n",
      " mazda: 0.6175629496574402\n"
     ]
    }
   ],
   "source": [
    "import sys, os\n",
    "sys.path.append(os.pardir)\n",
    "\n",
    "import numpy as np\n",
    "from common.util import most_similar, create_co_matrix, ppmi\n",
    "from dataset import ptb\n",
    "\n",
    "window_size=2\n",
    "wordvec_size=100\n",
    "\n",
    "corpus, word_to_id, id_to_word=ptb.load_data('train')\n",
    "vocab_size=len(word_to_id)\n",
    "\n",
    "print('동시발생 수 계산...')\n",
    "C=create_co_matrix(corpus, vocab_size,window_size)\n",
    "print('ppmi 계산...')\n",
    "W=ppmi(C,verbose=True)\n",
    "\n",
    "print('SVD 계산')\n",
    "try:\n",
    "    #truncated SVD(빠르다)\n",
    "    from sklearn.utils.extmath import randomized_svd\n",
    "    U, S, V = randomized_svd(W, n_components=wordvec_size, n_iter=5,\n",
    "                             random_state=None)\n",
    "except:\n",
    "    # SVD\n",
    "    U, S, V = np.linalg.svd(W)\n",
    "\n",
    "    \n",
    "word_vecs = U[:, :wordvec_size]\n",
    "querys = ['you', 'year', 'car', 'toyota']\n",
    "for query in querys:\n",
    "    most_similar(query, word_to_id, id_to_word, word_vecs, top=5)"
   ]
  },
  {
   "cell_type": "code",
   "execution_count": null,
   "metadata": {},
   "outputs": [],
   "source": []
  }
 ],
 "metadata": {
  "kernelspec": {
   "display_name": "notebook_kernel",
   "language": "python",
   "name": "notebook_kernel"
  },
  "language_info": {
   "codemirror_mode": {
    "name": "ipython",
    "version": 3
   },
   "file_extension": ".py",
   "mimetype": "text/x-python",
   "name": "python",
   "nbconvert_exporter": "python",
   "pygments_lexer": "ipython3",
   "version": "3.12.3"
  }
 },
 "nbformat": 4,
 "nbformat_minor": 2
}

{
 "cells": [
  {
   "cell_type": "code",
   "execution_count": 6,
   "metadata": {},
   "outputs": [],
   "source": [
    "import torch\n",
    "import numpy as np\n",
    "\n",
    "x_train=torch.FloatTensor([[1],[2],[3]])\n",
    "y_train=torch.FloatTensor([[2],[4],[6]])\n",
    "\n",
    "W=torch.zeros(1, requires_grad=True)     # 참고로 W와 b는 매개변수의 값이랑 기울기가 저장된다.\n",
    "b=torch.zeros(1, requires_grad=True)     #텐서가 그래디언트(미분값)를 추적할지 여부(gradient를 학습할 것이라 명시. 텐서에서 수행되는 연산에 대해 그래디언트를 자동으로 계산)\n",
    "hypothesis=x_train*W+b\n",
    "\n",
    "cost=torch.mean((hypothesis-y_train)**2)        #1/m은 어차피 평균을 계산하는 것이기 때문에 torch.mean을 이용.\n",
    "\n",
    "optimizer=torch.optim.SGD([W,b],lr=0.01)        #torch.optim.OptimizerClass(model.parameters(), lr=learning_rate)\n",
    "optimizer.zero_grad()                           # 기울기를 초기화\n",
    "cost.backward()                                 # 손실 역전파로 기울기 계산. 계산 결과는 W.grad와 b.grad에 저장됨.\n",
    "optimizer.step()                                # 계산된 기울기를 이용해서 gradient descent를 수행해서 parameter를 업데이트 한다."
   ]
  },
  {
   "cell_type": "code",
   "execution_count": 12,
   "metadata": {},
   "outputs": [],
   "source": [
    "# Full training code\n",
    "\n",
    "x_train=torch.FloatTensor([[1],[2],[3]])\n",
    "y_train=torch.FloatTensor([[2],[4],[6]])\n",
    "\n",
    "W=torch.zeros(1, requires_grad=True)\n",
    "b=torch.zeros(1, requires_grad=True)\n",
    "\n",
    "\n",
    "optimizer=torch.optim.SGD([W,b],lr=0.01)\n",
    "\n",
    "nb_epochs=1000\n",
    "for epoch in range(1,nb_epochs+1):\n",
    "   \n",
    "    hypothesis=x_train*W+b\n",
    "\n",
    "    cost=torch.mean((hypothesis-y_train)**2)\n",
    "\n",
    "    optimizer.zero_grad()\n",
    "    cost.backward()\n",
    "    optimizer.step()"
   ]
  },
  {
   "cell_type": "code",
   "execution_count": null,
   "metadata": {},
   "outputs": [],
   "source": []
  }
 ],
 "metadata": {
  "kernelspec": {
   "display_name": "notebook_kernel",
   "language": "python",
   "name": "notebook_kernel"
  },
  "language_info": {
   "codemirror_mode": {
    "name": "ipython",
    "version": 3
   },
   "file_extension": ".py",
   "mimetype": "text/x-python",
   "name": "python",
   "nbconvert_exporter": "python",
   "pygments_lexer": "ipython3",
   "version": "3.12.3"
  }
 },
 "nbformat": 4,
 "nbformat_minor": 2
}

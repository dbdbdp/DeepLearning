{
 "cells": [
  {
   "cell_type": "code",
   "execution_count": null,
   "metadata": {},
   "outputs": [],
   "source": [
    "import torch\n",
    "import numpy as np\n",
    "\n",
    "# RNN선언 위한 input과 output size정의\n",
    "input_size=4                #one-hot encoding벡터의 차원\n",
    "output_size=2\n",
    "\n",
    "# input data Tensor를 만드는 과정정\n",
    "#one-hot encoding\n",
    "h=[1,0,0,0]\n",
    "e=[0,1,0,0]\n",
    "l=[0,0,1,0]\n",
    "o=[0,0,0,1]\n",
    "\n",
    "input_data_np=np.array([[h,e,l,l,o],\n",
    "                        [e,o,l,l,l],\n",
    "                        [l,l,e,e,l]])\n",
    "\n",
    "input_data=torch.Tensor(input_data_np)\n",
    "\n",
    "# RNN 을 구동하는 코드\n",
    "rnn=torch.nn.RNN(input_size,output_size)\n",
    "outputs,_status=rnn(input_data)"
   ]
  },
  {
   "cell_type": "code",
   "execution_count": null,
   "metadata": {},
   "outputs": [],
   "source": []
  }
 ],
 "metadata": {
  "kernelspec": {
   "display_name": "base",
   "language": "python",
   "name": "python3"
  },
  "language_info": {
   "codemirror_mode": {
    "name": "ipython",
    "version": 3
   },
   "file_extension": ".py",
   "mimetype": "text/x-python",
   "name": "python",
   "nbconvert_exporter": "python",
   "pygments_lexer": "ipython3",
   "version": "3.12.3"
  }
 },
 "nbformat": 4,
 "nbformat_minor": 2
}

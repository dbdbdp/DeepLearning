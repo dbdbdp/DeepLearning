{
 "cells": [
  {
   "cell_type": "code",
   "execution_count": 1,
   "metadata": {},
   "outputs": [
    {
     "data": {
      "text/plain": [
       "Parameter containing:\n",
       "tensor([[ 0.0685, -0.1128,  0.0861,  ...,  0.1489,  0.0999, -0.1102],\n",
       "        [-0.0292, -0.0077,  0.0799,  ...,  0.0354,  0.0216,  0.0248],\n",
       "        [ 0.0182, -0.1272, -0.0488,  ...,  0.1234,  0.0187,  0.0847],\n",
       "        ...,\n",
       "        [-0.0909, -0.0982, -0.1401,  ..., -0.0017, -0.0616,  0.1405],\n",
       "        [ 0.0519,  0.0276,  0.0025,  ..., -0.1228, -0.0225, -0.0153],\n",
       "        [-0.0882,  0.0796,  0.0430,  ..., -0.0791,  0.0563,  0.0715]],\n",
       "       requires_grad=True)"
      ]
     },
     "execution_count": 1,
     "metadata": {},
     "output_type": "execute_result"
    }
   ],
   "source": [
    "import torch\n",
    "import torch.nn as nn\n",
    "\n",
    "linear1=torch.nn.Linear(784,256,bias=True)\n",
    "linear2=torch.nn.Linear(256,256,bias=True)\n",
    "linear3=torch.nn.Linear(256,10, bias=True)\n",
    "relu=torch.nn.ReLU()\n",
    "\n",
    "torch.nn.init.xavier_uniform_(linear1.weight)\n",
    "torch.nn.init.xavier_uniform_(linear2.weight)\n",
    "torch.nn.init.xavier_uniform_(linear3.weight)"
   ]
  },
  {
   "cell_type": "code",
   "execution_count": null,
   "metadata": {},
   "outputs": [],
   "source": []
  }
 ],
 "metadata": {
  "kernelspec": {
   "display_name": "notebook_kernel",
   "language": "python",
   "name": "notebook_kernel"
  },
  "language_info": {
   "codemirror_mode": {
    "name": "ipython",
    "version": 3
   },
   "file_extension": ".py",
   "mimetype": "text/x-python",
   "name": "python",
   "nbconvert_exporter": "python",
   "pygments_lexer": "ipython3",
   "version": "3.12.3"
  }
 },
 "nbformat": 4,
 "nbformat_minor": 2
}

{
 "cells": [
  {
   "cell_type": "markdown",
   "metadata": {
    "vscode": {
     "languageId": "plaintext"
    }
   },
   "source": []
  },
  {
   "cell_type": "code",
   "execution_count": null,
   "metadata": {},
   "outputs": [],
   "source": [
    "import torch\n",
    "import torchvision.datasets as dsets\n",
    "from torchvision import transforms\n",
    "from torch.utils.data import DataLoader\n",
    "import random\n",
    "import torch.functional as F\n",
    "\n",
    "batch_size=100\n",
    "learning_rate=0.001\n",
    "training_epochs=15\n",
    "\n",
    "\n",
    "\n",
    "device=torch.device('cuda' if torch.cuda.is_available() else 'cpu')\n",
    "\n",
    "mnist_train=dsets.MNIST(root='C:/git_experiment/RWL_Intern/dh_workspace/모두를 위한 딥러닝', \n",
    "                        train=True, \n",
    "                        transform=transforms.ToTensor(), \n",
    "                        download=True)\n",
    "mnist_test=dsets.MNIST(root='C:/git_experiment/RWL_Intern/dh_workspace/모두를 위한 딥러닝', \n",
    "                       train=False,\n",
    "                       transform=transforms.ToTensor(),\n",
    "                       download=True)\n",
    "\n",
    "\n",
    "data_loader = torch.utils.data.DataLoader(dataset=mnist_train, \n",
    "                                          batch_size=batch_size, \n",
    "                                          shuffle=True, \n",
    "                                          drop_last=True)\n",
    "\n",
    "linear1=torch.nn.Linear(784,256,bias=True).to(device)\n",
    "linear2=torch.nn.Linear(256,256,bias=True).to(device)\n",
    "linear3=torch.nn.Linear(256,10,bias=True).to(device)\n",
    "relu=torch.nn.ReLU()\n",
    "\n",
    "torch.init.normal_(linear1.weight)\n",
    "torch.init.normal_(linear2.weight)\n",
    "torch.init.normal_(linear3.weight)\n",
    "\n",
    "criterion=torch.nn.CrossEntropyLoss().to(device)\n",
    "optimizer=torch.optim.Adam(model.parameters(),lr=learning_rate)"
   ]
  }
 ],
 "metadata": {
  "kernelspec": {
   "display_name": "notebook_kernel",
   "language": "python",
   "name": "notebook_kernel"
  },
  "language_info": {
   "name": "python",
   "version": "3.12.3"
  }
 },
 "nbformat": 4,
 "nbformat_minor": 2
}

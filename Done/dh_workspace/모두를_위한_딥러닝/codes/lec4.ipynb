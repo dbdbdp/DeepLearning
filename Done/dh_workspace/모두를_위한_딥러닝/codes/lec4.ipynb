{
 "cells": [
  {
   "cell_type": "code",
   "execution_count": 4,
   "metadata": {},
   "outputs": [],
   "source": [
    "import torch\n",
    "import numpy as np"
   ]
  },
  {
   "cell_type": "code",
   "execution_count": 14,
   "metadata": {},
   "outputs": [
    {
     "name": "stdout",
     "output_type": "stream",
     "text": [
      "epoch    0/10 W: 0.000, cost: 4.666667\n",
      "epoch    1/10 W: 1.400, cost: 0.746667\n",
      "epoch    2/10 W: 0.840, cost: 0.119467\n",
      "epoch    3/10 W: 1.064, cost: 0.019115\n",
      "epoch    4/10 W: 0.974, cost: 0.003058\n",
      "epoch    5/10 W: 1.010, cost: 0.000489\n",
      "epoch    6/10 W: 0.996, cost: 0.000078\n",
      "epoch    7/10 W: 1.002, cost: 0.000013\n",
      "epoch    8/10 W: 0.999, cost: 0.000002\n",
      "epoch    9/10 W: 1.000, cost: 0.000000\n",
      "epoch   10/10 W: 1.000, cost: 0.000000\n"
     ]
    }
   ],
   "source": [
    "# Full training code\n",
    "\n",
    "x_train=torch.FloatTensor([[1],[2],[3]])\n",
    "y_train=torch.FloatTensor([[1],[2],[3]])\n",
    "\n",
    "W=torch.zeros(1, requires_grad=True)\n",
    "\n",
    "\n",
    "optimizer=torch.optim.SGD([W],lr=0.15)\n",
    "\n",
    "nb_epochs=10\n",
    "for epoch in range(nb_epochs+1):\n",
    "   \n",
    "    hypothesis=x_train*W\n",
    "\n",
    "    cost=torch.mean((hypothesis-y_train)**2)\n",
    "\n",
    "    print('epoch {:4d}/{} W: {:.3f}, cost: {:.6f}'.format(epoch, nb_epochs, W.item(), cost.item()))\n",
    "    \n",
    "    optimizer.zero_grad()\n",
    "    cost.backward()\n",
    "    optimizer.step()"
   ]
  },
  {
   "cell_type": "code",
   "execution_count": null,
   "metadata": {},
   "outputs": [],
   "source": []
  }
 ],
 "metadata": {
  "kernelspec": {
   "display_name": "notebook_kernel",
   "language": "python",
   "name": "notebook_kernel"
  },
  "language_info": {
   "codemirror_mode": {
    "name": "ipython",
    "version": 3
   },
   "file_extension": ".py",
   "mimetype": "text/x-python",
   "name": "python",
   "nbconvert_exporter": "python",
   "pygments_lexer": "ipython3",
   "version": "3.12.3"
  }
 },
 "nbformat": 4,
 "nbformat_minor": 2
}

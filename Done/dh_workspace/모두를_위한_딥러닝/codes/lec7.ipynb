{
 "cells": [
  {
   "cell_type": "code",
   "execution_count": 1,
   "metadata": {},
   "outputs": [],
   "source": [
    "import torch\n",
    "import torch.nn as nn\n",
    "import torch.nn.functional as F\n",
    "import torch.optim as optim\n",
    "\n",
    "torch.manual_seed(1)                #결과 재현을 위해 랜덤 시드를 정해주자.as_integer_ratio\n",
    "\n",
    "x_data=[[1,2], [2,3], [3,1], [4,3], [5,3], [6,2]]\n",
    "y_data=[[0],[0],[0],[1],[1],[1]]\n",
    "\n",
    "x_train=torch.FloatTensor(x_data)\n",
    "y_train=torch.FloatTensor(y_data)\n",
    "\n",
    "W=torch.zeros((2,1),requires_grad=True)\n",
    "b=torch.zeros(1,requires_grad=True)\n",
    "\n",
    "# 직접 sigmoid 함수를 만들어서 넣는 방법\n",
    "# hypothesis=1/(1+torch.exp(x_train.matmul(W)+b))\n",
    "###################################################\n",
    "# 하지만 sigmoid 함수는 torch에서 제공을 해준다.\n",
    "hypothesis=torch.sigmoid(x_train.matmul(W)+b)\n",
    "\n",
    "# cost function을 직접 만드는 방법\n",
    "# losses=-(y_train*torch.log(hypothesis)+(1-y_train)*torch.log(hypothesis))\n",
    "# cost=losses.mean()\n",
    "###################################################\n",
    "# 하지만 logistic regression에 사용되는 cost function은 torch에서 제공을 해준다. : binary_cross_entropy함수.\n",
    "cost=F.binary_cross_entropy(hypothesis,y_train)\n",
    "\n",
    "\n"
   ]
  },
  {
   "cell_type": "code",
   "execution_count": 2,
   "metadata": {},
   "outputs": [
    {
     "name": "stdout",
     "output_type": "stream",
     "text": [
      "Epoch    0/1000 Cost: 0.693147\n",
      "Epoch  100/1000 Cost: 0.578086\n",
      "Epoch  200/1000 Cost: 0.535207\n",
      "Epoch  300/1000 Cost: 0.505647\n",
      "Epoch  400/1000 Cost: 0.484024\n",
      "Epoch  500/1000 Cost: 0.467288\n",
      "Epoch  600/1000 Cost: 0.453674\n",
      "Epoch  700/1000 Cost: 0.442127\n",
      "Epoch  800/1000 Cost: 0.431998\n",
      "Epoch  900/1000 Cost: 0.422874\n",
      "Epoch 1000/1000 Cost: 0.414490\n"
     ]
    }
   ],
   "source": [
    "# whole training\n",
    "\n",
    "W=torch.zeros((2,1), requires_grad=True)\n",
    "b=torch.zeros(1,requires_grad=True)\n",
    "\n",
    "optimizer=torch.optim.SGD([W,b],lr=0.01)\n",
    "\n",
    "nb_epochs=1000\n",
    "\n",
    "for epoch in range(nb_epochs+1):\n",
    "    \n",
    "    hypothesis=torch.sigmoid(x_train.matmul(W)+b)\n",
    "    cost=F.binary_cross_entropy(hypothesis,y_train)\n",
    "\n",
    "    optimizer.zero_grad()\n",
    "    cost.backward()\n",
    "    optimizer.step()\n",
    "\n",
    "    if epoch % 100==0:\n",
    "        print('Epoch {:4d}/{} Cost: {:.6f}'.format(epoch, nb_epochs, cost.item()))"
   ]
  },
  {
   "cell_type": "code",
   "execution_count": 3,
   "metadata": {},
   "outputs": [
    {
     "name": "stdout",
     "output_type": "stream",
     "text": [
      "tensor([[0.2169],\n",
      "        [0.2644],\n",
      "        [0.6868],\n",
      "        [0.6295],\n",
      "        [0.7870]], grad_fn=<SliceBackward0>)\n"
     ]
    }
   ],
   "source": [
    "# Evaluation(내가 만든 모델의 정확도를 평가해보자.)\n",
    "hypothesis=torch.sigmoid(x_train.matmul(W)+b)\n",
    "print(hypothesis[:5])"
   ]
  },
  {
   "cell_type": "code",
   "execution_count": 4,
   "metadata": {},
   "outputs": [
    {
     "name": "stdout",
     "output_type": "stream",
     "text": [
      "tensor([[False],\n",
      "        [False],\n",
      "        [ True],\n",
      "        [ True],\n",
      "        [ True]])\n",
      "torch.bool\n"
     ]
    }
   ],
   "source": [
    "prediction=hypothesis[:5]>=torch.FloatTensor([0.5])\n",
    "print(prediction)\n",
    "print(prediction.dtype)"
   ]
  },
  {
   "cell_type": "code",
   "execution_count": 5,
   "metadata": {},
   "outputs": [
    {
     "name": "stdout",
     "output_type": "stream",
     "text": [
      "tensor([[ True],\n",
      "        [ True],\n",
      "        [False],\n",
      "        [ True],\n",
      "        [ True]])\n"
     ]
    }
   ],
   "source": [
    "correct_prediction=prediction.float()==y_train[:5]\n",
    "print(correct_prediction)"
   ]
  },
  {
   "cell_type": "code",
   "execution_count": 17,
   "metadata": {},
   "outputs": [],
   "source": [
    "#Higher Implementation with Class\n",
    "\n",
    "class BinaryClassifier(nn.Module):\n",
    "    def __init__(self):\n",
    "        super().__init__()\n",
    "        self.linear=nn.Linear(2,1)           #참고로, torch.Linear는 함수가 아닌 모듈이다. 선형변환을 시켜주는 모듈을 함수처럼 호출한 것이다.\n",
    "                                                #내부적으로 학습가능한 가중치와 편향을 가지고 있다. \n",
    "                                                #입력이 8개, 출력이 1개. 입력이 주어졌을 때, 그 입력에 대해 선형 변환을 할 수 있다.\n",
    "        self.sigmoid=nn.Sigmoid()\n",
    "\n",
    "    def forward(self,x):\n",
    "        return self.sigmoid(self.linear(x))\n",
    "\n"
   ]
  },
  {
   "cell_type": "code",
   "execution_count": 18,
   "metadata": {},
   "outputs": [
    {
     "name": "stdout",
     "output_type": "stream",
     "text": [
      "Epoch    0/100 cost: 0.539713 Accuracy 83.33%\n",
      "Epoch   10/100 cost: 0.614853 Accuracy 66.67%\n",
      "Epoch   20/100 cost: 0.441875 Accuracy 66.67%\n",
      "Epoch   30/100 cost: 0.373145 Accuracy 83.33%\n",
      "Epoch   40/100 cost: 0.316358 Accuracy 83.33%\n",
      "Epoch   50/100 cost: 0.266094 Accuracy 83.33%\n",
      "Epoch   60/100 cost: 0.220498 Accuracy 100.00%\n",
      "Epoch   70/100 cost: 0.182095 Accuracy 100.00%\n",
      "Epoch   80/100 cost: 0.157299 Accuracy 100.00%\n",
      "Epoch   90/100 cost: 0.144091 Accuracy 100.00%\n",
      "Epoch  100/100 cost: 0.134272 Accuracy 100.00%\n"
     ]
    }
   ],
   "source": [
    "# 전체적 코드\n",
    "import torch\n",
    "import torch.nn as nn\n",
    "import torch.nn.functional as F\n",
    "import torch.optim as optim\n",
    "\n",
    "torch.manual_seed(1)                #결과 재현을 위해 랜덤 시드를 정해주자.as_integer_ratio\n",
    "\n",
    "x_data=[[1,2], [2,3], [3,1], [4,3], [5,3], [6,2]]\n",
    "y_data=[[0],[0],[0],[1],[1],[1]]\n",
    "\n",
    "x_train=torch.FloatTensor(x_data)\n",
    "y_train=torch.FloatTensor(y_data)\n",
    "\n",
    "\n",
    "model=BinaryClassifier()\n",
    "optimizer=torch.optim.SGD(model.parameters(),lr=1)\n",
    "\n",
    "nb_epochs=100\n",
    "for epoch in range(nb_epochs+1):\n",
    "    hypothesis=model(x_train)\n",
    "    cost=F.binary_cross_entropy(hypothesis,y_train)\n",
    "\n",
    "    optimizer.zero_grad()\n",
    "    cost.backward()\n",
    "    optimizer.step()\n",
    "\n",
    "    if epoch%10==0:\n",
    "        prediction=(hypothesis>=torch.FloatTensor([0.5]))\n",
    "        correct_prediction=prediction.float()==y_train\n",
    "        accuracy=correct_prediction.sum().item()/len(correct_prediction)\n",
    "        print('Epoch {:4d}/{} cost: {:.6f} Accuracy {:2.2f}%'.format(epoch, nb_epochs, cost.item(), accuracy*100,))"
   ]
  },
  {
   "cell_type": "code",
   "execution_count": null,
   "metadata": {},
   "outputs": [],
   "source": []
  }
 ],
 "metadata": {
  "kernelspec": {
   "display_name": "notebook_kernel",
   "language": "python",
   "name": "notebook_kernel"
  },
  "language_info": {
   "codemirror_mode": {
    "name": "ipython",
    "version": 3
   },
   "file_extension": ".py",
   "mimetype": "text/x-python",
   "name": "python",
   "nbconvert_exporter": "python",
   "pygments_lexer": "ipython3",
   "version": "3.12.3"
  }
 },
 "nbformat": 4,
 "nbformat_minor": 2
}

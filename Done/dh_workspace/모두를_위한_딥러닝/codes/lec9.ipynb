{
 "cells": [
  {
   "cell_type": "code",
   "execution_count": 4,
   "metadata": {},
   "outputs": [],
   "source": [
    "import torch\n",
    "import torch.nn as nn\n",
    "import torch.nn.functional as F\n",
    "import torch.optim as optim"
   ]
  },
  {
   "cell_type": "code",
   "execution_count": 5,
   "metadata": {},
   "outputs": [],
   "source": [
    "def test(model, optimizer, x_test, y_test):\n",
    "    prediction=model(x_test)\n",
    "    predicted_classes=prediction.max(1)[1]    #참고로 torch에서 max 는 최대값과 최대값의 인덱스를 같이 가져오기 때문에 [1]은 최대값을 가지는 인덱스를 가져오라는 소리이다.\n",
    "    correct_count=(predicterd_classes==y_test).sum().item()     \n",
    "    cost=F.cross_entropy(prediction, y_test)\n",
    "\n",
    "    print('Accuracy: {}% cost: {:.6f}'.format(correct_count/len(y_test)*100, cost.item()))"
   ]
  },
  {
   "cell_type": "code",
   "execution_count": 8,
   "metadata": {},
   "outputs": [
    {
     "data": {
      "text/plain": [
       "tensor([29.5000, 23.5000, 45.5000])"
      ]
     },
     "execution_count": 8,
     "metadata": {},
     "output_type": "execute_result"
    }
   ],
   "source": [
    "x_train=torch.FloatTensor([[34,14,25],\n",
    "         [25,33,66]])\n",
    "x_train.mean(dim=0)"
   ]
  },
  {
   "cell_type": "code",
   "execution_count": 10,
   "metadata": {},
   "outputs": [
    {
     "name": "stdout",
     "output_type": "stream",
     "text": [
      "tensor([[-1.0674, -0.3758, -0.8398],\n",
      "        [ 0.7418,  0.2778,  0.5863],\n",
      "        [ 0.3799,  0.5229,  0.3486],\n",
      "        [ 1.0132,  1.0948,  1.1409],\n",
      "        [-1.0674, -1.5197, -1.2360]])\n"
     ]
    }
   ],
   "source": [
    "# Data Preprocessing\n",
    "\n",
    "x_train=torch.FloatTensor([[73,80,75],\n",
    "                           [93,88,93],\n",
    "                           [89,91,90],\n",
    "                           [96,98,100],\n",
    "                           [73,66,70]])\n",
    "y_train=torch.FloatTensor([[152],[185],[180],[196],[142]])\n",
    "\n",
    "mu=x_train.mean(dim=0)\n",
    "sigma=x_train.std(dim=0)\n",
    "norm_x_train=(x_train-mu)/sigma\n",
    "print (norm_x_train)"
   ]
  },
  {
   "cell_type": "code",
   "execution_count": 12,
   "metadata": {},
   "outputs": [],
   "source": [
    "import torch\n",
    "import torch.nn as nn\n",
    "import torch.nn.functional as F\n",
    "import torch.optim as optim\n",
    "\n",
    "torch.manual_seed(1)\n",
    "\n",
    "x_train=torch.FloatTensor([[1,2,1],\n",
    "                           [1,3,2],\n",
    "                           [1,3,4],\n",
    "                           [1,5,5],\n",
    "                           [1,7,5],\n",
    "                           [1,2,5],\n",
    "                           [1,6,6],\n",
    "                           [1,7,7]])\n",
    "y_train=torch.LongTensor([2,2,2,1,1,1,0,0])\n",
    "\n",
    "x_test=torch.FloatTensor([[2,1,1],[3,1,2],[3,3,4]])\n",
    "y_test=torch.LongTensor([2,2,2])\n",
    "\n",
    "class SoftmaxClassifierModel(nn.Module):\n",
    "    def __init__(self):\n",
    "        super().__init__()\n",
    "        self.linear=nn.Linear(4,3)\n",
    "    \n",
    "    def forward(self,x):\n",
    "        return self.linear(x)   \n",
    "\n",
    "model=SoftmaxClassifierModel()\n",
    "\n",
    "optimizer=optim.SGD(model.parameters(),lr=0.01)\n",
    "\n",
    "def train(model, optimizer, x_train, y_train):\n",
    "    nb_epochs=20\n",
    "    for epoch in range(nb_epochs+1):\n",
    "        prediction=model(x_train)\n",
    "        cost=F.cross_entropy(prediction,y_train)\n",
    "\n",
    "        optimizer.zero_grad()\n",
    "        cost.backward()\n",
    "        optimizer.step()\n",
    "        \n",
    "        print('Epoch {:4d}/{} Cost: {:.6f}'.format(epoch, nb_epochs, cost.item()))\n",
    "\n",
    "def Test(model, optimizer, x_test, y_test):\n",
    "    prediction=model(x_test)\n",
    "    predicted_classes=prediction.max(1)[1]\n",
    "    correct_count=(predicted_classes==y_test).sum().item()\n",
    "    cost=F.cross_entropy(prediction, y_test)"
   ]
  },
  {
   "cell_type": "code",
   "execution_count": null,
   "metadata": {},
   "outputs": [],
   "source": []
  }
 ],
 "metadata": {
  "kernelspec": {
   "display_name": "notebook_kernel",
   "language": "python",
   "name": "notebook_kernel"
  },
  "language_info": {
   "codemirror_mode": {
    "name": "ipython",
    "version": 3
   },
   "file_extension": ".py",
   "mimetype": "text/x-python",
   "name": "python",
   "nbconvert_exporter": "python",
   "pygments_lexer": "ipython3",
   "version": "3.12.3"
  }
 },
 "nbformat": 4,
 "nbformat_minor": 2
}

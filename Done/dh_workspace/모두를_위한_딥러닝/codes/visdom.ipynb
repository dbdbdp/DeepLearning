{
 "cells": [
  {
   "cell_type": "code",
   "execution_count": 71,
   "metadata": {},
   "outputs": [
    {
     "name": "stderr",
     "output_type": "stream",
     "text": [
      "Setting up a new session...\n"
     ]
    }
   ],
   "source": [
    "import torch\n",
    "import torch.nn as nn\n",
    "\n",
    "import torchvision\n",
    "import torchvision.datasets as dsets\n",
    "import torchvision.transforms as transforms\n",
    "import visdom\n",
    "\n",
    "vis=visdom.Visdom()"
   ]
  },
  {
   "cell_type": "code",
   "execution_count": 72,
   "metadata": {},
   "outputs": [
    {
     "data": {
      "text/plain": [
       "'window_3dcfdbb63554fa'"
      ]
     },
     "execution_count": 72,
     "metadata": {},
     "output_type": "execute_result"
    }
   ],
   "source": [
    "vis.text('hello world!',env='main')             # env='main'은 있어도 되고 없어도 된다. \n",
    "                                                # 이건 어떨 때 쓰냐면 한번에 모든 창을 끌 때 사용할 수 있다.\n",
    "                                                #  한번에 main에 있는 것을 다 끄고 싶을 때 모든 vis 관련된 생성 창들에 env를 넣어주는 것이 중요하다."
   ]
  },
  {
   "cell_type": "code",
   "execution_count": 73,
   "metadata": {},
   "outputs": [
    {
     "data": {
      "text/plain": [
       "'window_3dcfdbb638c9a2'"
      ]
     },
     "execution_count": 73,
     "metadata": {},
     "output_type": "execute_result"
    }
   ],
   "source": [
    "a=torch.randn(3,200,200)        #3으로 하면 rgb로 된다. 200x200. random으로 생성해라\n",
    "vis.image(a)"
   ]
  },
  {
   "cell_type": "code",
   "execution_count": 74,
   "metadata": {},
   "outputs": [
    {
     "data": {
      "text/plain": [
       "'window_3dcfdbb63a4c7a'"
      ]
     },
     "execution_count": 74,
     "metadata": {},
     "output_type": "execute_result"
    }
   ],
   "source": [
    "# 이미지를 여러개 띄우는 방법\n",
    "vis.images(torch.Tensor(3,3,28,28))         #28x28의 이미지가 3개 생성된 것을 볼 수 있다."
   ]
  },
  {
   "cell_type": "code",
   "execution_count": 75,
   "metadata": {},
   "outputs": [],
   "source": [
    "# mnist와 cifar10이라는 데이터셋을 가져와보자.\n",
    "MNIST=dsets.MNIST(root='C:/git_experiment/RWL_Intern/dh_workspace/모두를 위한 딥러닝/MNIST',\n",
    "                        train=True,\n",
    "                        transform=transforms.ToTensor(),\n",
    "                        download=True)\n",
    "cifar10=dsets.CIFAR10(root='C:/git_experiment/RWL_Intern/dh_workspace/모두를 위한 딥러닝/CIFAR10',\n",
    "                        train=True,\n",
    "                        transform=transforms.ToTensor(),\n",
    "                        download=True)\n"
   ]
  },
  {
   "cell_type": "code",
   "execution_count": 76,
   "metadata": {},
   "outputs": [
    {
     "name": "stdout",
     "output_type": "stream",
     "text": [
      "torch.Size([3, 32, 32])\n"
     ]
    },
    {
     "data": {
      "text/plain": [
       "'window_3dcfdbb6a82178'"
      ]
     },
     "execution_count": 76,
     "metadata": {},
     "output_type": "execute_result"
    }
   ],
   "source": [
    "data=cifar10.__getitem__(0)             #첫번째 데이터를 가져오고 \n",
    "print(data[0].shape)                    #그 데이터의 shape값을 확인\n",
    "vis.images(data[0],env='main')"
   ]
  },
  {
   "cell_type": "code",
   "execution_count": 77,
   "metadata": {},
   "outputs": [
    {
     "name": "stdout",
     "output_type": "stream",
     "text": [
      "torch.Size([1, 28, 28])\n"
     ]
    },
    {
     "data": {
      "text/plain": [
       "'window_3dcfdbb6a9f4de'"
      ]
     },
     "execution_count": 77,
     "metadata": {},
     "output_type": "execute_result"
    }
   ],
   "source": [
    "data=MNIST.__getitem__(0)\n",
    "print(data[0].shape)\n",
    "vis.images(data[0],env='main')"
   ]
  },
  {
   "cell_type": "code",
   "execution_count": 78,
   "metadata": {},
   "outputs": [],
   "source": [
    "#DataLoader를 이용해 여러개의 이미지를 볼 수 있는 방법도 있다.\n",
    "data_loader=torch.utils.data.DataLoader(dataset=MNIST,batch_size=32, shuffle=True)"
   ]
  },
  {
   "cell_type": "code",
   "execution_count": 79,
   "metadata": {},
   "outputs": [
    {
     "name": "stdout",
     "output_type": "stream",
     "text": [
      "torch.Size([32, 1, 28, 28])\n"
     ]
    }
   ],
   "source": [
    "for num, value in enumerate(data_loader):\n",
    "    value=value[0]\n",
    "    print(value.shape)\n",
    "    vis.images(value)\n",
    "    break"
   ]
  },
  {
   "cell_type": "code",
   "execution_count": 90,
   "metadata": {},
   "outputs": [
    {
     "data": {
      "text/plain": [
       "''"
      ]
     },
     "execution_count": 90,
     "metadata": {},
     "output_type": "execute_result"
    }
   ],
   "source": [
    "vis.close(env='main')           # env='main'인 애들을 모두 꺼주라는 얘기"
   ]
  },
  {
   "cell_type": "markdown",
   "metadata": {},
   "source": [
    "# LINE PLOT"
   ]
  },
  {
   "cell_type": "code",
   "execution_count": 81,
   "metadata": {},
   "outputs": [],
   "source": [
    "Y_data=torch.randn(5)               \n",
    "plt=vis.line(Y=Y_data)          # 점 다섯개가 생긴다. 만약 X값을 넣지 않으면 X가 0~1사이의 값에서 Y의 점이 찍힌다."
   ]
  },
  {
   "cell_type": "code",
   "execution_count": 82,
   "metadata": {},
   "outputs": [],
   "source": [
    "X_data=torch.Tensor([1,2,3,4,5])\n",
    "plt=vis.line(X=X_data, Y=Y_data)"
   ]
  },
  {
   "cell_type": "markdown",
   "metadata": {},
   "source": [
    "# LINE UPDATE"
   ]
  },
  {
   "cell_type": "code",
   "execution_count": 83,
   "metadata": {},
   "outputs": [
    {
     "data": {
      "text/plain": [
       "'window_3dcfdbb6b1818e'"
      ]
     },
     "execution_count": 83,
     "metadata": {},
     "output_type": "execute_result"
    }
   ],
   "source": [
    "# 예를 들어 loss값을 하나씩 추가할 때.\n",
    "# 들어가야할 x값과 들어가야할 loss값을 정의를 해서 line에다가 넣어주면 된다.\n",
    "Y_append=torch.randn(1)\n",
    "X_append=torch.Tensor([6])\n",
    "\n",
    "vis.line(X=X_append,Y=Y_append, win=plt, update='append')"
   ]
  },
  {
   "cell_type": "markdown",
   "metadata": {},
   "source": [
    "# Multiple Lines on a Single Window"
   ]
  },
  {
   "cell_type": "code",
   "execution_count": 84,
   "metadata": {},
   "outputs": [
    {
     "name": "stdout",
     "output_type": "stream",
     "text": [
      "tensor([0., 1., 2., 3., 4., 5., 6., 7., 8., 9.])\n",
      "torch.Size([10])\n",
      "tensor([[0.],\n",
      "        [1.],\n",
      "        [2.],\n",
      "        [3.],\n",
      "        [4.],\n",
      "        [5.],\n",
      "        [6.],\n",
      "        [7.],\n",
      "        [8.],\n",
      "        [9.]])\n",
      "torch.Size([10, 1])\n",
      "tensor([[0., 0.],\n",
      "        [1., 1.],\n",
      "        [2., 2.],\n",
      "        [3., 3.],\n",
      "        [4., 4.],\n",
      "        [5., 5.],\n",
      "        [6., 6.],\n",
      "        [7., 7.],\n",
      "        [8., 8.],\n",
      "        [9., 9.]])\n",
      "torch.Size([10, 2])\n"
     ]
    }
   ],
   "source": [
    "num=torch.Tensor(list(range(0,10)))\n",
    "print(num)\n",
    "print(num.shape)\n",
    "num=num.view(-1,1)\n",
    "print(num)\n",
    "print(num.shape)\n",
    "num=torch.cat((num,num), dim=1)             #(10,2) 형태로 바꾼 이유는 아래의 Y의 형태와 맞춰주려고(line을 두개 그리기 위해서.)\n",
    "print(num)\n",
    "print(num.shape)\n",
    "plt=vis.line(Y=torch.randn(10,2),X=num)"
   ]
  },
  {
   "cell_type": "markdown",
   "metadata": {},
   "source": [
    "# Line Info"
   ]
  },
  {
   "cell_type": "code",
   "execution_count": 91,
   "metadata": {},
   "outputs": [],
   "source": [
    "plt=vis.line(Y=Y_data,X=X_data,opts=dict(title='Test',showlegend=True))     # opts= 을 하고 dictionary 형태로 넣어준다. "
   ]
  },
  {
   "cell_type": "code",
   "execution_count": null,
   "metadata": {},
   "outputs": [],
   "source": [
    "# 축의 이름 자체를 설정하는 방법이 있다.\n",
    "plt=vis.line(Y=Y_data, X=X_data, opts=dict(title='Test',legend=['1번'],showlegend=True))"
   ]
  },
  {
   "cell_type": "code",
   "execution_count": 94,
   "metadata": {},
   "outputs": [],
   "source": [
    "# 선이 두개인 경우\n",
    "plt=vis.line(Y=torch.randn(10,2), X=num, opts=dict(title='Test', legend=['1번','2번'],showlegend=True))"
   ]
  },
  {
   "cell_type": "markdown",
   "metadata": {},
   "source": [
    "# Make function for update line"
   ]
  },
  {
   "cell_type": "code",
   "execution_count": null,
   "metadata": {},
   "outputs": [],
   "source": [
    "# cnn에 visdom을 넣어서 loss function이 update 되는 것을 plot해보자.\n",
    "\n",
    "def loss_tracker(loss_plot, loss_value, num):       # update할 plot이름, loss 값, x값 \n",
    "    '''num, loss_value, and Tensor'''\n",
    "    vis.line(X=num,\n",
    "             Y=loss_value,\n",
    "             win=loss_plot,\n",
    "             update='append')"
   ]
  },
  {
   "cell_type": "code",
   "execution_count": 101,
   "metadata": {},
   "outputs": [],
   "source": [
    "plt=vis.line(Y=torch.Tensor(1).zero_())\n",
    "\n",
    "for i in range(500):\n",
    "    loss=torch.randn(1)+i\n",
    "    loss_tracker(plt,loss,torch.Tensor([i]))"
   ]
  },
  {
   "cell_type": "markdown",
   "metadata": {},
   "source": [
    "# close the window"
   ]
  },
  {
   "cell_type": "code",
   "execution_count": 102,
   "metadata": {},
   "outputs": [
    {
     "data": {
      "text/plain": [
       "''"
      ]
     },
     "execution_count": 102,
     "metadata": {},
     "output_type": "execute_result"
    }
   ],
   "source": [
    "vis.close(env='main')"
   ]
  },
  {
   "cell_type": "markdown",
   "metadata": {},
   "source": [
    "# Mnist를 이용해서 실습을 해보자."
   ]
  },
  {
   "cell_type": "code",
   "execution_count": 103,
   "metadata": {},
   "outputs": [
    {
     "name": "stderr",
     "output_type": "stream",
     "text": [
      "Setting up a new session...\n"
     ]
    },
    {
     "data": {
      "text/plain": [
       "''"
      ]
     },
     "execution_count": 103,
     "metadata": {},
     "output_type": "execute_result"
    }
   ],
   "source": [
    "import torch\n",
    "import torch.nn as nn\n",
    "import torchvision.datasets as dsets\n",
    "import torchvision.transforms as transforms \n",
    "import torch.nn.init\n",
    "\n",
    "import visdom\n",
    "\n",
    "vis=visdom.Visdom()\n",
    "vis.close(env='main')\n"
   ]
  },
  {
   "cell_type": "code",
   "execution_count": 104,
   "metadata": {},
   "outputs": [],
   "source": [
    "# cnn에 visdom을 넣어서 loss function이 update 되는 것을 plot해보자.\n",
    "\n",
    "def loss_tracker(loss_plot, loss_value, num):       # update할 plot이름, loss 값, x값 \n",
    "    '''num, loss_value, and Tensor'''\n",
    "    vis.line(X=num,\n",
    "             Y=loss_value,\n",
    "             win=loss_plot,\n",
    "             update='append')"
   ]
  },
  {
   "cell_type": "code",
   "execution_count": null,
   "metadata": {},
   "outputs": [],
   "source": [
    "device=torch.device('cuda' if torch.cuda.is_available() else 'cpu')\n",
    "\n",
    "torch.manual_seed(777)\n",
    "if device=='cuda':\n",
    "    torch.cuda.manual_seed_all(777)"
   ]
  },
  {
   "cell_type": "code",
   "execution_count": 106,
   "metadata": {},
   "outputs": [],
   "source": [
    "# parameters\n",
    "learning_rate=0.001\n",
    "training_epochs=15\n",
    "batch_size=100\n",
    "\n",
    "# MNIST dataset\n",
    "mnist_train=dsets.MNIST(root='C:/git_experiment/RWL_Intern/dh_workspace/모두를 위한 딥러닝/MNIST',\n",
    "                        train=True,\n",
    "                        transform=transforms.ToTensor(),\n",
    "                        download=True)      #transform은 input data를 어떻게 변환해줄 거냐를 의미함. \n",
    "                                            #그냥 받아오면 Tensor value가 아니므로받아온 mnist data를 tensor value로 바꿔준다.\n",
    "mnist_test=dsets.MNIST(root='C:/git_experiment/RWL_Intern/dh_workspace/모두를 위한 딥러닝/MNIST',\n",
    "                       train=False,\n",
    "                       transform=transforms.ToTensor(),\n",
    "                       download=True)"
   ]
  },
  {
   "cell_type": "code",
   "execution_count": 107,
   "metadata": {},
   "outputs": [],
   "source": [
    "data_loader=torch.utils.data.DataLoader(dataset=mnist_train,\n",
    "                                        batch_size=batch_size,\n",
    "                                        shuffle=True,\n",
    "                                        drop_last=True)"
   ]
  },
  {
   "cell_type": "code",
   "execution_count": 108,
   "metadata": {},
   "outputs": [],
   "source": [
    "class CNN(nn.Module):\n",
    "    def __init__(self):\n",
    "        super(CNN,self).__init__()                  #  CNN,self는 현재 클래스(여기서는 CNN)와 현재 객체(여기서는 self)를 명시적으로 지정하는 \n",
    "        self.layer1=torch.nn.Sequential(\n",
    "            torch.nn.Conv2d(1,32,kernel_size=3,stride=1, padding=1),\n",
    "            torch.nn.ReLU(),\n",
    "            nn.MaxPool2d(2)                         # MaxPool2d를 거쳐도 채널의 개수는 변하지 않는다.\n",
    "        )\n",
    "\n",
    "        self.layer2=torch.nn.Sequential(\n",
    "            nn.Conv2d(32,64, kernel_size=3, stride=1, padding=1),\n",
    "            nn.ReLU(),\n",
    "            nn.MaxPool2d(2)\n",
    "        )\n",
    "\n",
    "        self.fc=nn.Linear(7*7*64, 10, bias=True)\n",
    "        torch.nn.init.xavier_uniform_(self.fc.weight)\n",
    "\n",
    "    def forward(self,x):\n",
    "        out=self.layer1(x)\n",
    "        out=self.layer2(out)\n",
    "\n",
    "        out=out.view(out.size(0),-1)\n",
    "        out=self.fc(out)\n",
    "        return out"
   ]
  },
  {
   "cell_type": "code",
   "execution_count": 109,
   "metadata": {},
   "outputs": [],
   "source": [
    "model=CNN().to(device)\n",
    "\n",
    "criterion=nn.CrossEntropyLoss().to(device)\n",
    "optimizer=torch.optim.Adam(model.parameters(), lr=learning_rate)"
   ]
  },
  {
   "cell_type": "markdown",
   "metadata": {},
   "source": [
    "Let's make a plot for mnist"
   ]
  },
  {
   "cell_type": "code",
   "execution_count": 110,
   "metadata": {},
   "outputs": [],
   "source": [
    "loss_plt=vis.line(Y=torch.Tensor(1).zero_(),opts=dict(title='loss_tracker',legend=['loss'],showlegend=True))"
   ]
  },
  {
   "cell_type": "markdown",
   "metadata": {},
   "source": [
    "training with loss_tracker"
   ]
  },
  {
   "cell_type": "code",
   "execution_count": null,
   "metadata": {},
   "outputs": [
    {
     "name": "stdout",
     "output_type": "stream",
     "text": [
      "epoch: 1 cost: 0.22577044367790222\n",
      "epoch: 2 cost: 0.06312766671180725\n",
      "epoch: 3 cost: 0.04643740877509117\n",
      "epoch: 4 cost: 0.03755507618188858\n",
      "epoch: 5 cost: 0.03148474171757698\n",
      "epoch: 6 cost: 0.026334717869758606\n",
      "epoch: 7 cost: 0.021956756711006165\n",
      "epoch: 8 cost: 0.018336869776248932\n",
      "epoch: 9 cost: 0.016243524849414825\n",
      "epoch: 10 cost: 0.013560776598751545\n",
      "epoch: 11 cost: 0.010381104424595833\n",
      "epoch: 12 cost: 0.009994762018322945\n",
      "epoch: 13 cost: 0.008455739356577396\n",
      "epoch: 14 cost: 0.006931321229785681\n",
      "epoch: 15 cost: 0.006881385575979948\n",
      "learning finished\n"
     ]
    }
   ],
   "source": [
    "#training 하는 코드\n",
    "total_batch=len(data_loader)                # 전체 배치 수가 나온다.\n",
    "for epoch in range(training_epochs):\n",
    "    avg_cost=0\n",
    "\n",
    "    for X,Y in data_loader:\n",
    "        X=X.to(device)                      # cuda 연산을 진행하려면 해야한다.\n",
    "        Y=Y.to(device)                      # cuda 연산을 진행하려면 해야한다.\n",
    "\n",
    "        optimizer.zero_grad()\n",
    "        hypothesis=model(X)\n",
    "        cost=criterion(hypothesis,Y)\n",
    "        cost.backward()\n",
    "        optimizer.step()\n",
    "\n",
    "        avg_cost+=cost/total_batch\n",
    "\n",
    "    print('epoch: {} cost: {}'.format(epoch+1,avg_cost))\n",
    "    loss_tracker(loss_plt, torch.Tensor([avg_cost]),torch.Tensor([epoch]))      # epoch 마다 avg_cost를 업데이트를 시킨다.\n",
    "\n",
    "print('learning finished')"
   ]
  },
  {
   "cell_type": "code",
   "execution_count": null,
   "metadata": {},
   "outputs": [],
   "source": []
  }
 ],
 "metadata": {
  "kernelspec": {
   "display_name": "notebook_kernel",
   "language": "python",
   "name": "notebook_kernel"
  },
  "language_info": {
   "codemirror_mode": {
    "name": "ipython",
    "version": 3
   },
   "file_extension": ".py",
   "mimetype": "text/x-python",
   "name": "python",
   "nbconvert_exporter": "python",
   "pygments_lexer": "ipython3",
   "version": "3.12.3"
  }
 },
 "nbformat": 4,
 "nbformat_minor": 2
}
